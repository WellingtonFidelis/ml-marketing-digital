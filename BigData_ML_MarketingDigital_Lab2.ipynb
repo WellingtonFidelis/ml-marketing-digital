{
  "cells": [
    {
      "cell_type": "markdown",
      "metadata": {
        "id": "view-in-github",
        "colab_type": "text"
      },
      "source": [
        "<a href=\"https://colab.research.google.com/github/WellingtonFidelis/ml-marketing-digital/blob/main/BigData_ML_MarketingDigital_Lab2.ipynb\" target=\"_parent\"><img src=\"https://colab.research.google.com/assets/colab-badge.svg\" alt=\"Open In Colab\"/></a>"
      ]
    },
    {
      "cell_type": "markdown",
      "metadata": {
        "id": "6suHB5hC_Wov"
      },
      "source": [
        "# LAB 2\n",
        "\n",
        "## Machine Learning em Marketing Digital\n",
        "\n",
        "Prevendo número de usuários convertidos"
      ]
    },
    {
      "cell_type": "markdown",
      "metadata": {
        "id": "oCMq0Kcr_4zi"
      },
      "source": [
        "## Carregando bibliotecas"
      ]
    },
    {
      "cell_type": "code",
      "execution_count": 1,
      "metadata": {
        "id": "FAWmJuJKAP38"
      },
      "outputs": [],
      "source": [
        "# Se necessário instalar a biblioteca abaixo\n",
        "# ! pip install tidyverse"
      ]
    },
    {
      "cell_type": "code",
      "execution_count": 2,
      "metadata": {
        "id": "Vff5YtYC_4An"
      },
      "outputs": [],
      "source": [
        "import pandas as pd\n",
        "from google.colab import drive\n",
        "import plotly.express as px\n",
        "import plotly.graph_objects as go\n",
        "from sklearn.linear_model import LinearRegression\n",
        "import pickle"
      ]
    },
    {
      "cell_type": "markdown",
      "metadata": {
        "id": "wXt-2JLC_qln"
      },
      "source": [
        "## Carregando o dataset"
      ]
    },
    {
      "cell_type": "code",
      "execution_count": 3,
      "metadata": {
        "colab": {
          "base_uri": "https://localhost:8080/"
        },
        "id": "Tk4t5gaR-R59",
        "outputId": "55a37a87-9b1f-4da7-bee6-0b3ec2d8f57c"
      },
      "outputs": [
        {
          "output_type": "stream",
          "name": "stdout",
          "text": [
            "Drive already mounted at /content/drive; to attempt to forcibly remount, call drive.mount(\"/content/drive\", force_remount=True).\n"
          ]
        }
      ],
      "source": [
        "# Mount Google Drive\n",
        "drive.mount('/content/drive')\n",
        "\n",
        "# Specify the path to the dataset in your Google Drive\n",
        "dataset_path = '/content/drive/MyDrive/Courses/BigData_Analytics_R_MS_A_ML/Cap11/Regressão/dataset.csv'\n",
        "\n",
        "# Load the dataset using Pandas\n",
        "df = pd.read_csv(dataset_path)\n"
      ]
    },
    {
      "cell_type": "markdown",
      "metadata": {
        "id": "nCZOfUw-E9aL"
      },
      "source": [
        "## Pré-Analise"
      ]
    },
    {
      "cell_type": "markdown",
      "metadata": {
        "id": "Uf48qUrCFs4R"
      },
      "source": [
        "Primeiras linhas do dataset"
      ]
    },
    {
      "cell_type": "code",
      "execution_count": 4,
      "metadata": {
        "colab": {
          "base_uri": "https://localhost:8080/",
          "height": 0
        },
        "id": "Yj9MIdqwE5Cg",
        "outputId": "a1f7a147-c946-4631-d6a9-b8038c884843"
      },
      "outputs": [
        {
          "output_type": "execute_result",
          "data": {
            "text/plain": [
              "   valor_gasto_campanha  numero_visualizacoes  numero_cliques  \\\n",
              "0                   875                  4390              54   \n",
              "1                  1451                  7120              90   \n",
              "2                  1232                  6198              67   \n",
              "3                  1099                  5554              70   \n",
              "4                   656                  3336              41   \n",
              "\n",
              "   usuarios_convertidos  \n",
              "0                    30  \n",
              "1                    72  \n",
              "2                    47  \n",
              "3                    63  \n",
              "4                    34  "
            ],
            "text/html": [
              "\n",
              "  <div id=\"df-5142a668-986e-41ea-8e49-72f339d90d9e\" class=\"colab-df-container\">\n",
              "    <div>\n",
              "<style scoped>\n",
              "    .dataframe tbody tr th:only-of-type {\n",
              "        vertical-align: middle;\n",
              "    }\n",
              "\n",
              "    .dataframe tbody tr th {\n",
              "        vertical-align: top;\n",
              "    }\n",
              "\n",
              "    .dataframe thead th {\n",
              "        text-align: right;\n",
              "    }\n",
              "</style>\n",
              "<table border=\"1\" class=\"dataframe\">\n",
              "  <thead>\n",
              "    <tr style=\"text-align: right;\">\n",
              "      <th></th>\n",
              "      <th>valor_gasto_campanha</th>\n",
              "      <th>numero_visualizacoes</th>\n",
              "      <th>numero_cliques</th>\n",
              "      <th>usuarios_convertidos</th>\n",
              "    </tr>\n",
              "  </thead>\n",
              "  <tbody>\n",
              "    <tr>\n",
              "      <th>0</th>\n",
              "      <td>875</td>\n",
              "      <td>4390</td>\n",
              "      <td>54</td>\n",
              "      <td>30</td>\n",
              "    </tr>\n",
              "    <tr>\n",
              "      <th>1</th>\n",
              "      <td>1451</td>\n",
              "      <td>7120</td>\n",
              "      <td>90</td>\n",
              "      <td>72</td>\n",
              "    </tr>\n",
              "    <tr>\n",
              "      <th>2</th>\n",
              "      <td>1232</td>\n",
              "      <td>6198</td>\n",
              "      <td>67</td>\n",
              "      <td>47</td>\n",
              "    </tr>\n",
              "    <tr>\n",
              "      <th>3</th>\n",
              "      <td>1099</td>\n",
              "      <td>5554</td>\n",
              "      <td>70</td>\n",
              "      <td>63</td>\n",
              "    </tr>\n",
              "    <tr>\n",
              "      <th>4</th>\n",
              "      <td>656</td>\n",
              "      <td>3336</td>\n",
              "      <td>41</td>\n",
              "      <td>34</td>\n",
              "    </tr>\n",
              "  </tbody>\n",
              "</table>\n",
              "</div>\n",
              "    <div class=\"colab-df-buttons\">\n",
              "\n",
              "  <div class=\"colab-df-container\">\n",
              "    <button class=\"colab-df-convert\" onclick=\"convertToInteractive('df-5142a668-986e-41ea-8e49-72f339d90d9e')\"\n",
              "            title=\"Convert this dataframe to an interactive table.\"\n",
              "            style=\"display:none;\">\n",
              "\n",
              "  <svg xmlns=\"http://www.w3.org/2000/svg\" height=\"24px\" viewBox=\"0 -960 960 960\">\n",
              "    <path d=\"M120-120v-720h720v720H120Zm60-500h600v-160H180v160Zm220 220h160v-160H400v160Zm0 220h160v-160H400v160ZM180-400h160v-160H180v160Zm440 0h160v-160H620v160ZM180-180h160v-160H180v160Zm440 0h160v-160H620v160Z\"/>\n",
              "  </svg>\n",
              "    </button>\n",
              "\n",
              "  <style>\n",
              "    .colab-df-container {\n",
              "      display:flex;\n",
              "      gap: 12px;\n",
              "    }\n",
              "\n",
              "    .colab-df-convert {\n",
              "      background-color: #E8F0FE;\n",
              "      border: none;\n",
              "      border-radius: 50%;\n",
              "      cursor: pointer;\n",
              "      display: none;\n",
              "      fill: #1967D2;\n",
              "      height: 32px;\n",
              "      padding: 0 0 0 0;\n",
              "      width: 32px;\n",
              "    }\n",
              "\n",
              "    .colab-df-convert:hover {\n",
              "      background-color: #E2EBFA;\n",
              "      box-shadow: 0px 1px 2px rgba(60, 64, 67, 0.3), 0px 1px 3px 1px rgba(60, 64, 67, 0.15);\n",
              "      fill: #174EA6;\n",
              "    }\n",
              "\n",
              "    .colab-df-buttons div {\n",
              "      margin-bottom: 4px;\n",
              "    }\n",
              "\n",
              "    [theme=dark] .colab-df-convert {\n",
              "      background-color: #3B4455;\n",
              "      fill: #D2E3FC;\n",
              "    }\n",
              "\n",
              "    [theme=dark] .colab-df-convert:hover {\n",
              "      background-color: #434B5C;\n",
              "      box-shadow: 0px 1px 3px 1px rgba(0, 0, 0, 0.15);\n",
              "      filter: drop-shadow(0px 1px 2px rgba(0, 0, 0, 0.3));\n",
              "      fill: #FFFFFF;\n",
              "    }\n",
              "  </style>\n",
              "\n",
              "    <script>\n",
              "      const buttonEl =\n",
              "        document.querySelector('#df-5142a668-986e-41ea-8e49-72f339d90d9e button.colab-df-convert');\n",
              "      buttonEl.style.display =\n",
              "        google.colab.kernel.accessAllowed ? 'block' : 'none';\n",
              "\n",
              "      async function convertToInteractive(key) {\n",
              "        const element = document.querySelector('#df-5142a668-986e-41ea-8e49-72f339d90d9e');\n",
              "        const dataTable =\n",
              "          await google.colab.kernel.invokeFunction('convertToInteractive',\n",
              "                                                    [key], {});\n",
              "        if (!dataTable) return;\n",
              "\n",
              "        const docLinkHtml = 'Like what you see? Visit the ' +\n",
              "          '<a target=\"_blank\" href=https://colab.research.google.com/notebooks/data_table.ipynb>data table notebook</a>'\n",
              "          + ' to learn more about interactive tables.';\n",
              "        element.innerHTML = '';\n",
              "        dataTable['output_type'] = 'display_data';\n",
              "        await google.colab.output.renderOutput(dataTable, element);\n",
              "        const docLink = document.createElement('div');\n",
              "        docLink.innerHTML = docLinkHtml;\n",
              "        element.appendChild(docLink);\n",
              "      }\n",
              "    </script>\n",
              "  </div>\n",
              "\n",
              "\n",
              "<div id=\"df-91842b52-9890-43ca-b1fe-2e7b75ce12d8\">\n",
              "  <button class=\"colab-df-quickchart\" onclick=\"quickchart('df-91842b52-9890-43ca-b1fe-2e7b75ce12d8')\"\n",
              "            title=\"Suggest charts\"\n",
              "            style=\"display:none;\">\n",
              "\n",
              "<svg xmlns=\"http://www.w3.org/2000/svg\" height=\"24px\"viewBox=\"0 0 24 24\"\n",
              "     width=\"24px\">\n",
              "    <g>\n",
              "        <path d=\"M19 3H5c-1.1 0-2 .9-2 2v14c0 1.1.9 2 2 2h14c1.1 0 2-.9 2-2V5c0-1.1-.9-2-2-2zM9 17H7v-7h2v7zm4 0h-2V7h2v10zm4 0h-2v-4h2v4z\"/>\n",
              "    </g>\n",
              "</svg>\n",
              "  </button>\n",
              "\n",
              "<style>\n",
              "  .colab-df-quickchart {\n",
              "      --bg-color: #E8F0FE;\n",
              "      --fill-color: #1967D2;\n",
              "      --hover-bg-color: #E2EBFA;\n",
              "      --hover-fill-color: #174EA6;\n",
              "      --disabled-fill-color: #AAA;\n",
              "      --disabled-bg-color: #DDD;\n",
              "  }\n",
              "\n",
              "  [theme=dark] .colab-df-quickchart {\n",
              "      --bg-color: #3B4455;\n",
              "      --fill-color: #D2E3FC;\n",
              "      --hover-bg-color: #434B5C;\n",
              "      --hover-fill-color: #FFFFFF;\n",
              "      --disabled-bg-color: #3B4455;\n",
              "      --disabled-fill-color: #666;\n",
              "  }\n",
              "\n",
              "  .colab-df-quickchart {\n",
              "    background-color: var(--bg-color);\n",
              "    border: none;\n",
              "    border-radius: 50%;\n",
              "    cursor: pointer;\n",
              "    display: none;\n",
              "    fill: var(--fill-color);\n",
              "    height: 32px;\n",
              "    padding: 0;\n",
              "    width: 32px;\n",
              "  }\n",
              "\n",
              "  .colab-df-quickchart:hover {\n",
              "    background-color: var(--hover-bg-color);\n",
              "    box-shadow: 0 1px 2px rgba(60, 64, 67, 0.3), 0 1px 3px 1px rgba(60, 64, 67, 0.15);\n",
              "    fill: var(--button-hover-fill-color);\n",
              "  }\n",
              "\n",
              "  .colab-df-quickchart-complete:disabled,\n",
              "  .colab-df-quickchart-complete:disabled:hover {\n",
              "    background-color: var(--disabled-bg-color);\n",
              "    fill: var(--disabled-fill-color);\n",
              "    box-shadow: none;\n",
              "  }\n",
              "\n",
              "  .colab-df-spinner {\n",
              "    border: 2px solid var(--fill-color);\n",
              "    border-color: transparent;\n",
              "    border-bottom-color: var(--fill-color);\n",
              "    animation:\n",
              "      spin 1s steps(1) infinite;\n",
              "  }\n",
              "\n",
              "  @keyframes spin {\n",
              "    0% {\n",
              "      border-color: transparent;\n",
              "      border-bottom-color: var(--fill-color);\n",
              "      border-left-color: var(--fill-color);\n",
              "    }\n",
              "    20% {\n",
              "      border-color: transparent;\n",
              "      border-left-color: var(--fill-color);\n",
              "      border-top-color: var(--fill-color);\n",
              "    }\n",
              "    30% {\n",
              "      border-color: transparent;\n",
              "      border-left-color: var(--fill-color);\n",
              "      border-top-color: var(--fill-color);\n",
              "      border-right-color: var(--fill-color);\n",
              "    }\n",
              "    40% {\n",
              "      border-color: transparent;\n",
              "      border-right-color: var(--fill-color);\n",
              "      border-top-color: var(--fill-color);\n",
              "    }\n",
              "    60% {\n",
              "      border-color: transparent;\n",
              "      border-right-color: var(--fill-color);\n",
              "    }\n",
              "    80% {\n",
              "      border-color: transparent;\n",
              "      border-right-color: var(--fill-color);\n",
              "      border-bottom-color: var(--fill-color);\n",
              "    }\n",
              "    90% {\n",
              "      border-color: transparent;\n",
              "      border-bottom-color: var(--fill-color);\n",
              "    }\n",
              "  }\n",
              "</style>\n",
              "\n",
              "  <script>\n",
              "    async function quickchart(key) {\n",
              "      const quickchartButtonEl =\n",
              "        document.querySelector('#' + key + ' button');\n",
              "      quickchartButtonEl.disabled = true;  // To prevent multiple clicks.\n",
              "      quickchartButtonEl.classList.add('colab-df-spinner');\n",
              "      try {\n",
              "        const charts = await google.colab.kernel.invokeFunction(\n",
              "            'suggestCharts', [key], {});\n",
              "      } catch (error) {\n",
              "        console.error('Error during call to suggestCharts:', error);\n",
              "      }\n",
              "      quickchartButtonEl.classList.remove('colab-df-spinner');\n",
              "      quickchartButtonEl.classList.add('colab-df-quickchart-complete');\n",
              "    }\n",
              "    (() => {\n",
              "      let quickchartButtonEl =\n",
              "        document.querySelector('#df-91842b52-9890-43ca-b1fe-2e7b75ce12d8 button');\n",
              "      quickchartButtonEl.style.display =\n",
              "        google.colab.kernel.accessAllowed ? 'block' : 'none';\n",
              "    })();\n",
              "  </script>\n",
              "</div>\n",
              "\n",
              "    </div>\n",
              "  </div>\n"
            ],
            "application/vnd.google.colaboratory.intrinsic+json": {
              "type": "dataframe",
              "variable_name": "df",
              "summary": "{\n  \"name\": \"df\",\n  \"rows\": 500,\n  \"fields\": [\n    {\n      \"column\": \"valor_gasto_campanha\",\n      \"properties\": {\n        \"dtype\": \"number\",\n        \"std\": 298,\n        \"min\": 505,\n        \"max\": 1493,\n        \"num_unique_values\": 399,\n        \"samples\": [\n          1192,\n          829,\n          1466\n        ],\n        \"semantic_type\": \"\",\n        \"description\": \"\"\n      }\n    },\n    {\n      \"column\": \"numero_visualizacoes\",\n      \"properties\": {\n        \"dtype\": \"number\",\n        \"std\": 1487,\n        \"min\": 2376,\n        \"max\": 7528,\n        \"num_unique_values\": 476,\n        \"samples\": [\n          7075,\n          7264,\n          4346\n        ],\n        \"semantic_type\": \"\",\n        \"description\": \"\"\n      }\n    },\n    {\n      \"column\": \"numero_cliques\",\n      \"properties\": {\n        \"dtype\": \"number\",\n        \"std\": 20,\n        \"min\": 9,\n        \"max\": 116,\n        \"num_unique_values\": 88,\n        \"samples\": [\n          98,\n          54,\n          78\n        ],\n        \"semantic_type\": \"\",\n        \"description\": \"\"\n      }\n    },\n    {\n      \"column\": \"usuarios_convertidos\",\n      \"properties\": {\n        \"dtype\": \"number\",\n        \"std\": 18,\n        \"min\": 4,\n        \"max\": 101,\n        \"num_unique_values\": 84,\n        \"samples\": [\n          80,\n          30,\n          22\n        ],\n        \"semantic_type\": \"\",\n        \"description\": \"\"\n      }\n    }\n  ]\n}"
            }
          },
          "metadata": {},
          "execution_count": 4
        }
      ],
      "source": [
        "df.head(n=5)"
      ]
    },
    {
      "cell_type": "markdown",
      "metadata": {
        "id": "4r1kQtlLFzjS"
      },
      "source": [
        "Tipos de dados"
      ]
    },
    {
      "cell_type": "code",
      "execution_count": 5,
      "metadata": {
        "colab": {
          "base_uri": "https://localhost:8080/"
        },
        "id": "eoo09FmUFXMa",
        "outputId": "c31fdd68-2f6f-4c83-d891-8f66c7b89848"
      },
      "outputs": [
        {
          "output_type": "stream",
          "name": "stdout",
          "text": [
            "<class 'pandas.core.frame.DataFrame'>\n",
            "RangeIndex: 500 entries, 0 to 499\n",
            "Data columns (total 4 columns):\n",
            " #   Column                Non-Null Count  Dtype\n",
            "---  ------                --------------  -----\n",
            " 0   valor_gasto_campanha  500 non-null    int64\n",
            " 1   numero_visualizacoes  500 non-null    int64\n",
            " 2   numero_cliques        500 non-null    int64\n",
            " 3   usuarios_convertidos  500 non-null    int64\n",
            "dtypes: int64(4)\n",
            "memory usage: 15.8 KB\n"
          ]
        }
      ],
      "source": [
        "df.info()"
      ]
    },
    {
      "cell_type": "markdown",
      "metadata": {
        "id": "4aHpUY-SF8IY"
      },
      "source": [
        "## Análise Exploratória"
      ]
    },
    {
      "cell_type": "code",
      "execution_count": 6,
      "metadata": {
        "colab": {
          "base_uri": "https://localhost:8080/",
          "height": 0
        },
        "id": "zYRxeG_XFT2X",
        "outputId": "f39eeb95-5960-4f17-ee15-991a93fbdcc1"
      },
      "outputs": [
        {
          "output_type": "execute_result",
          "data": {
            "text/plain": [
              "       valor_gasto_campanha  numero_visualizacoes  numero_cliques  \\\n",
              "count            500.000000            500.000000      500.000000   \n",
              "mean             998.554000           5004.508000       64.568000   \n",
              "std              298.688354           1487.477168       20.928195   \n",
              "min              505.000000           2376.000000        9.000000   \n",
              "25%              741.500000           3710.500000       47.000000   \n",
              "50%             1013.000000           5112.500000       65.000000   \n",
              "75%             1256.500000           6279.500000       81.250000   \n",
              "max             1493.000000           7528.000000      116.000000   \n",
              "\n",
              "       usuarios_convertidos  \n",
              "count            500.000000  \n",
              "mean              49.626000  \n",
              "std               18.405969  \n",
              "min                4.000000  \n",
              "25%               36.000000  \n",
              "50%               49.000000  \n",
              "75%               63.000000  \n",
              "max              101.000000  "
            ],
            "text/html": [
              "\n",
              "  <div id=\"df-a12c38a1-52e2-4bc4-b8b1-8b83fbb51861\" class=\"colab-df-container\">\n",
              "    <div>\n",
              "<style scoped>\n",
              "    .dataframe tbody tr th:only-of-type {\n",
              "        vertical-align: middle;\n",
              "    }\n",
              "\n",
              "    .dataframe tbody tr th {\n",
              "        vertical-align: top;\n",
              "    }\n",
              "\n",
              "    .dataframe thead th {\n",
              "        text-align: right;\n",
              "    }\n",
              "</style>\n",
              "<table border=\"1\" class=\"dataframe\">\n",
              "  <thead>\n",
              "    <tr style=\"text-align: right;\">\n",
              "      <th></th>\n",
              "      <th>valor_gasto_campanha</th>\n",
              "      <th>numero_visualizacoes</th>\n",
              "      <th>numero_cliques</th>\n",
              "      <th>usuarios_convertidos</th>\n",
              "    </tr>\n",
              "  </thead>\n",
              "  <tbody>\n",
              "    <tr>\n",
              "      <th>count</th>\n",
              "      <td>500.000000</td>\n",
              "      <td>500.000000</td>\n",
              "      <td>500.000000</td>\n",
              "      <td>500.000000</td>\n",
              "    </tr>\n",
              "    <tr>\n",
              "      <th>mean</th>\n",
              "      <td>998.554000</td>\n",
              "      <td>5004.508000</td>\n",
              "      <td>64.568000</td>\n",
              "      <td>49.626000</td>\n",
              "    </tr>\n",
              "    <tr>\n",
              "      <th>std</th>\n",
              "      <td>298.688354</td>\n",
              "      <td>1487.477168</td>\n",
              "      <td>20.928195</td>\n",
              "      <td>18.405969</td>\n",
              "    </tr>\n",
              "    <tr>\n",
              "      <th>min</th>\n",
              "      <td>505.000000</td>\n",
              "      <td>2376.000000</td>\n",
              "      <td>9.000000</td>\n",
              "      <td>4.000000</td>\n",
              "    </tr>\n",
              "    <tr>\n",
              "      <th>25%</th>\n",
              "      <td>741.500000</td>\n",
              "      <td>3710.500000</td>\n",
              "      <td>47.000000</td>\n",
              "      <td>36.000000</td>\n",
              "    </tr>\n",
              "    <tr>\n",
              "      <th>50%</th>\n",
              "      <td>1013.000000</td>\n",
              "      <td>5112.500000</td>\n",
              "      <td>65.000000</td>\n",
              "      <td>49.000000</td>\n",
              "    </tr>\n",
              "    <tr>\n",
              "      <th>75%</th>\n",
              "      <td>1256.500000</td>\n",
              "      <td>6279.500000</td>\n",
              "      <td>81.250000</td>\n",
              "      <td>63.000000</td>\n",
              "    </tr>\n",
              "    <tr>\n",
              "      <th>max</th>\n",
              "      <td>1493.000000</td>\n",
              "      <td>7528.000000</td>\n",
              "      <td>116.000000</td>\n",
              "      <td>101.000000</td>\n",
              "    </tr>\n",
              "  </tbody>\n",
              "</table>\n",
              "</div>\n",
              "    <div class=\"colab-df-buttons\">\n",
              "\n",
              "  <div class=\"colab-df-container\">\n",
              "    <button class=\"colab-df-convert\" onclick=\"convertToInteractive('df-a12c38a1-52e2-4bc4-b8b1-8b83fbb51861')\"\n",
              "            title=\"Convert this dataframe to an interactive table.\"\n",
              "            style=\"display:none;\">\n",
              "\n",
              "  <svg xmlns=\"http://www.w3.org/2000/svg\" height=\"24px\" viewBox=\"0 -960 960 960\">\n",
              "    <path d=\"M120-120v-720h720v720H120Zm60-500h600v-160H180v160Zm220 220h160v-160H400v160Zm0 220h160v-160H400v160ZM180-400h160v-160H180v160Zm440 0h160v-160H620v160ZM180-180h160v-160H180v160Zm440 0h160v-160H620v160Z\"/>\n",
              "  </svg>\n",
              "    </button>\n",
              "\n",
              "  <style>\n",
              "    .colab-df-container {\n",
              "      display:flex;\n",
              "      gap: 12px;\n",
              "    }\n",
              "\n",
              "    .colab-df-convert {\n",
              "      background-color: #E8F0FE;\n",
              "      border: none;\n",
              "      border-radius: 50%;\n",
              "      cursor: pointer;\n",
              "      display: none;\n",
              "      fill: #1967D2;\n",
              "      height: 32px;\n",
              "      padding: 0 0 0 0;\n",
              "      width: 32px;\n",
              "    }\n",
              "\n",
              "    .colab-df-convert:hover {\n",
              "      background-color: #E2EBFA;\n",
              "      box-shadow: 0px 1px 2px rgba(60, 64, 67, 0.3), 0px 1px 3px 1px rgba(60, 64, 67, 0.15);\n",
              "      fill: #174EA6;\n",
              "    }\n",
              "\n",
              "    .colab-df-buttons div {\n",
              "      margin-bottom: 4px;\n",
              "    }\n",
              "\n",
              "    [theme=dark] .colab-df-convert {\n",
              "      background-color: #3B4455;\n",
              "      fill: #D2E3FC;\n",
              "    }\n",
              "\n",
              "    [theme=dark] .colab-df-convert:hover {\n",
              "      background-color: #434B5C;\n",
              "      box-shadow: 0px 1px 3px 1px rgba(0, 0, 0, 0.15);\n",
              "      filter: drop-shadow(0px 1px 2px rgba(0, 0, 0, 0.3));\n",
              "      fill: #FFFFFF;\n",
              "    }\n",
              "  </style>\n",
              "\n",
              "    <script>\n",
              "      const buttonEl =\n",
              "        document.querySelector('#df-a12c38a1-52e2-4bc4-b8b1-8b83fbb51861 button.colab-df-convert');\n",
              "      buttonEl.style.display =\n",
              "        google.colab.kernel.accessAllowed ? 'block' : 'none';\n",
              "\n",
              "      async function convertToInteractive(key) {\n",
              "        const element = document.querySelector('#df-a12c38a1-52e2-4bc4-b8b1-8b83fbb51861');\n",
              "        const dataTable =\n",
              "          await google.colab.kernel.invokeFunction('convertToInteractive',\n",
              "                                                    [key], {});\n",
              "        if (!dataTable) return;\n",
              "\n",
              "        const docLinkHtml = 'Like what you see? Visit the ' +\n",
              "          '<a target=\"_blank\" href=https://colab.research.google.com/notebooks/data_table.ipynb>data table notebook</a>'\n",
              "          + ' to learn more about interactive tables.';\n",
              "        element.innerHTML = '';\n",
              "        dataTable['output_type'] = 'display_data';\n",
              "        await google.colab.output.renderOutput(dataTable, element);\n",
              "        const docLink = document.createElement('div');\n",
              "        docLink.innerHTML = docLinkHtml;\n",
              "        element.appendChild(docLink);\n",
              "      }\n",
              "    </script>\n",
              "  </div>\n",
              "\n",
              "\n",
              "<div id=\"df-edab2e0f-2012-400d-aad5-0021b214024c\">\n",
              "  <button class=\"colab-df-quickchart\" onclick=\"quickchart('df-edab2e0f-2012-400d-aad5-0021b214024c')\"\n",
              "            title=\"Suggest charts\"\n",
              "            style=\"display:none;\">\n",
              "\n",
              "<svg xmlns=\"http://www.w3.org/2000/svg\" height=\"24px\"viewBox=\"0 0 24 24\"\n",
              "     width=\"24px\">\n",
              "    <g>\n",
              "        <path d=\"M19 3H5c-1.1 0-2 .9-2 2v14c0 1.1.9 2 2 2h14c1.1 0 2-.9 2-2V5c0-1.1-.9-2-2-2zM9 17H7v-7h2v7zm4 0h-2V7h2v10zm4 0h-2v-4h2v4z\"/>\n",
              "    </g>\n",
              "</svg>\n",
              "  </button>\n",
              "\n",
              "<style>\n",
              "  .colab-df-quickchart {\n",
              "      --bg-color: #E8F0FE;\n",
              "      --fill-color: #1967D2;\n",
              "      --hover-bg-color: #E2EBFA;\n",
              "      --hover-fill-color: #174EA6;\n",
              "      --disabled-fill-color: #AAA;\n",
              "      --disabled-bg-color: #DDD;\n",
              "  }\n",
              "\n",
              "  [theme=dark] .colab-df-quickchart {\n",
              "      --bg-color: #3B4455;\n",
              "      --fill-color: #D2E3FC;\n",
              "      --hover-bg-color: #434B5C;\n",
              "      --hover-fill-color: #FFFFFF;\n",
              "      --disabled-bg-color: #3B4455;\n",
              "      --disabled-fill-color: #666;\n",
              "  }\n",
              "\n",
              "  .colab-df-quickchart {\n",
              "    background-color: var(--bg-color);\n",
              "    border: none;\n",
              "    border-radius: 50%;\n",
              "    cursor: pointer;\n",
              "    display: none;\n",
              "    fill: var(--fill-color);\n",
              "    height: 32px;\n",
              "    padding: 0;\n",
              "    width: 32px;\n",
              "  }\n",
              "\n",
              "  .colab-df-quickchart:hover {\n",
              "    background-color: var(--hover-bg-color);\n",
              "    box-shadow: 0 1px 2px rgba(60, 64, 67, 0.3), 0 1px 3px 1px rgba(60, 64, 67, 0.15);\n",
              "    fill: var(--button-hover-fill-color);\n",
              "  }\n",
              "\n",
              "  .colab-df-quickchart-complete:disabled,\n",
              "  .colab-df-quickchart-complete:disabled:hover {\n",
              "    background-color: var(--disabled-bg-color);\n",
              "    fill: var(--disabled-fill-color);\n",
              "    box-shadow: none;\n",
              "  }\n",
              "\n",
              "  .colab-df-spinner {\n",
              "    border: 2px solid var(--fill-color);\n",
              "    border-color: transparent;\n",
              "    border-bottom-color: var(--fill-color);\n",
              "    animation:\n",
              "      spin 1s steps(1) infinite;\n",
              "  }\n",
              "\n",
              "  @keyframes spin {\n",
              "    0% {\n",
              "      border-color: transparent;\n",
              "      border-bottom-color: var(--fill-color);\n",
              "      border-left-color: var(--fill-color);\n",
              "    }\n",
              "    20% {\n",
              "      border-color: transparent;\n",
              "      border-left-color: var(--fill-color);\n",
              "      border-top-color: var(--fill-color);\n",
              "    }\n",
              "    30% {\n",
              "      border-color: transparent;\n",
              "      border-left-color: var(--fill-color);\n",
              "      border-top-color: var(--fill-color);\n",
              "      border-right-color: var(--fill-color);\n",
              "    }\n",
              "    40% {\n",
              "      border-color: transparent;\n",
              "      border-right-color: var(--fill-color);\n",
              "      border-top-color: var(--fill-color);\n",
              "    }\n",
              "    60% {\n",
              "      border-color: transparent;\n",
              "      border-right-color: var(--fill-color);\n",
              "    }\n",
              "    80% {\n",
              "      border-color: transparent;\n",
              "      border-right-color: var(--fill-color);\n",
              "      border-bottom-color: var(--fill-color);\n",
              "    }\n",
              "    90% {\n",
              "      border-color: transparent;\n",
              "      border-bottom-color: var(--fill-color);\n",
              "    }\n",
              "  }\n",
              "</style>\n",
              "\n",
              "  <script>\n",
              "    async function quickchart(key) {\n",
              "      const quickchartButtonEl =\n",
              "        document.querySelector('#' + key + ' button');\n",
              "      quickchartButtonEl.disabled = true;  // To prevent multiple clicks.\n",
              "      quickchartButtonEl.classList.add('colab-df-spinner');\n",
              "      try {\n",
              "        const charts = await google.colab.kernel.invokeFunction(\n",
              "            'suggestCharts', [key], {});\n",
              "      } catch (error) {\n",
              "        console.error('Error during call to suggestCharts:', error);\n",
              "      }\n",
              "      quickchartButtonEl.classList.remove('colab-df-spinner');\n",
              "      quickchartButtonEl.classList.add('colab-df-quickchart-complete');\n",
              "    }\n",
              "    (() => {\n",
              "      let quickchartButtonEl =\n",
              "        document.querySelector('#df-edab2e0f-2012-400d-aad5-0021b214024c button');\n",
              "      quickchartButtonEl.style.display =\n",
              "        google.colab.kernel.accessAllowed ? 'block' : 'none';\n",
              "    })();\n",
              "  </script>\n",
              "</div>\n",
              "\n",
              "    </div>\n",
              "  </div>\n"
            ],
            "application/vnd.google.colaboratory.intrinsic+json": {
              "type": "dataframe",
              "summary": "{\n  \"name\": \"df\",\n  \"rows\": 8,\n  \"fields\": [\n    {\n      \"column\": \"valor_gasto_campanha\",\n      \"properties\": {\n        \"dtype\": \"number\",\n        \"std\": 411.3680054838299,\n        \"min\": 298.68835355450034,\n        \"max\": 1493.0,\n        \"num_unique_values\": 8,\n        \"samples\": [\n          998.554,\n          1013.0,\n          500.0\n        ],\n        \"semantic_type\": \"\",\n        \"description\": \"\"\n      }\n    },\n    {\n      \"column\": \"numero_visualizacoes\",\n      \"properties\": {\n        \"dtype\": \"number\",\n        \"std\": 2425.270346179528,\n        \"min\": 500.0,\n        \"max\": 7528.0,\n        \"num_unique_values\": 8,\n        \"samples\": [\n          5004.508,\n          5112.5,\n          500.0\n        ],\n        \"semantic_type\": \"\",\n        \"description\": \"\"\n      }\n    },\n    {\n      \"column\": \"numero_cliques\",\n      \"properties\": {\n        \"dtype\": \"number\",\n        \"std\": 159.94862135312079,\n        \"min\": 9.0,\n        \"max\": 500.0,\n        \"num_unique_values\": 8,\n        \"samples\": [\n          64.568,\n          65.0,\n          500.0\n        ],\n        \"semantic_type\": \"\",\n        \"description\": \"\"\n      }\n    },\n    {\n      \"column\": \"usuarios_convertidos\",\n      \"properties\": {\n        \"dtype\": \"number\",\n        \"std\": 163.19262625948528,\n        \"min\": 4.0,\n        \"max\": 500.0,\n        \"num_unique_values\": 8,\n        \"samples\": [\n          49.626,\n          49.0,\n          500.0\n        ],\n        \"semantic_type\": \"\",\n        \"description\": \"\"\n      }\n    }\n  ]\n}"
            }
          },
          "metadata": {},
          "execution_count": 6
        }
      ],
      "source": [
        "df.describe()"
      ]
    },
    {
      "cell_type": "code",
      "execution_count": 7,
      "metadata": {
        "colab": {
          "base_uri": "https://localhost:8080/"
        },
        "id": "s2Vz75inFdFG",
        "outputId": "fc90f252-af0c-4ef4-dd59-8e0bcadd0360"
      },
      "outputs": [
        {
          "output_type": "execute_result",
          "data": {
            "text/plain": [
              "(500, 4)"
            ]
          },
          "metadata": {},
          "execution_count": 7
        }
      ],
      "source": [
        "df.shape"
      ]
    },
    {
      "cell_type": "markdown",
      "metadata": {
        "id": "m7GwnzMpW4Yj"
      },
      "source": [
        "**Heatmap**\n",
        "\n",
        "Map de calor"
      ]
    },
    {
      "cell_type": "code",
      "execution_count": 8,
      "metadata": {
        "colab": {
          "base_uri": "https://localhost:8080/",
          "height": 0
        },
        "id": "AX2NIVo4FfmF",
        "outputId": "13e7f16e-0b3b-4066-f715-1bcebbd0106d"
      },
      "outputs": [
        {
          "output_type": "display_data",
          "data": {
            "text/html": [
              "<html>\n",
              "<head><meta charset=\"utf-8\" /></head>\n",
              "<body>\n",
              "    <div>            <script src=\"https://cdnjs.cloudflare.com/ajax/libs/mathjax/2.7.5/MathJax.js?config=TeX-AMS-MML_SVG\"></script><script type=\"text/javascript\">if (window.MathJax && window.MathJax.Hub && window.MathJax.Hub.Config) {window.MathJax.Hub.Config({SVG: {font: \"STIX-Web\"}});}</script>                <script type=\"text/javascript\">window.PlotlyConfig = {MathJaxConfig: 'local'};</script>\n",
              "        <script charset=\"utf-8\" src=\"https://cdn.plot.ly/plotly-2.24.1.min.js\"></script>                <div id=\"b1cfa6a8-ad33-427a-8a3c-f7bf2b06b4e6\" class=\"plotly-graph-div\" style=\"height:525px; width:100%;\"></div>            <script type=\"text/javascript\">                                    window.PLOTLYENV=window.PLOTLYENV || {};                                    if (document.getElementById(\"b1cfa6a8-ad33-427a-8a3c-f7bf2b06b4e6\")) {                    Plotly.newPlot(                        \"b1cfa6a8-ad33-427a-8a3c-f7bf2b06b4e6\",                        [{\"coloraxis\":\"coloraxis\",\"name\":\"0\",\"texttemplate\":\"%{z}\",\"x\":[\"valor_gasto_campanha\",\"numero_visualizacoes\",\"numero_cliques\",\"usuarios_convertidos\"],\"y\":[\"valor_gasto_campanha\",\"numero_visualizacoes\",\"numero_cliques\",\"usuarios_convertidos\"],\"z\":[[1.0,0.9978268787725733,0.9376128169228671,0.8501563772463372],[0.9978268787725733,1.0,0.9365860143963578,0.8481638619299676],[0.9376128169228671,0.9365860143963578,1.0,0.9265649816495695],[0.8501563772463372,0.8481638619299676,0.9265649816495695,1.0]],\"type\":\"heatmap\",\"xaxis\":\"x\",\"yaxis\":\"y\",\"hovertemplate\":\"x: %{x}\\u003cbr\\u003ey: %{y}\\u003cbr\\u003ecolor: %{z}\\u003cextra\\u003e\\u003c\\u002fextra\\u003e\"}],                        {\"template\":{\"data\":{\"histogram2dcontour\":[{\"type\":\"histogram2dcontour\",\"colorbar\":{\"outlinewidth\":0,\"ticks\":\"\"},\"colorscale\":[[0.0,\"#0d0887\"],[0.1111111111111111,\"#46039f\"],[0.2222222222222222,\"#7201a8\"],[0.3333333333333333,\"#9c179e\"],[0.4444444444444444,\"#bd3786\"],[0.5555555555555556,\"#d8576b\"],[0.6666666666666666,\"#ed7953\"],[0.7777777777777778,\"#fb9f3a\"],[0.8888888888888888,\"#fdca26\"],[1.0,\"#f0f921\"]]}],\"choropleth\":[{\"type\":\"choropleth\",\"colorbar\":{\"outlinewidth\":0,\"ticks\":\"\"}}],\"histogram2d\":[{\"type\":\"histogram2d\",\"colorbar\":{\"outlinewidth\":0,\"ticks\":\"\"},\"colorscale\":[[0.0,\"#0d0887\"],[0.1111111111111111,\"#46039f\"],[0.2222222222222222,\"#7201a8\"],[0.3333333333333333,\"#9c179e\"],[0.4444444444444444,\"#bd3786\"],[0.5555555555555556,\"#d8576b\"],[0.6666666666666666,\"#ed7953\"],[0.7777777777777778,\"#fb9f3a\"],[0.8888888888888888,\"#fdca26\"],[1.0,\"#f0f921\"]]}],\"heatmap\":[{\"type\":\"heatmap\",\"colorbar\":{\"outlinewidth\":0,\"ticks\":\"\"},\"colorscale\":[[0.0,\"#0d0887\"],[0.1111111111111111,\"#46039f\"],[0.2222222222222222,\"#7201a8\"],[0.3333333333333333,\"#9c179e\"],[0.4444444444444444,\"#bd3786\"],[0.5555555555555556,\"#d8576b\"],[0.6666666666666666,\"#ed7953\"],[0.7777777777777778,\"#fb9f3a\"],[0.8888888888888888,\"#fdca26\"],[1.0,\"#f0f921\"]]}],\"heatmapgl\":[{\"type\":\"heatmapgl\",\"colorbar\":{\"outlinewidth\":0,\"ticks\":\"\"},\"colorscale\":[[0.0,\"#0d0887\"],[0.1111111111111111,\"#46039f\"],[0.2222222222222222,\"#7201a8\"],[0.3333333333333333,\"#9c179e\"],[0.4444444444444444,\"#bd3786\"],[0.5555555555555556,\"#d8576b\"],[0.6666666666666666,\"#ed7953\"],[0.7777777777777778,\"#fb9f3a\"],[0.8888888888888888,\"#fdca26\"],[1.0,\"#f0f921\"]]}],\"contourcarpet\":[{\"type\":\"contourcarpet\",\"colorbar\":{\"outlinewidth\":0,\"ticks\":\"\"}}],\"contour\":[{\"type\":\"contour\",\"colorbar\":{\"outlinewidth\":0,\"ticks\":\"\"},\"colorscale\":[[0.0,\"#0d0887\"],[0.1111111111111111,\"#46039f\"],[0.2222222222222222,\"#7201a8\"],[0.3333333333333333,\"#9c179e\"],[0.4444444444444444,\"#bd3786\"],[0.5555555555555556,\"#d8576b\"],[0.6666666666666666,\"#ed7953\"],[0.7777777777777778,\"#fb9f3a\"],[0.8888888888888888,\"#fdca26\"],[1.0,\"#f0f921\"]]}],\"surface\":[{\"type\":\"surface\",\"colorbar\":{\"outlinewidth\":0,\"ticks\":\"\"},\"colorscale\":[[0.0,\"#0d0887\"],[0.1111111111111111,\"#46039f\"],[0.2222222222222222,\"#7201a8\"],[0.3333333333333333,\"#9c179e\"],[0.4444444444444444,\"#bd3786\"],[0.5555555555555556,\"#d8576b\"],[0.6666666666666666,\"#ed7953\"],[0.7777777777777778,\"#fb9f3a\"],[0.8888888888888888,\"#fdca26\"],[1.0,\"#f0f921\"]]}],\"mesh3d\":[{\"type\":\"mesh3d\",\"colorbar\":{\"outlinewidth\":0,\"ticks\":\"\"}}],\"scatter\":[{\"fillpattern\":{\"fillmode\":\"overlay\",\"size\":10,\"solidity\":0.2},\"type\":\"scatter\"}],\"parcoords\":[{\"type\":\"parcoords\",\"line\":{\"colorbar\":{\"outlinewidth\":0,\"ticks\":\"\"}}}],\"scatterpolargl\":[{\"type\":\"scatterpolargl\",\"marker\":{\"colorbar\":{\"outlinewidth\":0,\"ticks\":\"\"}}}],\"bar\":[{\"error_x\":{\"color\":\"#2a3f5f\"},\"error_y\":{\"color\":\"#2a3f5f\"},\"marker\":{\"line\":{\"color\":\"#E5ECF6\",\"width\":0.5},\"pattern\":{\"fillmode\":\"overlay\",\"size\":10,\"solidity\":0.2}},\"type\":\"bar\"}],\"scattergeo\":[{\"type\":\"scattergeo\",\"marker\":{\"colorbar\":{\"outlinewidth\":0,\"ticks\":\"\"}}}],\"scatterpolar\":[{\"type\":\"scatterpolar\",\"marker\":{\"colorbar\":{\"outlinewidth\":0,\"ticks\":\"\"}}}],\"histogram\":[{\"marker\":{\"pattern\":{\"fillmode\":\"overlay\",\"size\":10,\"solidity\":0.2}},\"type\":\"histogram\"}],\"scattergl\":[{\"type\":\"scattergl\",\"marker\":{\"colorbar\":{\"outlinewidth\":0,\"ticks\":\"\"}}}],\"scatter3d\":[{\"type\":\"scatter3d\",\"line\":{\"colorbar\":{\"outlinewidth\":0,\"ticks\":\"\"}},\"marker\":{\"colorbar\":{\"outlinewidth\":0,\"ticks\":\"\"}}}],\"scattermapbox\":[{\"type\":\"scattermapbox\",\"marker\":{\"colorbar\":{\"outlinewidth\":0,\"ticks\":\"\"}}}],\"scatterternary\":[{\"type\":\"scatterternary\",\"marker\":{\"colorbar\":{\"outlinewidth\":0,\"ticks\":\"\"}}}],\"scattercarpet\":[{\"type\":\"scattercarpet\",\"marker\":{\"colorbar\":{\"outlinewidth\":0,\"ticks\":\"\"}}}],\"carpet\":[{\"aaxis\":{\"endlinecolor\":\"#2a3f5f\",\"gridcolor\":\"white\",\"linecolor\":\"white\",\"minorgridcolor\":\"white\",\"startlinecolor\":\"#2a3f5f\"},\"baxis\":{\"endlinecolor\":\"#2a3f5f\",\"gridcolor\":\"white\",\"linecolor\":\"white\",\"minorgridcolor\":\"white\",\"startlinecolor\":\"#2a3f5f\"},\"type\":\"carpet\"}],\"table\":[{\"cells\":{\"fill\":{\"color\":\"#EBF0F8\"},\"line\":{\"color\":\"white\"}},\"header\":{\"fill\":{\"color\":\"#C8D4E3\"},\"line\":{\"color\":\"white\"}},\"type\":\"table\"}],\"barpolar\":[{\"marker\":{\"line\":{\"color\":\"#E5ECF6\",\"width\":0.5},\"pattern\":{\"fillmode\":\"overlay\",\"size\":10,\"solidity\":0.2}},\"type\":\"barpolar\"}],\"pie\":[{\"automargin\":true,\"type\":\"pie\"}]},\"layout\":{\"autotypenumbers\":\"strict\",\"colorway\":[\"#636efa\",\"#EF553B\",\"#00cc96\",\"#ab63fa\",\"#FFA15A\",\"#19d3f3\",\"#FF6692\",\"#B6E880\",\"#FF97FF\",\"#FECB52\"],\"font\":{\"color\":\"#2a3f5f\"},\"hovermode\":\"closest\",\"hoverlabel\":{\"align\":\"left\"},\"paper_bgcolor\":\"white\",\"plot_bgcolor\":\"#E5ECF6\",\"polar\":{\"bgcolor\":\"#E5ECF6\",\"angularaxis\":{\"gridcolor\":\"white\",\"linecolor\":\"white\",\"ticks\":\"\"},\"radialaxis\":{\"gridcolor\":\"white\",\"linecolor\":\"white\",\"ticks\":\"\"}},\"ternary\":{\"bgcolor\":\"#E5ECF6\",\"aaxis\":{\"gridcolor\":\"white\",\"linecolor\":\"white\",\"ticks\":\"\"},\"baxis\":{\"gridcolor\":\"white\",\"linecolor\":\"white\",\"ticks\":\"\"},\"caxis\":{\"gridcolor\":\"white\",\"linecolor\":\"white\",\"ticks\":\"\"}},\"coloraxis\":{\"colorbar\":{\"outlinewidth\":0,\"ticks\":\"\"}},\"colorscale\":{\"sequential\":[[0.0,\"#0d0887\"],[0.1111111111111111,\"#46039f\"],[0.2222222222222222,\"#7201a8\"],[0.3333333333333333,\"#9c179e\"],[0.4444444444444444,\"#bd3786\"],[0.5555555555555556,\"#d8576b\"],[0.6666666666666666,\"#ed7953\"],[0.7777777777777778,\"#fb9f3a\"],[0.8888888888888888,\"#fdca26\"],[1.0,\"#f0f921\"]],\"sequentialminus\":[[0.0,\"#0d0887\"],[0.1111111111111111,\"#46039f\"],[0.2222222222222222,\"#7201a8\"],[0.3333333333333333,\"#9c179e\"],[0.4444444444444444,\"#bd3786\"],[0.5555555555555556,\"#d8576b\"],[0.6666666666666666,\"#ed7953\"],[0.7777777777777778,\"#fb9f3a\"],[0.8888888888888888,\"#fdca26\"],[1.0,\"#f0f921\"]],\"diverging\":[[0,\"#8e0152\"],[0.1,\"#c51b7d\"],[0.2,\"#de77ae\"],[0.3,\"#f1b6da\"],[0.4,\"#fde0ef\"],[0.5,\"#f7f7f7\"],[0.6,\"#e6f5d0\"],[0.7,\"#b8e186\"],[0.8,\"#7fbc41\"],[0.9,\"#4d9221\"],[1,\"#276419\"]]},\"xaxis\":{\"gridcolor\":\"white\",\"linecolor\":\"white\",\"ticks\":\"\",\"title\":{\"standoff\":15},\"zerolinecolor\":\"white\",\"automargin\":true,\"zerolinewidth\":2},\"yaxis\":{\"gridcolor\":\"white\",\"linecolor\":\"white\",\"ticks\":\"\",\"title\":{\"standoff\":15},\"zerolinecolor\":\"white\",\"automargin\":true,\"zerolinewidth\":2},\"scene\":{\"xaxis\":{\"backgroundcolor\":\"#E5ECF6\",\"gridcolor\":\"white\",\"linecolor\":\"white\",\"showbackground\":true,\"ticks\":\"\",\"zerolinecolor\":\"white\",\"gridwidth\":2},\"yaxis\":{\"backgroundcolor\":\"#E5ECF6\",\"gridcolor\":\"white\",\"linecolor\":\"white\",\"showbackground\":true,\"ticks\":\"\",\"zerolinecolor\":\"white\",\"gridwidth\":2},\"zaxis\":{\"backgroundcolor\":\"#E5ECF6\",\"gridcolor\":\"white\",\"linecolor\":\"white\",\"showbackground\":true,\"ticks\":\"\",\"zerolinecolor\":\"white\",\"gridwidth\":2}},\"shapedefaults\":{\"line\":{\"color\":\"#2a3f5f\"}},\"annotationdefaults\":{\"arrowcolor\":\"#2a3f5f\",\"arrowhead\":0,\"arrowwidth\":1},\"geo\":{\"bgcolor\":\"white\",\"landcolor\":\"#E5ECF6\",\"subunitcolor\":\"white\",\"showland\":true,\"showlakes\":true,\"lakecolor\":\"white\"},\"title\":{\"x\":0.05},\"mapbox\":{\"style\":\"light\"}}},\"xaxis\":{\"anchor\":\"y\",\"domain\":[0.0,1.0],\"scaleanchor\":\"y\",\"constrain\":\"domain\"},\"yaxis\":{\"anchor\":\"x\",\"domain\":[0.0,1.0],\"autorange\":\"reversed\",\"constrain\":\"domain\"},\"coloraxis\":{\"colorscale\":[[0.0,\"#0d0887\"],[0.1111111111111111,\"#46039f\"],[0.2222222222222222,\"#7201a8\"],[0.3333333333333333,\"#9c179e\"],[0.4444444444444444,\"#bd3786\"],[0.5555555555555556,\"#d8576b\"],[0.6666666666666666,\"#ed7953\"],[0.7777777777777778,\"#fb9f3a\"],[0.8888888888888888,\"#fdca26\"],[1.0,\"#f0f921\"]]},\"title\":{\"text\":\"Mapa de calor\"}},                        {\"responsive\": true}                    ).then(function(){\n",
              "                            \n",
              "var gd = document.getElementById('b1cfa6a8-ad33-427a-8a3c-f7bf2b06b4e6');\n",
              "var x = new MutationObserver(function (mutations, observer) {{\n",
              "        var display = window.getComputedStyle(gd).display;\n",
              "        if (!display || display === 'none') {{\n",
              "            console.log([gd, 'removed!']);\n",
              "            Plotly.purge(gd);\n",
              "            observer.disconnect();\n",
              "        }}\n",
              "}});\n",
              "\n",
              "// Listen for the removal of the full notebook cells\n",
              "var notebookContainer = gd.closest('#notebook-container');\n",
              "if (notebookContainer) {{\n",
              "    x.observe(notebookContainer, {childList: true});\n",
              "}}\n",
              "\n",
              "// Listen for the clearing of the current output cell\n",
              "var outputEl = gd.closest('.output');\n",
              "if (outputEl) {{\n",
              "    x.observe(outputEl, {childList: true});\n",
              "}}\n",
              "\n",
              "                        })                };                            </script>        </div>\n",
              "</body>\n",
              "</html>"
            ]
          },
          "metadata": {}
        }
      ],
      "source": [
        "fig = px.imshow(df.corr(), text_auto=True, title='Mapa de calor')\n",
        "\n",
        "fig.show()"
      ]
    },
    {
      "cell_type": "markdown",
      "source": [
        "❗ Espera-se, sempre, o menor valor na correlação de variáveis preditoras.\n",
        "\n",
        "⚠ Há um problema de multicolinearidade, logo há uma alta correlação entre as variáveis preditoras ou independentes."
      ],
      "metadata": {
        "id": "-QBS5bzYtAO4"
      }
    },
    {
      "cell_type": "markdown",
      "metadata": {
        "id": "0PRpIhe_W98X"
      },
      "source": [
        "Scatter plot entre valor gasto em campanha e usuários convertidos"
      ]
    },
    {
      "cell_type": "code",
      "execution_count": 9,
      "metadata": {
        "colab": {
          "base_uri": "https://localhost:8080/",
          "height": 0
        },
        "id": "pi0BRXy8J96X",
        "outputId": "f673da3c-709e-4174-9b15-1f1941d7eab2"
      },
      "outputs": [
        {
          "output_type": "display_data",
          "data": {
            "text/html": [
              "<html>\n",
              "<head><meta charset=\"utf-8\" /></head>\n",
              "<body>\n",
              "    <div>            <script src=\"https://cdnjs.cloudflare.com/ajax/libs/mathjax/2.7.5/MathJax.js?config=TeX-AMS-MML_SVG\"></script><script type=\"text/javascript\">if (window.MathJax && window.MathJax.Hub && window.MathJax.Hub.Config) {window.MathJax.Hub.Config({SVG: {font: \"STIX-Web\"}});}</script>                <script type=\"text/javascript\">window.PlotlyConfig = {MathJaxConfig: 'local'};</script>\n",
              "        <script charset=\"utf-8\" src=\"https://cdn.plot.ly/plotly-2.24.1.min.js\"></script>                <div id=\"1ac64916-8032-48bd-a97e-891ab7df4b66\" class=\"plotly-graph-div\" style=\"height:525px; width:100%;\"></div>            <script type=\"text/javascript\">                                    window.PLOTLYENV=window.PLOTLYENV || {};                                    if (document.getElementById(\"1ac64916-8032-48bd-a97e-891ab7df4b66\")) {                    Plotly.newPlot(                        \"1ac64916-8032-48bd-a97e-891ab7df4b66\",                        [{\"hovertemplate\":\"Valor gasto=%{x}\\u003cbr\\u003eUsu\\u00e1rios convertidos=%{y}\\u003cextra\\u003e\\u003c\\u002fextra\\u003e\",\"legendgroup\":\"\",\"marker\":{\"color\":\"#636efa\",\"symbol\":\"circle\"},\"mode\":\"markers\",\"name\":\"\",\"orientation\":\"v\",\"showlegend\":false,\"x\":[875,1451,1232,1099,656,656,558,1366,1101,1208,521,1470,1332,712,682,683,804,1025,932,791,1112,639,792,866,956,1285,700,1014,1092,546,1108,671,565,1449,1466,1308,805,598,1184,940,622,995,534,1409,759,1163,812,1020,1047,685,1470,1275,1439,1395,1098,1422,588,696,545,825,889,771,1329,857,781,1043,641,1302,575,1487,1272,699,506,1315,1207,1229,1271,574,858,616,1363,1123,831,564,811,825,1230,1138,1387,972,620,1213,1261,1061,1271,994,1023,928,525,608,531,1136,814,1009,1408,749,910,1256,729,577,790,661,1430,1308,1133,1371,1304,687,1393,1039,1307,1396,818,610,728,927,1318,1361,507,1011,917,722,620,838,1443,823,1019,1203,864,1472,1462,752,997,801,785,537,1110,1003,551,779,1408,740,645,989,1486,742,1172,1262,738,1228,868,1132,1134,1036,590,1335,821,687,541,1091,1178,517,1012,726,1145,674,1191,887,1437,638,841,613,1425,1377,758,1160,1317,1055,1030,742,593,1397,1400,1133,839,849,1226,1397,1387,1280,1142,584,662,1399,1106,509,601,1164,505,661,1049,1192,1152,724,1212,737,825,1246,1150,1349,1158,1068,594,868,765,744,1473,893,1392,1131,1295,1003,1077,993,695,1222,781,524,1145,677,1440,1454,1415,870,515,1428,928,1467,1464,1353,794,885,1351,817,669,1057,1436,1196,1070,597,1115,1490,640,1018,1377,1241,1197,1202,859,794,1309,1310,1367,1413,1011,1002,1298,1150,1202,1296,1390,838,876,594,1078,536,966,1043,787,1091,531,537,1323,860,627,1022,1270,716,1123,585,552,1031,1041,1137,1226,1476,1016,823,1295,771,939,578,525,1463,1336,1196,909,673,656,750,1049,1215,1160,780,1455,1238,1054,1112,920,748,856,1258,514,616,546,541,1355,1204,974,598,992,973,673,934,899,1116,1135,545,875,1126,1003,1356,1159,663,571,1142,527,1086,1440,1075,888,1143,958,1046,1441,886,1461,1405,696,569,601,518,594,1183,571,819,1345,523,1314,782,618,1197,1129,1377,1235,1303,782,677,1251,1307,1491,913,872,1276,841,1431,1358,929,1251,1255,603,1403,1005,1326,820,1396,889,511,1405,591,819,1450,1451,1073,1132,948,793,829,1173,1252,1292,1290,591,994,558,1050,942,1388,851,617,643,1262,1118,601,584,1201,573,1322,1206,581,585,1487,874,871,1313,1447,1486,1253,876,584,1277,1058,924,1406,611,993,511,969,556,619,618,1149,1246,1083,1462,875,786,1369,724,1463,512,1470,543,1391,1028,1493,574,1054,1469,1023,1129,1196,955,1128,1084,1401,545,781,1450,1390,956,1120,777,688,964,853,1084,578,1474,1486],\"xaxis\":\"x\",\"y\":[30,72,47,63,34,18,25,61,58,74,7,75,65,42,36,27,37,43,57,40,75,31,33,28,30,48,38,56,39,36,51,35,44,81,71,57,19,23,57,37,30,51,24,64,40,63,30,65,51,34,81,66,82,73,49,75,18,36,27,39,43,20,61,44,41,42,45,56,38,79,57,53,13,75,70,55,77,26,46,33,67,64,49,11,54,25,72,68,58,45,20,59,60,61,77,64,46,44,9,22,36,73,28,45,70,40,37,67,32,29,45,33,67,64,56,65,63,50,75,49,72,66,53,34,35,51,50,57,13,52,63,58,37,47,54,36,43,54,42,69,53,45,39,42,60,18,30,47,39,59,58,42,28,48,101,22,61,68,48,62,46,53,59,48,36,63,45,34,38,54,41,38,42,30,51,47,38,76,82,34,42,34,76,75,43,59,64,51,50,48,36,40,77,59,42,39,73,79,62,68,47,15,27,79,65,31,37,63,19,37,60,67,69,43,64,48,41,54,56,60,51,52,22,40,19,39,74,36,76,66,49,43,46,40,43,59,36,6,64,21,73,75,84,30,4,73,64,86,75,63,48,35,72,46,44,80,76,55,53,12,49,70,27,52,61,73,60,60,40,41,74,57,62,68,37,42,60,66,63,67,78,41,48,29,57,21,24,51,54,64,36,39,67,45,25,48,70,48,55,25,28,58,38,34,56,62,46,40,60,53,50,32,32,62,77,59,52,23,17,46,56,52,49,50,61,78,44,62,43,43,37,61,26,21,35,22,65,50,23,28,74,57,33,44,45,61,45,38,51,63,55,68,65,39,25,51,27,70,60,39,46,58,50,55,70,59,57,62,34,12,28,43,30,61,16,35,63,23,79,45,20,62,61,80,78,55,31,21,60,70,84,45,40,65,34,92,52,48,83,63,28,67,48,80,19,85,30,23,66,35,25,77,93,40,58,41,44,42,52,67,83,63,37,37,18,57,62,73,39,31,20,69,65,26,25,63,24,65,81,27,26,68,51,42,59,86,88,57,25,39,57,61,27,79,18,57,26,39,24,38,32,63,82,39,89,45,30,55,34,82,24,89,13,69,39,78,38,48,47,53,61,64,60,46,61,82,9,42,67,69,51,51,32,35,37,32,61,17,80,79],\"yaxis\":\"y\",\"type\":\"scatter\"}],                        {\"template\":{\"data\":{\"histogram2dcontour\":[{\"type\":\"histogram2dcontour\",\"colorbar\":{\"outlinewidth\":0,\"ticks\":\"\"},\"colorscale\":[[0.0,\"#0d0887\"],[0.1111111111111111,\"#46039f\"],[0.2222222222222222,\"#7201a8\"],[0.3333333333333333,\"#9c179e\"],[0.4444444444444444,\"#bd3786\"],[0.5555555555555556,\"#d8576b\"],[0.6666666666666666,\"#ed7953\"],[0.7777777777777778,\"#fb9f3a\"],[0.8888888888888888,\"#fdca26\"],[1.0,\"#f0f921\"]]}],\"choropleth\":[{\"type\":\"choropleth\",\"colorbar\":{\"outlinewidth\":0,\"ticks\":\"\"}}],\"histogram2d\":[{\"type\":\"histogram2d\",\"colorbar\":{\"outlinewidth\":0,\"ticks\":\"\"},\"colorscale\":[[0.0,\"#0d0887\"],[0.1111111111111111,\"#46039f\"],[0.2222222222222222,\"#7201a8\"],[0.3333333333333333,\"#9c179e\"],[0.4444444444444444,\"#bd3786\"],[0.5555555555555556,\"#d8576b\"],[0.6666666666666666,\"#ed7953\"],[0.7777777777777778,\"#fb9f3a\"],[0.8888888888888888,\"#fdca26\"],[1.0,\"#f0f921\"]]}],\"heatmap\":[{\"type\":\"heatmap\",\"colorbar\":{\"outlinewidth\":0,\"ticks\":\"\"},\"colorscale\":[[0.0,\"#0d0887\"],[0.1111111111111111,\"#46039f\"],[0.2222222222222222,\"#7201a8\"],[0.3333333333333333,\"#9c179e\"],[0.4444444444444444,\"#bd3786\"],[0.5555555555555556,\"#d8576b\"],[0.6666666666666666,\"#ed7953\"],[0.7777777777777778,\"#fb9f3a\"],[0.8888888888888888,\"#fdca26\"],[1.0,\"#f0f921\"]]}],\"heatmapgl\":[{\"type\":\"heatmapgl\",\"colorbar\":{\"outlinewidth\":0,\"ticks\":\"\"},\"colorscale\":[[0.0,\"#0d0887\"],[0.1111111111111111,\"#46039f\"],[0.2222222222222222,\"#7201a8\"],[0.3333333333333333,\"#9c179e\"],[0.4444444444444444,\"#bd3786\"],[0.5555555555555556,\"#d8576b\"],[0.6666666666666666,\"#ed7953\"],[0.7777777777777778,\"#fb9f3a\"],[0.8888888888888888,\"#fdca26\"],[1.0,\"#f0f921\"]]}],\"contourcarpet\":[{\"type\":\"contourcarpet\",\"colorbar\":{\"outlinewidth\":0,\"ticks\":\"\"}}],\"contour\":[{\"type\":\"contour\",\"colorbar\":{\"outlinewidth\":0,\"ticks\":\"\"},\"colorscale\":[[0.0,\"#0d0887\"],[0.1111111111111111,\"#46039f\"],[0.2222222222222222,\"#7201a8\"],[0.3333333333333333,\"#9c179e\"],[0.4444444444444444,\"#bd3786\"],[0.5555555555555556,\"#d8576b\"],[0.6666666666666666,\"#ed7953\"],[0.7777777777777778,\"#fb9f3a\"],[0.8888888888888888,\"#fdca26\"],[1.0,\"#f0f921\"]]}],\"surface\":[{\"type\":\"surface\",\"colorbar\":{\"outlinewidth\":0,\"ticks\":\"\"},\"colorscale\":[[0.0,\"#0d0887\"],[0.1111111111111111,\"#46039f\"],[0.2222222222222222,\"#7201a8\"],[0.3333333333333333,\"#9c179e\"],[0.4444444444444444,\"#bd3786\"],[0.5555555555555556,\"#d8576b\"],[0.6666666666666666,\"#ed7953\"],[0.7777777777777778,\"#fb9f3a\"],[0.8888888888888888,\"#fdca26\"],[1.0,\"#f0f921\"]]}],\"mesh3d\":[{\"type\":\"mesh3d\",\"colorbar\":{\"outlinewidth\":0,\"ticks\":\"\"}}],\"scatter\":[{\"fillpattern\":{\"fillmode\":\"overlay\",\"size\":10,\"solidity\":0.2},\"type\":\"scatter\"}],\"parcoords\":[{\"type\":\"parcoords\",\"line\":{\"colorbar\":{\"outlinewidth\":0,\"ticks\":\"\"}}}],\"scatterpolargl\":[{\"type\":\"scatterpolargl\",\"marker\":{\"colorbar\":{\"outlinewidth\":0,\"ticks\":\"\"}}}],\"bar\":[{\"error_x\":{\"color\":\"#2a3f5f\"},\"error_y\":{\"color\":\"#2a3f5f\"},\"marker\":{\"line\":{\"color\":\"#E5ECF6\",\"width\":0.5},\"pattern\":{\"fillmode\":\"overlay\",\"size\":10,\"solidity\":0.2}},\"type\":\"bar\"}],\"scattergeo\":[{\"type\":\"scattergeo\",\"marker\":{\"colorbar\":{\"outlinewidth\":0,\"ticks\":\"\"}}}],\"scatterpolar\":[{\"type\":\"scatterpolar\",\"marker\":{\"colorbar\":{\"outlinewidth\":0,\"ticks\":\"\"}}}],\"histogram\":[{\"marker\":{\"pattern\":{\"fillmode\":\"overlay\",\"size\":10,\"solidity\":0.2}},\"type\":\"histogram\"}],\"scattergl\":[{\"type\":\"scattergl\",\"marker\":{\"colorbar\":{\"outlinewidth\":0,\"ticks\":\"\"}}}],\"scatter3d\":[{\"type\":\"scatter3d\",\"line\":{\"colorbar\":{\"outlinewidth\":0,\"ticks\":\"\"}},\"marker\":{\"colorbar\":{\"outlinewidth\":0,\"ticks\":\"\"}}}],\"scattermapbox\":[{\"type\":\"scattermapbox\",\"marker\":{\"colorbar\":{\"outlinewidth\":0,\"ticks\":\"\"}}}],\"scatterternary\":[{\"type\":\"scatterternary\",\"marker\":{\"colorbar\":{\"outlinewidth\":0,\"ticks\":\"\"}}}],\"scattercarpet\":[{\"type\":\"scattercarpet\",\"marker\":{\"colorbar\":{\"outlinewidth\":0,\"ticks\":\"\"}}}],\"carpet\":[{\"aaxis\":{\"endlinecolor\":\"#2a3f5f\",\"gridcolor\":\"white\",\"linecolor\":\"white\",\"minorgridcolor\":\"white\",\"startlinecolor\":\"#2a3f5f\"},\"baxis\":{\"endlinecolor\":\"#2a3f5f\",\"gridcolor\":\"white\",\"linecolor\":\"white\",\"minorgridcolor\":\"white\",\"startlinecolor\":\"#2a3f5f\"},\"type\":\"carpet\"}],\"table\":[{\"cells\":{\"fill\":{\"color\":\"#EBF0F8\"},\"line\":{\"color\":\"white\"}},\"header\":{\"fill\":{\"color\":\"#C8D4E3\"},\"line\":{\"color\":\"white\"}},\"type\":\"table\"}],\"barpolar\":[{\"marker\":{\"line\":{\"color\":\"#E5ECF6\",\"width\":0.5},\"pattern\":{\"fillmode\":\"overlay\",\"size\":10,\"solidity\":0.2}},\"type\":\"barpolar\"}],\"pie\":[{\"automargin\":true,\"type\":\"pie\"}]},\"layout\":{\"autotypenumbers\":\"strict\",\"colorway\":[\"#636efa\",\"#EF553B\",\"#00cc96\",\"#ab63fa\",\"#FFA15A\",\"#19d3f3\",\"#FF6692\",\"#B6E880\",\"#FF97FF\",\"#FECB52\"],\"font\":{\"color\":\"#2a3f5f\"},\"hovermode\":\"closest\",\"hoverlabel\":{\"align\":\"left\"},\"paper_bgcolor\":\"white\",\"plot_bgcolor\":\"#E5ECF6\",\"polar\":{\"bgcolor\":\"#E5ECF6\",\"angularaxis\":{\"gridcolor\":\"white\",\"linecolor\":\"white\",\"ticks\":\"\"},\"radialaxis\":{\"gridcolor\":\"white\",\"linecolor\":\"white\",\"ticks\":\"\"}},\"ternary\":{\"bgcolor\":\"#E5ECF6\",\"aaxis\":{\"gridcolor\":\"white\",\"linecolor\":\"white\",\"ticks\":\"\"},\"baxis\":{\"gridcolor\":\"white\",\"linecolor\":\"white\",\"ticks\":\"\"},\"caxis\":{\"gridcolor\":\"white\",\"linecolor\":\"white\",\"ticks\":\"\"}},\"coloraxis\":{\"colorbar\":{\"outlinewidth\":0,\"ticks\":\"\"}},\"colorscale\":{\"sequential\":[[0.0,\"#0d0887\"],[0.1111111111111111,\"#46039f\"],[0.2222222222222222,\"#7201a8\"],[0.3333333333333333,\"#9c179e\"],[0.4444444444444444,\"#bd3786\"],[0.5555555555555556,\"#d8576b\"],[0.6666666666666666,\"#ed7953\"],[0.7777777777777778,\"#fb9f3a\"],[0.8888888888888888,\"#fdca26\"],[1.0,\"#f0f921\"]],\"sequentialminus\":[[0.0,\"#0d0887\"],[0.1111111111111111,\"#46039f\"],[0.2222222222222222,\"#7201a8\"],[0.3333333333333333,\"#9c179e\"],[0.4444444444444444,\"#bd3786\"],[0.5555555555555556,\"#d8576b\"],[0.6666666666666666,\"#ed7953\"],[0.7777777777777778,\"#fb9f3a\"],[0.8888888888888888,\"#fdca26\"],[1.0,\"#f0f921\"]],\"diverging\":[[0,\"#8e0152\"],[0.1,\"#c51b7d\"],[0.2,\"#de77ae\"],[0.3,\"#f1b6da\"],[0.4,\"#fde0ef\"],[0.5,\"#f7f7f7\"],[0.6,\"#e6f5d0\"],[0.7,\"#b8e186\"],[0.8,\"#7fbc41\"],[0.9,\"#4d9221\"],[1,\"#276419\"]]},\"xaxis\":{\"gridcolor\":\"white\",\"linecolor\":\"white\",\"ticks\":\"\",\"title\":{\"standoff\":15},\"zerolinecolor\":\"white\",\"automargin\":true,\"zerolinewidth\":2},\"yaxis\":{\"gridcolor\":\"white\",\"linecolor\":\"white\",\"ticks\":\"\",\"title\":{\"standoff\":15},\"zerolinecolor\":\"white\",\"automargin\":true,\"zerolinewidth\":2},\"scene\":{\"xaxis\":{\"backgroundcolor\":\"#E5ECF6\",\"gridcolor\":\"white\",\"linecolor\":\"white\",\"showbackground\":true,\"ticks\":\"\",\"zerolinecolor\":\"white\",\"gridwidth\":2},\"yaxis\":{\"backgroundcolor\":\"#E5ECF6\",\"gridcolor\":\"white\",\"linecolor\":\"white\",\"showbackground\":true,\"ticks\":\"\",\"zerolinecolor\":\"white\",\"gridwidth\":2},\"zaxis\":{\"backgroundcolor\":\"#E5ECF6\",\"gridcolor\":\"white\",\"linecolor\":\"white\",\"showbackground\":true,\"ticks\":\"\",\"zerolinecolor\":\"white\",\"gridwidth\":2}},\"shapedefaults\":{\"line\":{\"color\":\"#2a3f5f\"}},\"annotationdefaults\":{\"arrowcolor\":\"#2a3f5f\",\"arrowhead\":0,\"arrowwidth\":1},\"geo\":{\"bgcolor\":\"white\",\"landcolor\":\"#E5ECF6\",\"subunitcolor\":\"white\",\"showland\":true,\"showlakes\":true,\"lakecolor\":\"white\"},\"title\":{\"x\":0.05},\"mapbox\":{\"style\":\"light\"}}},\"xaxis\":{\"anchor\":\"y\",\"domain\":[0.0,1.0],\"title\":{\"text\":\"Valor gasto\"}},\"yaxis\":{\"anchor\":\"x\",\"domain\":[0.0,1.0],\"title\":{\"text\":\"Usu\\u00e1rios convertidos\"}},\"legend\":{\"tracegroupgap\":0},\"title\":{\"text\":\"Valor gasto em campanha versos usu\\u00e1rios convertidos\"}},                        {\"responsive\": true}                    ).then(function(){\n",
              "                            \n",
              "var gd = document.getElementById('1ac64916-8032-48bd-a97e-891ab7df4b66');\n",
              "var x = new MutationObserver(function (mutations, observer) {{\n",
              "        var display = window.getComputedStyle(gd).display;\n",
              "        if (!display || display === 'none') {{\n",
              "            console.log([gd, 'removed!']);\n",
              "            Plotly.purge(gd);\n",
              "            observer.disconnect();\n",
              "        }}\n",
              "}});\n",
              "\n",
              "// Listen for the removal of the full notebook cells\n",
              "var notebookContainer = gd.closest('#notebook-container');\n",
              "if (notebookContainer) {{\n",
              "    x.observe(notebookContainer, {childList: true});\n",
              "}}\n",
              "\n",
              "// Listen for the clearing of the current output cell\n",
              "var outputEl = gd.closest('.output');\n",
              "if (outputEl) {{\n",
              "    x.observe(outputEl, {childList: true});\n",
              "}}\n",
              "\n",
              "                        })                };                            </script>        </div>\n",
              "</body>\n",
              "</html>"
            ]
          },
          "metadata": {}
        }
      ],
      "source": [
        "px.scatter(\n",
        "    data_frame=df,\n",
        "    x=df['valor_gasto_campanha'],\n",
        "    y=df['usuarios_convertidos'],\n",
        "    # color=''\n",
        "    title='Valor gasto em campanha versos usuários convertidos',\n",
        "    labels={'usuarios_convertidos': 'Usuários convertidos', 'valor_gasto_campanha': 'Valor gasto'}\n",
        "  )"
      ]
    },
    {
      "cell_type": "markdown",
      "source": [
        "Scatter plot entre número de visualizações e usuários convertidos"
      ],
      "metadata": {
        "id": "dPASHp8WhVht"
      }
    },
    {
      "cell_type": "code",
      "execution_count": 10,
      "metadata": {
        "id": "N2DlPYAmXo-n",
        "colab": {
          "base_uri": "https://localhost:8080/",
          "height": 0
        },
        "outputId": "2762da60-6782-4df2-bdf4-bc15a4c30f0a"
      },
      "outputs": [
        {
          "output_type": "display_data",
          "data": {
            "text/html": [
              "<html>\n",
              "<head><meta charset=\"utf-8\" /></head>\n",
              "<body>\n",
              "    <div>            <script src=\"https://cdnjs.cloudflare.com/ajax/libs/mathjax/2.7.5/MathJax.js?config=TeX-AMS-MML_SVG\"></script><script type=\"text/javascript\">if (window.MathJax && window.MathJax.Hub && window.MathJax.Hub.Config) {window.MathJax.Hub.Config({SVG: {font: \"STIX-Web\"}});}</script>                <script type=\"text/javascript\">window.PlotlyConfig = {MathJaxConfig: 'local'};</script>\n",
              "        <script charset=\"utf-8\" src=\"https://cdn.plot.ly/plotly-2.24.1.min.js\"></script>                <div id=\"54cb7c97-f257-4938-815c-5d2811238f75\" class=\"plotly-graph-div\" style=\"height:525px; width:100%;\"></div>            <script type=\"text/javascript\">                                    window.PLOTLYENV=window.PLOTLYENV || {};                                    if (document.getElementById(\"54cb7c97-f257-4938-815c-5d2811238f75\")) {                    Plotly.newPlot(                        \"54cb7c97-f257-4938-815c-5d2811238f75\",                        [{\"hovertemplate\":\"N\\u00famero de visualiza\\u00e7\\u00f5es=%{x}\\u003cbr\\u003eUsu\\u00e1rios convertidos=%{y}\\u003cextra\\u003e\\u003c\\u002fextra\\u003e\",\"legendgroup\":\"\",\"marker\":{\"color\":\"#636efa\",\"symbol\":\"circle\"},\"mode\":\"markers\",\"name\":\"\",\"orientation\":\"v\",\"showlegend\":false,\"x\":[4390,7120,6198,5554,3336,3388,2874,6877,5499,5874,2646,7370,6689,3434,3301,3522,4017,5192,4663,3959,5653,3146,3970,4286,4737,6395,3521,5023,5588,2643,5519,3309,2970,7264,7431,6393,4050,3077,5929,4807,3058,5117,2902,7010,3749,5958,4217,5048,5192,3396,7213,6284,7097,6897,5486,7133,3098,3380,2825,4105,4438,3924,6531,4322,3921,5263,3234,6757,2809,7381,6299,3438,2464,6696,6176,6088,6273,2917,4237,3143,6836,5465,4309,2997,3994,4087,6177,5721,7002,5062,3080,5986,6166,5233,6352,5148,5062,4660,2625,3158,2910,5629,4023,5147,7106,3931,4610,6242,3703,2996,4031,3357,7255,6658,5805,6922,6502,3448,7083,5115,6574,6941,4093,3178,3659,4640,6454,6878,2599,5270,4556,3632,3124,4346,7205,4144,5155,6034,4274,7378,7420,3656,5000,3934,4044,2532,5492,5051,2914,3887,6986,3886,3080,4727,7472,3660,5759,6379,3713,6085,4211,5749,5733,5169,3136,6570,3951,3363,2699,5479,5864,2618,4935,3777,5718,3484,5989,4479,7241,3232,4270,3200,7143,6958,3781,5944,6518,5456,5144,3566,2978,6918,7086,5600,4151,4057,6085,6743,6777,6475,5789,2963,3211,6988,5532,2430,3158,5905,2503,3307,5265,5755,5735,3553,5961,3658,4307,6297,5691,6803,5928,5434,2974,4274,3896,3759,7455,4529,7065,5602,6606,5033,5592,4894,3650,6132,3839,2573,5695,3428,7255,7212,7072,4565,2750,7185,4645,7345,7379,6663,3947,4259,6796,4149,3299,5441,7058,5834,5373,3091,5743,7404,3308,5088,6870,6292,6050,5855,4445,4106,6484,6590,6885,7092,5002,4940,6489,5867,6064,6442,7027,3905,4493,2796,5355,2568,4699,5329,3886,5489,2648,2734,6621,4173,3235,5062,6194,3536,5765,3012,2724,5122,5171,5895,6169,7422,5185,4139,6450,3835,4688,2889,2700,7318,6753,5972,4553,3167,3374,3786,5346,5783,6010,3886,7385,6085,5333,5453,4536,3930,4261,6311,2659,3130,2745,2740,7018,6013,4891,3094,5069,4986,3430,4555,4656,5465,5706,2651,4367,5662,5048,6825,5955,3360,2828,5809,2752,5306,7261,5447,4411,5854,4776,5241,7190,4432,7196,6883,3638,2762,2905,2376,2908,5783,3020,4196,6656,2842,6671,3877,2841,6213,5506,6723,6278,6761,4049,3444,6313,6620,7528,4591,4371,6376,4129,7126,6623,4635,6155,6162,3034,7152,5118,6475,4001,7072,4348,2532,7082,2860,4107,7117,7193,5399,5500,4786,3964,4199,5885,6398,6470,6405,2968,5026,2793,5252,4637,6872,4114,3260,3091,6238,5519,3095,2891,6130,2796,6637,5948,3121,2805,7464,4435,4395,6545,7223,7434,6252,4478,3139,6330,5155,4612,7290,2976,5127,2725,4788,2838,3257,3050,5726,6172,5315,7246,4252,3932,6766,3641,7161,2594,7433,2516,6993,5261,7344,3036,5311,7276,5110,5703,5986,4827,5546,5439,6864,2716,3814,7179,7075,4887,5662,3778,3409,4940,4281,5650,2928,7391,7400],\"xaxis\":\"x\",\"y\":[30,72,47,63,34,18,25,61,58,74,7,75,65,42,36,27,37,43,57,40,75,31,33,28,30,48,38,56,39,36,51,35,44,81,71,57,19,23,57,37,30,51,24,64,40,63,30,65,51,34,81,66,82,73,49,75,18,36,27,39,43,20,61,44,41,42,45,56,38,79,57,53,13,75,70,55,77,26,46,33,67,64,49,11,54,25,72,68,58,45,20,59,60,61,77,64,46,44,9,22,36,73,28,45,70,40,37,67,32,29,45,33,67,64,56,65,63,50,75,49,72,66,53,34,35,51,50,57,13,52,63,58,37,47,54,36,43,54,42,69,53,45,39,42,60,18,30,47,39,59,58,42,28,48,101,22,61,68,48,62,46,53,59,48,36,63,45,34,38,54,41,38,42,30,51,47,38,76,82,34,42,34,76,75,43,59,64,51,50,48,36,40,77,59,42,39,73,79,62,68,47,15,27,79,65,31,37,63,19,37,60,67,69,43,64,48,41,54,56,60,51,52,22,40,19,39,74,36,76,66,49,43,46,40,43,59,36,6,64,21,73,75,84,30,4,73,64,86,75,63,48,35,72,46,44,80,76,55,53,12,49,70,27,52,61,73,60,60,40,41,74,57,62,68,37,42,60,66,63,67,78,41,48,29,57,21,24,51,54,64,36,39,67,45,25,48,70,48,55,25,28,58,38,34,56,62,46,40,60,53,50,32,32,62,77,59,52,23,17,46,56,52,49,50,61,78,44,62,43,43,37,61,26,21,35,22,65,50,23,28,74,57,33,44,45,61,45,38,51,63,55,68,65,39,25,51,27,70,60,39,46,58,50,55,70,59,57,62,34,12,28,43,30,61,16,35,63,23,79,45,20,62,61,80,78,55,31,21,60,70,84,45,40,65,34,92,52,48,83,63,28,67,48,80,19,85,30,23,66,35,25,77,93,40,58,41,44,42,52,67,83,63,37,37,18,57,62,73,39,31,20,69,65,26,25,63,24,65,81,27,26,68,51,42,59,86,88,57,25,39,57,61,27,79,18,57,26,39,24,38,32,63,82,39,89,45,30,55,34,82,24,89,13,69,39,78,38,48,47,53,61,64,60,46,61,82,9,42,67,69,51,51,32,35,37,32,61,17,80,79],\"yaxis\":\"y\",\"type\":\"scatter\"}],                        {\"template\":{\"data\":{\"histogram2dcontour\":[{\"type\":\"histogram2dcontour\",\"colorbar\":{\"outlinewidth\":0,\"ticks\":\"\"},\"colorscale\":[[0.0,\"#0d0887\"],[0.1111111111111111,\"#46039f\"],[0.2222222222222222,\"#7201a8\"],[0.3333333333333333,\"#9c179e\"],[0.4444444444444444,\"#bd3786\"],[0.5555555555555556,\"#d8576b\"],[0.6666666666666666,\"#ed7953\"],[0.7777777777777778,\"#fb9f3a\"],[0.8888888888888888,\"#fdca26\"],[1.0,\"#f0f921\"]]}],\"choropleth\":[{\"type\":\"choropleth\",\"colorbar\":{\"outlinewidth\":0,\"ticks\":\"\"}}],\"histogram2d\":[{\"type\":\"histogram2d\",\"colorbar\":{\"outlinewidth\":0,\"ticks\":\"\"},\"colorscale\":[[0.0,\"#0d0887\"],[0.1111111111111111,\"#46039f\"],[0.2222222222222222,\"#7201a8\"],[0.3333333333333333,\"#9c179e\"],[0.4444444444444444,\"#bd3786\"],[0.5555555555555556,\"#d8576b\"],[0.6666666666666666,\"#ed7953\"],[0.7777777777777778,\"#fb9f3a\"],[0.8888888888888888,\"#fdca26\"],[1.0,\"#f0f921\"]]}],\"heatmap\":[{\"type\":\"heatmap\",\"colorbar\":{\"outlinewidth\":0,\"ticks\":\"\"},\"colorscale\":[[0.0,\"#0d0887\"],[0.1111111111111111,\"#46039f\"],[0.2222222222222222,\"#7201a8\"],[0.3333333333333333,\"#9c179e\"],[0.4444444444444444,\"#bd3786\"],[0.5555555555555556,\"#d8576b\"],[0.6666666666666666,\"#ed7953\"],[0.7777777777777778,\"#fb9f3a\"],[0.8888888888888888,\"#fdca26\"],[1.0,\"#f0f921\"]]}],\"heatmapgl\":[{\"type\":\"heatmapgl\",\"colorbar\":{\"outlinewidth\":0,\"ticks\":\"\"},\"colorscale\":[[0.0,\"#0d0887\"],[0.1111111111111111,\"#46039f\"],[0.2222222222222222,\"#7201a8\"],[0.3333333333333333,\"#9c179e\"],[0.4444444444444444,\"#bd3786\"],[0.5555555555555556,\"#d8576b\"],[0.6666666666666666,\"#ed7953\"],[0.7777777777777778,\"#fb9f3a\"],[0.8888888888888888,\"#fdca26\"],[1.0,\"#f0f921\"]]}],\"contourcarpet\":[{\"type\":\"contourcarpet\",\"colorbar\":{\"outlinewidth\":0,\"ticks\":\"\"}}],\"contour\":[{\"type\":\"contour\",\"colorbar\":{\"outlinewidth\":0,\"ticks\":\"\"},\"colorscale\":[[0.0,\"#0d0887\"],[0.1111111111111111,\"#46039f\"],[0.2222222222222222,\"#7201a8\"],[0.3333333333333333,\"#9c179e\"],[0.4444444444444444,\"#bd3786\"],[0.5555555555555556,\"#d8576b\"],[0.6666666666666666,\"#ed7953\"],[0.7777777777777778,\"#fb9f3a\"],[0.8888888888888888,\"#fdca26\"],[1.0,\"#f0f921\"]]}],\"surface\":[{\"type\":\"surface\",\"colorbar\":{\"outlinewidth\":0,\"ticks\":\"\"},\"colorscale\":[[0.0,\"#0d0887\"],[0.1111111111111111,\"#46039f\"],[0.2222222222222222,\"#7201a8\"],[0.3333333333333333,\"#9c179e\"],[0.4444444444444444,\"#bd3786\"],[0.5555555555555556,\"#d8576b\"],[0.6666666666666666,\"#ed7953\"],[0.7777777777777778,\"#fb9f3a\"],[0.8888888888888888,\"#fdca26\"],[1.0,\"#f0f921\"]]}],\"mesh3d\":[{\"type\":\"mesh3d\",\"colorbar\":{\"outlinewidth\":0,\"ticks\":\"\"}}],\"scatter\":[{\"fillpattern\":{\"fillmode\":\"overlay\",\"size\":10,\"solidity\":0.2},\"type\":\"scatter\"}],\"parcoords\":[{\"type\":\"parcoords\",\"line\":{\"colorbar\":{\"outlinewidth\":0,\"ticks\":\"\"}}}],\"scatterpolargl\":[{\"type\":\"scatterpolargl\",\"marker\":{\"colorbar\":{\"outlinewidth\":0,\"ticks\":\"\"}}}],\"bar\":[{\"error_x\":{\"color\":\"#2a3f5f\"},\"error_y\":{\"color\":\"#2a3f5f\"},\"marker\":{\"line\":{\"color\":\"#E5ECF6\",\"width\":0.5},\"pattern\":{\"fillmode\":\"overlay\",\"size\":10,\"solidity\":0.2}},\"type\":\"bar\"}],\"scattergeo\":[{\"type\":\"scattergeo\",\"marker\":{\"colorbar\":{\"outlinewidth\":0,\"ticks\":\"\"}}}],\"scatterpolar\":[{\"type\":\"scatterpolar\",\"marker\":{\"colorbar\":{\"outlinewidth\":0,\"ticks\":\"\"}}}],\"histogram\":[{\"marker\":{\"pattern\":{\"fillmode\":\"overlay\",\"size\":10,\"solidity\":0.2}},\"type\":\"histogram\"}],\"scattergl\":[{\"type\":\"scattergl\",\"marker\":{\"colorbar\":{\"outlinewidth\":0,\"ticks\":\"\"}}}],\"scatter3d\":[{\"type\":\"scatter3d\",\"line\":{\"colorbar\":{\"outlinewidth\":0,\"ticks\":\"\"}},\"marker\":{\"colorbar\":{\"outlinewidth\":0,\"ticks\":\"\"}}}],\"scattermapbox\":[{\"type\":\"scattermapbox\",\"marker\":{\"colorbar\":{\"outlinewidth\":0,\"ticks\":\"\"}}}],\"scatterternary\":[{\"type\":\"scatterternary\",\"marker\":{\"colorbar\":{\"outlinewidth\":0,\"ticks\":\"\"}}}],\"scattercarpet\":[{\"type\":\"scattercarpet\",\"marker\":{\"colorbar\":{\"outlinewidth\":0,\"ticks\":\"\"}}}],\"carpet\":[{\"aaxis\":{\"endlinecolor\":\"#2a3f5f\",\"gridcolor\":\"white\",\"linecolor\":\"white\",\"minorgridcolor\":\"white\",\"startlinecolor\":\"#2a3f5f\"},\"baxis\":{\"endlinecolor\":\"#2a3f5f\",\"gridcolor\":\"white\",\"linecolor\":\"white\",\"minorgridcolor\":\"white\",\"startlinecolor\":\"#2a3f5f\"},\"type\":\"carpet\"}],\"table\":[{\"cells\":{\"fill\":{\"color\":\"#EBF0F8\"},\"line\":{\"color\":\"white\"}},\"header\":{\"fill\":{\"color\":\"#C8D4E3\"},\"line\":{\"color\":\"white\"}},\"type\":\"table\"}],\"barpolar\":[{\"marker\":{\"line\":{\"color\":\"#E5ECF6\",\"width\":0.5},\"pattern\":{\"fillmode\":\"overlay\",\"size\":10,\"solidity\":0.2}},\"type\":\"barpolar\"}],\"pie\":[{\"automargin\":true,\"type\":\"pie\"}]},\"layout\":{\"autotypenumbers\":\"strict\",\"colorway\":[\"#636efa\",\"#EF553B\",\"#00cc96\",\"#ab63fa\",\"#FFA15A\",\"#19d3f3\",\"#FF6692\",\"#B6E880\",\"#FF97FF\",\"#FECB52\"],\"font\":{\"color\":\"#2a3f5f\"},\"hovermode\":\"closest\",\"hoverlabel\":{\"align\":\"left\"},\"paper_bgcolor\":\"white\",\"plot_bgcolor\":\"#E5ECF6\",\"polar\":{\"bgcolor\":\"#E5ECF6\",\"angularaxis\":{\"gridcolor\":\"white\",\"linecolor\":\"white\",\"ticks\":\"\"},\"radialaxis\":{\"gridcolor\":\"white\",\"linecolor\":\"white\",\"ticks\":\"\"}},\"ternary\":{\"bgcolor\":\"#E5ECF6\",\"aaxis\":{\"gridcolor\":\"white\",\"linecolor\":\"white\",\"ticks\":\"\"},\"baxis\":{\"gridcolor\":\"white\",\"linecolor\":\"white\",\"ticks\":\"\"},\"caxis\":{\"gridcolor\":\"white\",\"linecolor\":\"white\",\"ticks\":\"\"}},\"coloraxis\":{\"colorbar\":{\"outlinewidth\":0,\"ticks\":\"\"}},\"colorscale\":{\"sequential\":[[0.0,\"#0d0887\"],[0.1111111111111111,\"#46039f\"],[0.2222222222222222,\"#7201a8\"],[0.3333333333333333,\"#9c179e\"],[0.4444444444444444,\"#bd3786\"],[0.5555555555555556,\"#d8576b\"],[0.6666666666666666,\"#ed7953\"],[0.7777777777777778,\"#fb9f3a\"],[0.8888888888888888,\"#fdca26\"],[1.0,\"#f0f921\"]],\"sequentialminus\":[[0.0,\"#0d0887\"],[0.1111111111111111,\"#46039f\"],[0.2222222222222222,\"#7201a8\"],[0.3333333333333333,\"#9c179e\"],[0.4444444444444444,\"#bd3786\"],[0.5555555555555556,\"#d8576b\"],[0.6666666666666666,\"#ed7953\"],[0.7777777777777778,\"#fb9f3a\"],[0.8888888888888888,\"#fdca26\"],[1.0,\"#f0f921\"]],\"diverging\":[[0,\"#8e0152\"],[0.1,\"#c51b7d\"],[0.2,\"#de77ae\"],[0.3,\"#f1b6da\"],[0.4,\"#fde0ef\"],[0.5,\"#f7f7f7\"],[0.6,\"#e6f5d0\"],[0.7,\"#b8e186\"],[0.8,\"#7fbc41\"],[0.9,\"#4d9221\"],[1,\"#276419\"]]},\"xaxis\":{\"gridcolor\":\"white\",\"linecolor\":\"white\",\"ticks\":\"\",\"title\":{\"standoff\":15},\"zerolinecolor\":\"white\",\"automargin\":true,\"zerolinewidth\":2},\"yaxis\":{\"gridcolor\":\"white\",\"linecolor\":\"white\",\"ticks\":\"\",\"title\":{\"standoff\":15},\"zerolinecolor\":\"white\",\"automargin\":true,\"zerolinewidth\":2},\"scene\":{\"xaxis\":{\"backgroundcolor\":\"#E5ECF6\",\"gridcolor\":\"white\",\"linecolor\":\"white\",\"showbackground\":true,\"ticks\":\"\",\"zerolinecolor\":\"white\",\"gridwidth\":2},\"yaxis\":{\"backgroundcolor\":\"#E5ECF6\",\"gridcolor\":\"white\",\"linecolor\":\"white\",\"showbackground\":true,\"ticks\":\"\",\"zerolinecolor\":\"white\",\"gridwidth\":2},\"zaxis\":{\"backgroundcolor\":\"#E5ECF6\",\"gridcolor\":\"white\",\"linecolor\":\"white\",\"showbackground\":true,\"ticks\":\"\",\"zerolinecolor\":\"white\",\"gridwidth\":2}},\"shapedefaults\":{\"line\":{\"color\":\"#2a3f5f\"}},\"annotationdefaults\":{\"arrowcolor\":\"#2a3f5f\",\"arrowhead\":0,\"arrowwidth\":1},\"geo\":{\"bgcolor\":\"white\",\"landcolor\":\"#E5ECF6\",\"subunitcolor\":\"white\",\"showland\":true,\"showlakes\":true,\"lakecolor\":\"white\"},\"title\":{\"x\":0.05},\"mapbox\":{\"style\":\"light\"}}},\"xaxis\":{\"anchor\":\"y\",\"domain\":[0.0,1.0],\"title\":{\"text\":\"N\\u00famero de visualiza\\u00e7\\u00f5es\"}},\"yaxis\":{\"anchor\":\"x\",\"domain\":[0.0,1.0],\"title\":{\"text\":\"Usu\\u00e1rios convertidos\"}},\"legend\":{\"tracegroupgap\":0},\"title\":{\"text\":\"N\\u00famero de visualiza\\u00e7\\u00f5es versos usu\\u00e1rios convertidos\"}},                        {\"responsive\": true}                    ).then(function(){\n",
              "                            \n",
              "var gd = document.getElementById('54cb7c97-f257-4938-815c-5d2811238f75');\n",
              "var x = new MutationObserver(function (mutations, observer) {{\n",
              "        var display = window.getComputedStyle(gd).display;\n",
              "        if (!display || display === 'none') {{\n",
              "            console.log([gd, 'removed!']);\n",
              "            Plotly.purge(gd);\n",
              "            observer.disconnect();\n",
              "        }}\n",
              "}});\n",
              "\n",
              "// Listen for the removal of the full notebook cells\n",
              "var notebookContainer = gd.closest('#notebook-container');\n",
              "if (notebookContainer) {{\n",
              "    x.observe(notebookContainer, {childList: true});\n",
              "}}\n",
              "\n",
              "// Listen for the clearing of the current output cell\n",
              "var outputEl = gd.closest('.output');\n",
              "if (outputEl) {{\n",
              "    x.observe(outputEl, {childList: true});\n",
              "}}\n",
              "\n",
              "                        })                };                            </script>        </div>\n",
              "</body>\n",
              "</html>"
            ]
          },
          "metadata": {}
        }
      ],
      "source": [
        "px.scatter(\n",
        "    data_frame=df,\n",
        "    x=df['numero_visualizacoes'],\n",
        "    y=df['usuarios_convertidos'],\n",
        "    # color=''\n",
        "    title='Número de visualizações versos usuários convertidos',\n",
        "    labels={'usuarios_convertidos': 'Usuários convertidos', 'numero_visualizacoes': 'Número de visualizações'}\n",
        "  )"
      ]
    },
    {
      "cell_type": "markdown",
      "source": [
        "Scatter plot entre número de cliques e usuários convertidos"
      ],
      "metadata": {
        "id": "Gn8TXx1-ic2B"
      }
    },
    {
      "cell_type": "code",
      "source": [
        "px.scatter(\n",
        "    data_frame=df,\n",
        "    x=df['numero_cliques'],\n",
        "    y=df['usuarios_convertidos'],\n",
        "    # color=''\n",
        "    title='Número de cliques versos usuários convertidos',\n",
        "    labels={'usuarios_convertidos': 'Usuários convertidos', 'numero_cliques': 'Número de cliques'}\n",
        "  )"
      ],
      "metadata": {
        "colab": {
          "base_uri": "https://localhost:8080/",
          "height": 0
        },
        "id": "WDnp7urbh1gY",
        "outputId": "08e585b9-cdf4-4fdd-d35d-d9d395d47dcf"
      },
      "execution_count": 11,
      "outputs": [
        {
          "output_type": "display_data",
          "data": {
            "text/html": [
              "<html>\n",
              "<head><meta charset=\"utf-8\" /></head>\n",
              "<body>\n",
              "    <div>            <script src=\"https://cdnjs.cloudflare.com/ajax/libs/mathjax/2.7.5/MathJax.js?config=TeX-AMS-MML_SVG\"></script><script type=\"text/javascript\">if (window.MathJax && window.MathJax.Hub && window.MathJax.Hub.Config) {window.MathJax.Hub.Config({SVG: {font: \"STIX-Web\"}});}</script>                <script type=\"text/javascript\">window.PlotlyConfig = {MathJaxConfig: 'local'};</script>\n",
              "        <script charset=\"utf-8\" src=\"https://cdn.plot.ly/plotly-2.24.1.min.js\"></script>                <div id=\"23018fc6-10ab-4723-9af8-dc80742caddb\" class=\"plotly-graph-div\" style=\"height:525px; width:100%;\"></div>            <script type=\"text/javascript\">                                    window.PLOTLYENV=window.PLOTLYENV || {};                                    if (document.getElementById(\"23018fc6-10ab-4723-9af8-dc80742caddb\")) {                    Plotly.newPlot(                        \"23018fc6-10ab-4723-9af8-dc80742caddb\",                        [{\"hovertemplate\":\"N\\u00famero de cliques=%{x}\\u003cbr\\u003eUsu\\u00e1rios convertidos=%{y}\\u003cextra\\u003e\\u003c\\u002fextra\\u003e\",\"legendgroup\":\"\",\"marker\":{\"color\":\"#636efa\",\"symbol\":\"circle\"},\"mode\":\"markers\",\"name\":\"\",\"orientation\":\"v\",\"showlegend\":false,\"x\":[54,90,67,70,41,34,31,79,71,86,28,93,84,45,45,37,54,54,64,53,83,55,50,44,53,67,46,64,68,37,69,41,54,97,103,84,44,37,78,47,38,70,34,81,50,87,54,73,72,43,90,79,106,91,67,93,42,54,47,52,59,33,91,50,53,57,45,77,39,96,77,58,21,91,90,74,86,35,63,42,85,79,53,32,61,44,81,75,88,68,32,80,70,70,89,67,59,56,27,35,29,71,44,65,78,48,53,91,43,40,55,32,95,86,76,107,73,61,92,67,88,87,56,43,39,66,75,77,25,73,66,60,40,61,88,60,62,78,56,100,82,56,59,53,62,31,59,65,50,65,90,49,35,68,114,48,74,83,45,78,63,69,78,65,43,79,55,29,40,63,74,44,63,52,67,60,71,72,104,37,50,39,93,88,58,75,86,65,57,55,32,76,88,84,59,53,92,91,89,86,71,38,43,97,68,31,42,79,24,57,80,84,81,49,76,54,55,71,75,83,63,65,33,64,43,43,98,46,99,76,76,68,60,53,47,84,42,10,75,41,100,93,97,56,9,92,70,104,94,85,43,49,93,51,49,85,93,76,65,29,72,96,36,68,89,76,84,76,57,59,82,77,84,86,68,57,79,80,74,83,96,52,59,35,64,33,59,67,59,79,33,50,87,65,34,74,89,55,74,35,42,71,51,57,76,91,63,59,72,58,54,43,37,91,88,84,68,41,34,56,67,78,80,62,85,90,58,78,60,43,47,80,32,29,41,34,86,69,56,46,74,64,46,57,58,79,58,47,61,75,67,88,70,54,35,74,40,73,90,61,63,64,63,66,95,67,83,83,44,24,42,40,24,76,26,42,79,33,99,55,31,82,73,91,83,71,45,39,80,85,97,62,49,88,45,100,73,59,96,84,43,92,59,91,38,105,44,36,94,50,43,100,116,60,67,49,57,45,71,86,94,85,43,65,27,67,65,96,58,43,41,79,85,45,39,89,27,83,85,41,31,97,68,59,83,96,99,85,52,43,77,62,45,106,27,69,39,52,35,49,41,92,82,68,102,61,49,78,47,90,36,105,31,96,63,99,38,63,88,75,75,80,64,74,77,106,22,50,93,93,63,66,51,48,53,57,80,33,100,102],\"xaxis\":\"x\",\"y\":[30,72,47,63,34,18,25,61,58,74,7,75,65,42,36,27,37,43,57,40,75,31,33,28,30,48,38,56,39,36,51,35,44,81,71,57,19,23,57,37,30,51,24,64,40,63,30,65,51,34,81,66,82,73,49,75,18,36,27,39,43,20,61,44,41,42,45,56,38,79,57,53,13,75,70,55,77,26,46,33,67,64,49,11,54,25,72,68,58,45,20,59,60,61,77,64,46,44,9,22,36,73,28,45,70,40,37,67,32,29,45,33,67,64,56,65,63,50,75,49,72,66,53,34,35,51,50,57,13,52,63,58,37,47,54,36,43,54,42,69,53,45,39,42,60,18,30,47,39,59,58,42,28,48,101,22,61,68,48,62,46,53,59,48,36,63,45,34,38,54,41,38,42,30,51,47,38,76,82,34,42,34,76,75,43,59,64,51,50,48,36,40,77,59,42,39,73,79,62,68,47,15,27,79,65,31,37,63,19,37,60,67,69,43,64,48,41,54,56,60,51,52,22,40,19,39,74,36,76,66,49,43,46,40,43,59,36,6,64,21,73,75,84,30,4,73,64,86,75,63,48,35,72,46,44,80,76,55,53,12,49,70,27,52,61,73,60,60,40,41,74,57,62,68,37,42,60,66,63,67,78,41,48,29,57,21,24,51,54,64,36,39,67,45,25,48,70,48,55,25,28,58,38,34,56,62,46,40,60,53,50,32,32,62,77,59,52,23,17,46,56,52,49,50,61,78,44,62,43,43,37,61,26,21,35,22,65,50,23,28,74,57,33,44,45,61,45,38,51,63,55,68,65,39,25,51,27,70,60,39,46,58,50,55,70,59,57,62,34,12,28,43,30,61,16,35,63,23,79,45,20,62,61,80,78,55,31,21,60,70,84,45,40,65,34,92,52,48,83,63,28,67,48,80,19,85,30,23,66,35,25,77,93,40,58,41,44,42,52,67,83,63,37,37,18,57,62,73,39,31,20,69,65,26,25,63,24,65,81,27,26,68,51,42,59,86,88,57,25,39,57,61,27,79,18,57,26,39,24,38,32,63,82,39,89,45,30,55,34,82,24,89,13,69,39,78,38,48,47,53,61,64,60,46,61,82,9,42,67,69,51,51,32,35,37,32,61,17,80,79],\"yaxis\":\"y\",\"type\":\"scatter\"}],                        {\"template\":{\"data\":{\"histogram2dcontour\":[{\"type\":\"histogram2dcontour\",\"colorbar\":{\"outlinewidth\":0,\"ticks\":\"\"},\"colorscale\":[[0.0,\"#0d0887\"],[0.1111111111111111,\"#46039f\"],[0.2222222222222222,\"#7201a8\"],[0.3333333333333333,\"#9c179e\"],[0.4444444444444444,\"#bd3786\"],[0.5555555555555556,\"#d8576b\"],[0.6666666666666666,\"#ed7953\"],[0.7777777777777778,\"#fb9f3a\"],[0.8888888888888888,\"#fdca26\"],[1.0,\"#f0f921\"]]}],\"choropleth\":[{\"type\":\"choropleth\",\"colorbar\":{\"outlinewidth\":0,\"ticks\":\"\"}}],\"histogram2d\":[{\"type\":\"histogram2d\",\"colorbar\":{\"outlinewidth\":0,\"ticks\":\"\"},\"colorscale\":[[0.0,\"#0d0887\"],[0.1111111111111111,\"#46039f\"],[0.2222222222222222,\"#7201a8\"],[0.3333333333333333,\"#9c179e\"],[0.4444444444444444,\"#bd3786\"],[0.5555555555555556,\"#d8576b\"],[0.6666666666666666,\"#ed7953\"],[0.7777777777777778,\"#fb9f3a\"],[0.8888888888888888,\"#fdca26\"],[1.0,\"#f0f921\"]]}],\"heatmap\":[{\"type\":\"heatmap\",\"colorbar\":{\"outlinewidth\":0,\"ticks\":\"\"},\"colorscale\":[[0.0,\"#0d0887\"],[0.1111111111111111,\"#46039f\"],[0.2222222222222222,\"#7201a8\"],[0.3333333333333333,\"#9c179e\"],[0.4444444444444444,\"#bd3786\"],[0.5555555555555556,\"#d8576b\"],[0.6666666666666666,\"#ed7953\"],[0.7777777777777778,\"#fb9f3a\"],[0.8888888888888888,\"#fdca26\"],[1.0,\"#f0f921\"]]}],\"heatmapgl\":[{\"type\":\"heatmapgl\",\"colorbar\":{\"outlinewidth\":0,\"ticks\":\"\"},\"colorscale\":[[0.0,\"#0d0887\"],[0.1111111111111111,\"#46039f\"],[0.2222222222222222,\"#7201a8\"],[0.3333333333333333,\"#9c179e\"],[0.4444444444444444,\"#bd3786\"],[0.5555555555555556,\"#d8576b\"],[0.6666666666666666,\"#ed7953\"],[0.7777777777777778,\"#fb9f3a\"],[0.8888888888888888,\"#fdca26\"],[1.0,\"#f0f921\"]]}],\"contourcarpet\":[{\"type\":\"contourcarpet\",\"colorbar\":{\"outlinewidth\":0,\"ticks\":\"\"}}],\"contour\":[{\"type\":\"contour\",\"colorbar\":{\"outlinewidth\":0,\"ticks\":\"\"},\"colorscale\":[[0.0,\"#0d0887\"],[0.1111111111111111,\"#46039f\"],[0.2222222222222222,\"#7201a8\"],[0.3333333333333333,\"#9c179e\"],[0.4444444444444444,\"#bd3786\"],[0.5555555555555556,\"#d8576b\"],[0.6666666666666666,\"#ed7953\"],[0.7777777777777778,\"#fb9f3a\"],[0.8888888888888888,\"#fdca26\"],[1.0,\"#f0f921\"]]}],\"surface\":[{\"type\":\"surface\",\"colorbar\":{\"outlinewidth\":0,\"ticks\":\"\"},\"colorscale\":[[0.0,\"#0d0887\"],[0.1111111111111111,\"#46039f\"],[0.2222222222222222,\"#7201a8\"],[0.3333333333333333,\"#9c179e\"],[0.4444444444444444,\"#bd3786\"],[0.5555555555555556,\"#d8576b\"],[0.6666666666666666,\"#ed7953\"],[0.7777777777777778,\"#fb9f3a\"],[0.8888888888888888,\"#fdca26\"],[1.0,\"#f0f921\"]]}],\"mesh3d\":[{\"type\":\"mesh3d\",\"colorbar\":{\"outlinewidth\":0,\"ticks\":\"\"}}],\"scatter\":[{\"fillpattern\":{\"fillmode\":\"overlay\",\"size\":10,\"solidity\":0.2},\"type\":\"scatter\"}],\"parcoords\":[{\"type\":\"parcoords\",\"line\":{\"colorbar\":{\"outlinewidth\":0,\"ticks\":\"\"}}}],\"scatterpolargl\":[{\"type\":\"scatterpolargl\",\"marker\":{\"colorbar\":{\"outlinewidth\":0,\"ticks\":\"\"}}}],\"bar\":[{\"error_x\":{\"color\":\"#2a3f5f\"},\"error_y\":{\"color\":\"#2a3f5f\"},\"marker\":{\"line\":{\"color\":\"#E5ECF6\",\"width\":0.5},\"pattern\":{\"fillmode\":\"overlay\",\"size\":10,\"solidity\":0.2}},\"type\":\"bar\"}],\"scattergeo\":[{\"type\":\"scattergeo\",\"marker\":{\"colorbar\":{\"outlinewidth\":0,\"ticks\":\"\"}}}],\"scatterpolar\":[{\"type\":\"scatterpolar\",\"marker\":{\"colorbar\":{\"outlinewidth\":0,\"ticks\":\"\"}}}],\"histogram\":[{\"marker\":{\"pattern\":{\"fillmode\":\"overlay\",\"size\":10,\"solidity\":0.2}},\"type\":\"histogram\"}],\"scattergl\":[{\"type\":\"scattergl\",\"marker\":{\"colorbar\":{\"outlinewidth\":0,\"ticks\":\"\"}}}],\"scatter3d\":[{\"type\":\"scatter3d\",\"line\":{\"colorbar\":{\"outlinewidth\":0,\"ticks\":\"\"}},\"marker\":{\"colorbar\":{\"outlinewidth\":0,\"ticks\":\"\"}}}],\"scattermapbox\":[{\"type\":\"scattermapbox\",\"marker\":{\"colorbar\":{\"outlinewidth\":0,\"ticks\":\"\"}}}],\"scatterternary\":[{\"type\":\"scatterternary\",\"marker\":{\"colorbar\":{\"outlinewidth\":0,\"ticks\":\"\"}}}],\"scattercarpet\":[{\"type\":\"scattercarpet\",\"marker\":{\"colorbar\":{\"outlinewidth\":0,\"ticks\":\"\"}}}],\"carpet\":[{\"aaxis\":{\"endlinecolor\":\"#2a3f5f\",\"gridcolor\":\"white\",\"linecolor\":\"white\",\"minorgridcolor\":\"white\",\"startlinecolor\":\"#2a3f5f\"},\"baxis\":{\"endlinecolor\":\"#2a3f5f\",\"gridcolor\":\"white\",\"linecolor\":\"white\",\"minorgridcolor\":\"white\",\"startlinecolor\":\"#2a3f5f\"},\"type\":\"carpet\"}],\"table\":[{\"cells\":{\"fill\":{\"color\":\"#EBF0F8\"},\"line\":{\"color\":\"white\"}},\"header\":{\"fill\":{\"color\":\"#C8D4E3\"},\"line\":{\"color\":\"white\"}},\"type\":\"table\"}],\"barpolar\":[{\"marker\":{\"line\":{\"color\":\"#E5ECF6\",\"width\":0.5},\"pattern\":{\"fillmode\":\"overlay\",\"size\":10,\"solidity\":0.2}},\"type\":\"barpolar\"}],\"pie\":[{\"automargin\":true,\"type\":\"pie\"}]},\"layout\":{\"autotypenumbers\":\"strict\",\"colorway\":[\"#636efa\",\"#EF553B\",\"#00cc96\",\"#ab63fa\",\"#FFA15A\",\"#19d3f3\",\"#FF6692\",\"#B6E880\",\"#FF97FF\",\"#FECB52\"],\"font\":{\"color\":\"#2a3f5f\"},\"hovermode\":\"closest\",\"hoverlabel\":{\"align\":\"left\"},\"paper_bgcolor\":\"white\",\"plot_bgcolor\":\"#E5ECF6\",\"polar\":{\"bgcolor\":\"#E5ECF6\",\"angularaxis\":{\"gridcolor\":\"white\",\"linecolor\":\"white\",\"ticks\":\"\"},\"radialaxis\":{\"gridcolor\":\"white\",\"linecolor\":\"white\",\"ticks\":\"\"}},\"ternary\":{\"bgcolor\":\"#E5ECF6\",\"aaxis\":{\"gridcolor\":\"white\",\"linecolor\":\"white\",\"ticks\":\"\"},\"baxis\":{\"gridcolor\":\"white\",\"linecolor\":\"white\",\"ticks\":\"\"},\"caxis\":{\"gridcolor\":\"white\",\"linecolor\":\"white\",\"ticks\":\"\"}},\"coloraxis\":{\"colorbar\":{\"outlinewidth\":0,\"ticks\":\"\"}},\"colorscale\":{\"sequential\":[[0.0,\"#0d0887\"],[0.1111111111111111,\"#46039f\"],[0.2222222222222222,\"#7201a8\"],[0.3333333333333333,\"#9c179e\"],[0.4444444444444444,\"#bd3786\"],[0.5555555555555556,\"#d8576b\"],[0.6666666666666666,\"#ed7953\"],[0.7777777777777778,\"#fb9f3a\"],[0.8888888888888888,\"#fdca26\"],[1.0,\"#f0f921\"]],\"sequentialminus\":[[0.0,\"#0d0887\"],[0.1111111111111111,\"#46039f\"],[0.2222222222222222,\"#7201a8\"],[0.3333333333333333,\"#9c179e\"],[0.4444444444444444,\"#bd3786\"],[0.5555555555555556,\"#d8576b\"],[0.6666666666666666,\"#ed7953\"],[0.7777777777777778,\"#fb9f3a\"],[0.8888888888888888,\"#fdca26\"],[1.0,\"#f0f921\"]],\"diverging\":[[0,\"#8e0152\"],[0.1,\"#c51b7d\"],[0.2,\"#de77ae\"],[0.3,\"#f1b6da\"],[0.4,\"#fde0ef\"],[0.5,\"#f7f7f7\"],[0.6,\"#e6f5d0\"],[0.7,\"#b8e186\"],[0.8,\"#7fbc41\"],[0.9,\"#4d9221\"],[1,\"#276419\"]]},\"xaxis\":{\"gridcolor\":\"white\",\"linecolor\":\"white\",\"ticks\":\"\",\"title\":{\"standoff\":15},\"zerolinecolor\":\"white\",\"automargin\":true,\"zerolinewidth\":2},\"yaxis\":{\"gridcolor\":\"white\",\"linecolor\":\"white\",\"ticks\":\"\",\"title\":{\"standoff\":15},\"zerolinecolor\":\"white\",\"automargin\":true,\"zerolinewidth\":2},\"scene\":{\"xaxis\":{\"backgroundcolor\":\"#E5ECF6\",\"gridcolor\":\"white\",\"linecolor\":\"white\",\"showbackground\":true,\"ticks\":\"\",\"zerolinecolor\":\"white\",\"gridwidth\":2},\"yaxis\":{\"backgroundcolor\":\"#E5ECF6\",\"gridcolor\":\"white\",\"linecolor\":\"white\",\"showbackground\":true,\"ticks\":\"\",\"zerolinecolor\":\"white\",\"gridwidth\":2},\"zaxis\":{\"backgroundcolor\":\"#E5ECF6\",\"gridcolor\":\"white\",\"linecolor\":\"white\",\"showbackground\":true,\"ticks\":\"\",\"zerolinecolor\":\"white\",\"gridwidth\":2}},\"shapedefaults\":{\"line\":{\"color\":\"#2a3f5f\"}},\"annotationdefaults\":{\"arrowcolor\":\"#2a3f5f\",\"arrowhead\":0,\"arrowwidth\":1},\"geo\":{\"bgcolor\":\"white\",\"landcolor\":\"#E5ECF6\",\"subunitcolor\":\"white\",\"showland\":true,\"showlakes\":true,\"lakecolor\":\"white\"},\"title\":{\"x\":0.05},\"mapbox\":{\"style\":\"light\"}}},\"xaxis\":{\"anchor\":\"y\",\"domain\":[0.0,1.0],\"title\":{\"text\":\"N\\u00famero de cliques\"}},\"yaxis\":{\"anchor\":\"x\",\"domain\":[0.0,1.0],\"title\":{\"text\":\"Usu\\u00e1rios convertidos\"}},\"legend\":{\"tracegroupgap\":0},\"title\":{\"text\":\"N\\u00famero de cliques versos usu\\u00e1rios convertidos\"}},                        {\"responsive\": true}                    ).then(function(){\n",
              "                            \n",
              "var gd = document.getElementById('23018fc6-10ab-4723-9af8-dc80742caddb');\n",
              "var x = new MutationObserver(function (mutations, observer) {{\n",
              "        var display = window.getComputedStyle(gd).display;\n",
              "        if (!display || display === 'none') {{\n",
              "            console.log([gd, 'removed!']);\n",
              "            Plotly.purge(gd);\n",
              "            observer.disconnect();\n",
              "        }}\n",
              "}});\n",
              "\n",
              "// Listen for the removal of the full notebook cells\n",
              "var notebookContainer = gd.closest('#notebook-container');\n",
              "if (notebookContainer) {{\n",
              "    x.observe(notebookContainer, {childList: true});\n",
              "}}\n",
              "\n",
              "// Listen for the clearing of the current output cell\n",
              "var outputEl = gd.closest('.output');\n",
              "if (outputEl) {{\n",
              "    x.observe(outputEl, {childList: true});\n",
              "}}\n",
              "\n",
              "                        })                };                            </script>        </div>\n",
              "</body>\n",
              "</html>"
            ]
          },
          "metadata": {}
        }
      ]
    },
    {
      "cell_type": "markdown",
      "source": [
        "## Modelagem 1"
      ],
      "metadata": {
        "id": "Z4PRGr9Jj0Ni"
      }
    },
    {
      "cell_type": "markdown",
      "source": [
        "### Versão 1"
      ],
      "metadata": {
        "id": "1aNMkK3skL81"
      }
    },
    {
      "cell_type": "markdown",
      "source": [
        "Regressão linear multipla"
      ],
      "metadata": {
        "id": "JmzDyU9hkUC8"
      }
    },
    {
      "cell_type": "code",
      "source": [
        "X=df[['numero_cliques','numero_visualizacoes','valor_gasto_campanha']]\n",
        "y=df['usuarios_convertidos']\n",
        "model1 = LinearRegression()\n",
        "model1.fit(X=X, y=y)"
      ],
      "metadata": {
        "colab": {
          "base_uri": "https://localhost:8080/",
          "height": 0
        },
        "id": "kJKZ2wE6iTax",
        "outputId": "b18137d8-2831-4b4e-8ba4-250b77e652e5"
      },
      "execution_count": 12,
      "outputs": [
        {
          "output_type": "execute_result",
          "data": {
            "text/plain": [
              "LinearRegression()"
            ],
            "text/html": [
              "<style>#sk-container-id-1 {color: black;background-color: white;}#sk-container-id-1 pre{padding: 0;}#sk-container-id-1 div.sk-toggleable {background-color: white;}#sk-container-id-1 label.sk-toggleable__label {cursor: pointer;display: block;width: 100%;margin-bottom: 0;padding: 0.3em;box-sizing: border-box;text-align: center;}#sk-container-id-1 label.sk-toggleable__label-arrow:before {content: \"▸\";float: left;margin-right: 0.25em;color: #696969;}#sk-container-id-1 label.sk-toggleable__label-arrow:hover:before {color: black;}#sk-container-id-1 div.sk-estimator:hover label.sk-toggleable__label-arrow:before {color: black;}#sk-container-id-1 div.sk-toggleable__content {max-height: 0;max-width: 0;overflow: hidden;text-align: left;background-color: #f0f8ff;}#sk-container-id-1 div.sk-toggleable__content pre {margin: 0.2em;color: black;border-radius: 0.25em;background-color: #f0f8ff;}#sk-container-id-1 input.sk-toggleable__control:checked~div.sk-toggleable__content {max-height: 200px;max-width: 100%;overflow: auto;}#sk-container-id-1 input.sk-toggleable__control:checked~label.sk-toggleable__label-arrow:before {content: \"▾\";}#sk-container-id-1 div.sk-estimator input.sk-toggleable__control:checked~label.sk-toggleable__label {background-color: #d4ebff;}#sk-container-id-1 div.sk-label input.sk-toggleable__control:checked~label.sk-toggleable__label {background-color: #d4ebff;}#sk-container-id-1 input.sk-hidden--visually {border: 0;clip: rect(1px 1px 1px 1px);clip: rect(1px, 1px, 1px, 1px);height: 1px;margin: -1px;overflow: hidden;padding: 0;position: absolute;width: 1px;}#sk-container-id-1 div.sk-estimator {font-family: monospace;background-color: #f0f8ff;border: 1px dotted black;border-radius: 0.25em;box-sizing: border-box;margin-bottom: 0.5em;}#sk-container-id-1 div.sk-estimator:hover {background-color: #d4ebff;}#sk-container-id-1 div.sk-parallel-item::after {content: \"\";width: 100%;border-bottom: 1px solid gray;flex-grow: 1;}#sk-container-id-1 div.sk-label:hover label.sk-toggleable__label {background-color: #d4ebff;}#sk-container-id-1 div.sk-serial::before {content: \"\";position: absolute;border-left: 1px solid gray;box-sizing: border-box;top: 0;bottom: 0;left: 50%;z-index: 0;}#sk-container-id-1 div.sk-serial {display: flex;flex-direction: column;align-items: center;background-color: white;padding-right: 0.2em;padding-left: 0.2em;position: relative;}#sk-container-id-1 div.sk-item {position: relative;z-index: 1;}#sk-container-id-1 div.sk-parallel {display: flex;align-items: stretch;justify-content: center;background-color: white;position: relative;}#sk-container-id-1 div.sk-item::before, #sk-container-id-1 div.sk-parallel-item::before {content: \"\";position: absolute;border-left: 1px solid gray;box-sizing: border-box;top: 0;bottom: 0;left: 50%;z-index: -1;}#sk-container-id-1 div.sk-parallel-item {display: flex;flex-direction: column;z-index: 1;position: relative;background-color: white;}#sk-container-id-1 div.sk-parallel-item:first-child::after {align-self: flex-end;width: 50%;}#sk-container-id-1 div.sk-parallel-item:last-child::after {align-self: flex-start;width: 50%;}#sk-container-id-1 div.sk-parallel-item:only-child::after {width: 0;}#sk-container-id-1 div.sk-dashed-wrapped {border: 1px dashed gray;margin: 0 0.4em 0.5em 0.4em;box-sizing: border-box;padding-bottom: 0.4em;background-color: white;}#sk-container-id-1 div.sk-label label {font-family: monospace;font-weight: bold;display: inline-block;line-height: 1.2em;}#sk-container-id-1 div.sk-label-container {text-align: center;}#sk-container-id-1 div.sk-container {/* jupyter's `normalize.less` sets `[hidden] { display: none; }` but bootstrap.min.css set `[hidden] { display: none !important; }` so we also need the `!important` here to be able to override the default hidden behavior on the sphinx rendered scikit-learn.org. See: https://github.com/scikit-learn/scikit-learn/issues/21755 */display: inline-block !important;position: relative;}#sk-container-id-1 div.sk-text-repr-fallback {display: none;}</style><div id=\"sk-container-id-1\" class=\"sk-top-container\"><div class=\"sk-text-repr-fallback\"><pre>LinearRegression()</pre><b>In a Jupyter environment, please rerun this cell to show the HTML representation or trust the notebook. <br />On GitHub, the HTML representation is unable to render, please try loading this page with nbviewer.org.</b></div><div class=\"sk-container\" hidden><div class=\"sk-item\"><div class=\"sk-estimator sk-toggleable\"><input class=\"sk-toggleable__control sk-hidden--visually\" id=\"sk-estimator-id-1\" type=\"checkbox\" checked><label for=\"sk-estimator-id-1\" class=\"sk-toggleable__label sk-toggleable__label-arrow\">LinearRegression</label><div class=\"sk-toggleable__content\"><pre>LinearRegression()</pre></div></div></div></div></div>"
            ]
          },
          "metadata": {},
          "execution_count": 12
        }
      ]
    },
    {
      "cell_type": "markdown",
      "source": [
        "**Coeficiente de determinação (R²)**\n",
        "\n",
        "O Coeficiente de determinação (R²) indica o quanto, em porcentagem, o modelo consegue explicar 86% da variância da variável \"target\" com este modelo.\n",
        "Quando mais próximo de 1 melhor."
      ],
      "metadata": {
        "id": "7c6plxJym39W"
      }
    },
    {
      "cell_type": "code",
      "source": [
        "model1.score(X=X, y=y)"
      ],
      "metadata": {
        "colab": {
          "base_uri": "https://localhost:8080/"
        },
        "id": "BYRruY21mHdd",
        "outputId": "4929ec0b-c83f-4656-d2d6-563874377dd2"
      },
      "execution_count": 13,
      "outputs": [
        {
          "output_type": "execute_result",
          "data": {
            "text/plain": [
              "0.8617331627711401"
            ]
          },
          "metadata": {},
          "execution_count": 13
        }
      ]
    },
    {
      "cell_type": "markdown",
      "source": [
        "**Intercepto ou constante de modelo**\n",
        "\n",
        "O intercepto é o ponto da reta que encontra o eixo Y. Ou seja, é o valor de Y quando x=0.\n",
        "\n",
        "Seria o **'a'** da expressão Y=a+bx+*erro*"
      ],
      "metadata": {
        "id": "4S0R8scBm-wl"
      }
    },
    {
      "cell_type": "code",
      "source": [
        "model1.intercept_"
      ],
      "metadata": {
        "colab": {
          "base_uri": "https://localhost:8080/"
        },
        "id": "_lGGanBTnDJx",
        "outputId": "152cf086-faa0-4c2f-a2ee-3c3c361224c6"
      },
      "execution_count": 14,
      "outputs": [
        {
          "output_type": "execute_result",
          "data": {
            "text/plain": [
              "-1.5634634573276642"
            ]
          },
          "metadata": {},
          "execution_count": 14
        }
      ]
    },
    {
      "cell_type": "markdown",
      "source": [
        "**Coeficientes ou parâmetros do modelo**\n",
        "\n",
        "O coeficiente angular é o quanto a reta está inclinada. Determina se a reta será crescente ou decrescente.\n",
        "\n",
        "Na expressão da regressão linear (Y=a+bx) é o valor do **'b'**.\n",
        "\n",
        "❗ Como nesse modelo usamos mais de uma variável preditora/independente há mais de um coeficiente"
      ],
      "metadata": {
        "id": "CUm8wMzNnIWE"
      }
    },
    {
      "cell_type": "code",
      "source": [
        "model1.coef_"
      ],
      "metadata": {
        "colab": {
          "base_uri": "https://localhost:8080/"
        },
        "id": "uaNz_Gn6nFhl",
        "outputId": "030dc827-4dd7-4b09-c902-467a16845a98"
      },
      "execution_count": 15,
      "outputs": [
        {
          "output_type": "execute_result",
          "data": {
            "text/plain": [
              "array([ 0.94388169, -0.00350504,  0.00779719])"
            ]
          },
          "metadata": {},
          "execution_count": 15
        }
      ]
    },
    {
      "cell_type": "code",
      "source": [
        "model1.rank_"
      ],
      "metadata": {
        "colab": {
          "base_uri": "https://localhost:8080/"
        },
        "id": "HufnU74yoaya",
        "outputId": "f86ac751-8915-4c02-a256-55a9d8de799c"
      },
      "execution_count": 16,
      "outputs": [
        {
          "output_type": "execute_result",
          "data": {
            "text/plain": [
              "3"
            ]
          },
          "metadata": {},
          "execution_count": 16
        }
      ]
    },
    {
      "cell_type": "markdown",
      "source": [
        "**Residuais**\n",
        "\n",
        "Os resíduos são a diferença entre os valores \"target\", valores que queremos prever também chamados de valores observados e que também são os usados para avaliar o modelo, e os valores previstos pelo modelo treinado."
      ],
      "metadata": {
        "id": "YUMjdnDgqiN2"
      }
    },
    {
      "cell_type": "code",
      "source": [
        "prediction = model1.predict(X)\n",
        "residuals = y - prediction\n",
        "residuals.mean()"
      ],
      "metadata": {
        "colab": {
          "base_uri": "https://localhost:8080/"
        },
        "id": "0QQKwu0uptBV",
        "outputId": "616475c9-a400-406d-ef58-e17cdb5fa813"
      },
      "execution_count": 17,
      "outputs": [
        {
          "output_type": "execute_result",
          "data": {
            "text/plain": [
              "1.4068746168049984e-15"
            ]
          },
          "metadata": {},
          "execution_count": 17
        }
      ]
    },
    {
      "cell_type": "code",
      "source": [
        "fig = go.Figure(layout={'title':{'text':'Modelo 1: Valores previstos versus treino'}})\n",
        "fig.update_xaxes(title_text='Quantidade de usuários convertidos')\n",
        "fig.update_layout(legend_title_text='Legenda')\n",
        "fig.add_trace(go.Scatter(x=list(range(0, 100)), y=df['usuarios_convertidos'],\n",
        "                    mode='lines',\n",
        "                    name='Train values',\n",
        "                    hovertemplate='Train value: <b>%{y}</b>'))\n",
        "fig.add_trace(go.Scatter(x=list(range(0, 100)), y=prediction,\n",
        "                    mode='lines',\n",
        "                    name='Predict values',\n",
        "                    hovertemplate='Predict value: <b>%{y}</b>'))\n",
        "#fig.add_trace(go.Scatter(x=random_x, y=random_y2,\n",
        "#                    mode='markers', name='markers'))\n",
        "\n",
        "fig.show()"
      ],
      "metadata": {
        "id": "8a-1hTGlqzW3",
        "colab": {
          "base_uri": "https://localhost:8080/",
          "height": 0
        },
        "outputId": "b283d2d1-e672-43f4-8173-bea605ec574e"
      },
      "execution_count": 18,
      "outputs": [
        {
          "output_type": "display_data",
          "data": {
            "text/html": [
              "<html>\n",
              "<head><meta charset=\"utf-8\" /></head>\n",
              "<body>\n",
              "    <div>            <script src=\"https://cdnjs.cloudflare.com/ajax/libs/mathjax/2.7.5/MathJax.js?config=TeX-AMS-MML_SVG\"></script><script type=\"text/javascript\">if (window.MathJax && window.MathJax.Hub && window.MathJax.Hub.Config) {window.MathJax.Hub.Config({SVG: {font: \"STIX-Web\"}});}</script>                <script type=\"text/javascript\">window.PlotlyConfig = {MathJaxConfig: 'local'};</script>\n",
              "        <script charset=\"utf-8\" src=\"https://cdn.plot.ly/plotly-2.24.1.min.js\"></script>                <div id=\"7c5009a2-7761-4926-919f-fc1dd6147aa7\" class=\"plotly-graph-div\" style=\"height:525px; width:100%;\"></div>            <script type=\"text/javascript\">                                    window.PLOTLYENV=window.PLOTLYENV || {};                                    if (document.getElementById(\"7c5009a2-7761-4926-919f-fc1dd6147aa7\")) {                    Plotly.newPlot(                        \"7c5009a2-7761-4926-919f-fc1dd6147aa7\",                        [{\"hovertemplate\":\"Train value: \\u003cb\\u003e%{y}\\u003c\\u002fb\\u003e\",\"mode\":\"lines\",\"name\":\"Train values\",\"x\":[0,1,2,3,4,5,6,7,8,9,10,11,12,13,14,15,16,17,18,19,20,21,22,23,24,25,26,27,28,29,30,31,32,33,34,35,36,37,38,39,40,41,42,43,44,45,46,47,48,49,50,51,52,53,54,55,56,57,58,59,60,61,62,63,64,65,66,67,68,69,70,71,72,73,74,75,76,77,78,79,80,81,82,83,84,85,86,87,88,89,90,91,92,93,94,95,96,97,98,99],\"y\":[30,72,47,63,34,18,25,61,58,74,7,75,65,42,36,27,37,43,57,40,75,31,33,28,30,48,38,56,39,36,51,35,44,81,71,57,19,23,57,37,30,51,24,64,40,63,30,65,51,34,81,66,82,73,49,75,18,36,27,39,43,20,61,44,41,42,45,56,38,79,57,53,13,75,70,55,77,26,46,33,67,64,49,11,54,25,72,68,58,45,20,59,60,61,77,64,46,44,9,22,36,73,28,45,70,40,37,67,32,29,45,33,67,64,56,65,63,50,75,49,72,66,53,34,35,51,50,57,13,52,63,58,37,47,54,36,43,54,42,69,53,45,39,42,60,18,30,47,39,59,58,42,28,48,101,22,61,68,48,62,46,53,59,48,36,63,45,34,38,54,41,38,42,30,51,47,38,76,82,34,42,34,76,75,43,59,64,51,50,48,36,40,77,59,42,39,73,79,62,68,47,15,27,79,65,31,37,63,19,37,60,67,69,43,64,48,41,54,56,60,51,52,22,40,19,39,74,36,76,66,49,43,46,40,43,59,36,6,64,21,73,75,84,30,4,73,64,86,75,63,48,35,72,46,44,80,76,55,53,12,49,70,27,52,61,73,60,60,40,41,74,57,62,68,37,42,60,66,63,67,78,41,48,29,57,21,24,51,54,64,36,39,67,45,25,48,70,48,55,25,28,58,38,34,56,62,46,40,60,53,50,32,32,62,77,59,52,23,17,46,56,52,49,50,61,78,44,62,43,43,37,61,26,21,35,22,65,50,23,28,74,57,33,44,45,61,45,38,51,63,55,68,65,39,25,51,27,70,60,39,46,58,50,55,70,59,57,62,34,12,28,43,30,61,16,35,63,23,79,45,20,62,61,80,78,55,31,21,60,70,84,45,40,65,34,92,52,48,83,63,28,67,48,80,19,85,30,23,66,35,25,77,93,40,58,41,44,42,52,67,83,63,37,37,18,57,62,73,39,31,20,69,65,26,25,63,24,65,81,27,26,68,51,42,59,86,88,57,25,39,57,61,27,79,18,57,26,39,24,38,32,63,82,39,89,45,30,55,34,82,24,89,13,69,39,78,38,48,47,53,61,64,60,46,61,82,9,42,67,69,51,51,32,35,37,32,61,17,80,79],\"type\":\"scatter\"},{\"hovertemplate\":\"Predict value: \\u003cb\\u003e%{y}\\u003c\\u002fb\\u003e\",\"mode\":\"lines\",\"name\":\"Predict values\",\"x\":[0,1,2,3,4,5,6,7,8,9,10,11,12,13,14,15,16,17,18,19,20,21,22,23,24,25,26,27,28,29,30,31,32,33,34,35,36,37,38,39,40,41,42,43,44,45,46,47,48,49,50,51,52,53,54,55,56,57,58,59,60,61,62,63,64,65,66,67,68,69,70,71,72,73,74,75,76,77,78,79,80,81,82,83,84,85,86,87,88,89,90,91,92,93,94,95,96,97,98,99],\"y\":[40.84155990260393,69.74372087891771,49.55850491577,53.6103699736027,30.557826305389398,23.768392324263175,21.97421362237035,59.549985939725,54.7626233299003,68.44075780641137,19.653221854882943,71.84725225457552,64.66323760820089,34.42650182512448,34.658756539969076,26.34088605593163,41.595339642152105,39.20009564821517,49.7679404958123,40.75338684447989,65.63519634305854,44.3055755469231,37.890983513802276,31.697092581638827,39.31300148489513,49.28126299368296,34.971878587528394,49.14549542173283,51.548854832100695,28.353602015929017,52.85933947527576,30.769420324576608,43.40158884938668,75.83057234704356,81.04107284525972,65.51359724109432,32.04865357418019,27.23786807425386,60.509794372013125,33.279603353722656,28.435478190902902,54.33116498723435,24.520584889800805,61.30685811660162,38.40829029727282,68.73934231377382,40.95670889646646,57.599587748867044,56.361504308695785,32.46140580250113,69.56589869604079,60.91893093438933,84.83287754164772,71.032583988352,51.00927053171736,72.30368180168463,31.805698716948875,42.98595417473301,37.146704169772136,39.56287367459778,45.501887065431774,21.84248564315378,71.80081440425221,37.16402648504105,40.80860648684135,41.92323225208759,34.57390939190856,57.58380716422068,29.885647118167945,74.77289415279589,58.95520035391114,46.58158010716806,13.567009675907268,71.11332185675406,71.14996484908318,56.527839721690256,67.53346944234835,25.723778689828038,49.740214163541914,31.866293264046135,65.33359119552455,62.60438650698439,39.83851006574335,22.53375837186211,48.33770777411876,32.07491090643878,62.83086005012233,58.04852703546136,67.77053202049126,52.45684344271269,22.679482756284074,62.42388899350805,52.72842991660691,54.43919493660018,70.08821623484607,51.38306644070366,44.35956509805806,42.19621333247374,18.814134809521615,25.144168270452102,19.74974453162825,54.57986970601839,32.21346443347201,49.615766003288655,58.13093187510175,35.80463743958562,39.39947085791897,72.2445762744392,31.728434579853946,30.189680440888008,42.38099004458191,22.028271197521114,73.82620766857653,66.47252463252687,58.65899927545974,85.85993234116015,54.717660366194764,49.284608440688444,71.30893357926954,51.84960650813419,68.6469143005549,67.110632600152,43.32588057614835,32.640715342320775,28.099332453595792,51.697333861451824,56.882826441362965,57.619731553069904,16.87715302920858,56.75129380466771,51.91378541102223,47.9687008886018,30.07631444645541,47.314457399353415,67.49565142958551,46.96163618544264,46.83405253683731,60.28991169160345,43.05013896422704,78.44197813466971,61.22692405261517,44.34296893578412,44.37415064243069,40.918984814165476,48.90361036415947,23.009196742420443,43.530753088283596,49.90546682365542,39.71318370755462,52.23876378157297,69.87811712211669,36.836071254797695,25.706057657103337,53.76358461853946,91.43600859405402,36.69992332232273,57.236558343374185,64.26011523971064,33.65132228370092,60.30608440998663,49.90931717468856,52.24031257881255,60.80692283258681,49.74917931067449,32.631983217367505,60.38432067547886,42.90310635425988,19.378322907046275,30.94997879545174,47.203698711504444,56.91531214985783,34.82228127144546,48.49446299436742,39.94060513555292,50.56256899859768,48.113181745676194,53.74690041240967,57.613047939890855,82.42479380600813,27.006474380424834,37.22153354796202,28.811469252895975,72.2920229670217,67.8467819116191,45.83938529166103,57.43844104259381,67.03340517691893,48.89137908435113,42.23896867284755,43.636569044813655,22.826472765783375,56.816347164692395,67.57747205086855,66.92858628943605,46.11797429896229,40.86212999361769,73.5048336736566,71.58795475998767,69.50304803853797,66.89562580705646,54.0658462321435,28.472163783699873,32.93050302653236,76.40810412450236,51.85429786034286,23.148389558603842,31.696759742391706,61.38185319006797,16.254160933531676,45.80056550325607,63.67228418312805,66.84533926860911,63.77190729727264,37.8784949682777,58.72819107948968,42.33123757450898,41.686500367384625,53.0961932747763,58.24724459908406,63.45233347870256,46.152347047651794,49.06985350960122,23.7921718142508,50.632381251948786,31.332660537240884,31.649110157772817,76.2921237568691,32.94365510474402,77.97139895740366,59.354928305423975,57.11460638232282,52.80020263787639,43.86682325205981,39.051206128196284,35.42462396177889,65.75785443726485,30.713321304268646,2.942611053957471,58.194238466660316,30.399103550605357,78.62358804827187,72.2762937123693,76.23843573482733,42.07695505895275,1.3081622861987565,71.2243211162974,55.46313260469148,82.29418529353441,72.71280541083783,65.86199143512968,31.38002202888766,36.65928382062597,72.9312800486345,38.402392614476504,38.33992986701361,67.83718287904429,72.675720617687,59.04857625199047,49.29925542535793,19.629946786024906,54.96043560913048,74.71566977913912,25.811803926708482,52.724383257256335,69.09910724950004,57.794140962038476,65.85033800417466,59.0217535412035,43.35567259711284,45.924827465494765,63.314672282838835,58.231526634745585,64.24915124788873,65.77004193659431,52.97123646969657,42.73567571805949,60.37973288113683,62.34976574847311,56.40143649722654,64.30440220040413,75.2573510783705,40.3652454799173,45.20774627196657,26.303832572934766,48.48084202887701,24.76298143512077,45.187455129418176,51.130716408730045,46.6413562337176,62.270755325810114,24.443592151656144,40.23493046412359,67.66305075563196,51.86789458229636,24.078545061644952,58.50999324435121,70.63421559237833,43.53899326243223,56.83346562212879,25.476568877501816,32.83588526401456,55.53822042860864,36.566811544030074,40.44098222038944,58.1083031620109,69.82400987988103,47.64939140236496,46.03527970344069,53.88586609301975,45.75147656587024,40.296077919424285,33.40416213845958,27.990073593014497,70.08717067872504,68.24563048518544,66.11593404482176,53.749686367492785,31.28273059867952,23.817462904718074,43.87171915921398,51.117913863787344,61.26324341812134,61.92651675269992,49.41842094842813,64.12666521846293,71.71063661483285,42.70753016559524,61.61679618873502,46.343987684347596,31.080936841194436,34.53839175292826,61.635624217877606,23.328602719906904,19.641396842045467,31.771614544129548,25.14298195970449,65.57717779239096,51.876379551836266,41.745219647499226,35.6732175731812,58.25154215464682,48.95549702984039,35.08031314095599,43.55490753508814,43.87187827077149,62.54980615377311,42.031722359206036,37.7565813839973,47.5293476813593,58.161758161873365,51.80374532665316,68.14921136630679,52.672679946669845,42.79874762452965,26.012335799915054,56.82739047084403,30.655050891592765,57.20990181076176,69.16374090643276,45.30334156658959,49.36425274879369,47.238643905339345,48.630716147618124,50.51866994794411,74.13980449002057,53.05057924870862,62.948137835884914,63.60857298750772,32.64283658470575,15.84537556733353,32.583535232040944,31.902771741109817,15.52856934691561,59.12596985339806,16.844432635625303,29.758314848672857,60.160859042986324,23.701236561682506,78.74420421442292,42.858388883058616,22.557711589539352,63.391252867406656,56.84417283113254,71.50211172289102,64.40360020774887,51.91429405584871,32.816704858682876,28.455259508613793,61.574033781744184,65.65403732542413,75.23272352059033,47.98439342939231,36.16535566388011,69.09919951705277,32.996335947435725,79.00556365690605,54.7145987884645,45.123281630238054,77.22993736150863,65.91001057285754,33.09086095950273,71.14505765161508,44.0229332965523,71.9737051461241,26.674068369667193,83.64134257628345,31.659115457318507,27.525878162743435,73.29376831913592,40.21434367908801,31.01414522801484,79.18525570305769,94.02877677424902,44.5121074807816,51.225304524003,35.30335014954672,44.52698278103545,32.65741672537045,53.97107524467418,66.94719258671324,74.55777084861072,66.27506895318265,33.228627376142185,49.92291812033895,18.48259522348747,51.455184954443276,50.88092519626622,75.78503811820366,45.397345463505175,32.4078822957248,31.31519795024345,60.97879932849161,68.03941843735106,34.74922242236055,29.668408458203764,70.32053190708945,18.58903799884275,63.823646141709965,67.22190866235354,30.726620720825842,22.426585702713027,75.42585740083484,53.89037949384192,45.51225436857137,64.07593521628479,75.01480297100812,77.4109748299654,66.52284414403724,38.65315006873164,32.574684933088925,58.88553003519764,47.13814307615734,31.95056796696126,83.89909716023769,18.25442388185532,53.33663849668464,29.681050228679858,38.29172619418027,25.860327485565943,38.0972819425834,31.263974817249633,74.16275967285449,63.917022039789295,52.43555641112814,80.71443505298575,47.93242744938168,37.03351024012005,59.01855543254354,35.68228794108951,69.69358049880483,27.316362785473356,82.95301491421571,23.112060565692857,75.3843196813626,47.47657457111486,77.78100891467247,28.138323823883205,47.504049524275,67.44952051206332,59.2934301368433,58.04144304191743,62.29133670713779,49.372449142463424,57.64005566868134,60.5036636670375,85.35325885607153,13.931711456346388,38.35200085525341,72.36077130732082,72.2574640203176,48.226062158808205,49.62003979821255,39.390875263895396,37.15864028999134,38.66385561482628,43.88371623683198,62.59574498667477,23.828648628405382,78.41200698230764,80.36179130756341],\"type\":\"scatter\"}],                        {\"title\":{\"text\":\"Modelo 1: Valores previstos versus treino\"},\"template\":{\"data\":{\"histogram2dcontour\":[{\"type\":\"histogram2dcontour\",\"colorbar\":{\"outlinewidth\":0,\"ticks\":\"\"},\"colorscale\":[[0.0,\"#0d0887\"],[0.1111111111111111,\"#46039f\"],[0.2222222222222222,\"#7201a8\"],[0.3333333333333333,\"#9c179e\"],[0.4444444444444444,\"#bd3786\"],[0.5555555555555556,\"#d8576b\"],[0.6666666666666666,\"#ed7953\"],[0.7777777777777778,\"#fb9f3a\"],[0.8888888888888888,\"#fdca26\"],[1.0,\"#f0f921\"]]}],\"choropleth\":[{\"type\":\"choropleth\",\"colorbar\":{\"outlinewidth\":0,\"ticks\":\"\"}}],\"histogram2d\":[{\"type\":\"histogram2d\",\"colorbar\":{\"outlinewidth\":0,\"ticks\":\"\"},\"colorscale\":[[0.0,\"#0d0887\"],[0.1111111111111111,\"#46039f\"],[0.2222222222222222,\"#7201a8\"],[0.3333333333333333,\"#9c179e\"],[0.4444444444444444,\"#bd3786\"],[0.5555555555555556,\"#d8576b\"],[0.6666666666666666,\"#ed7953\"],[0.7777777777777778,\"#fb9f3a\"],[0.8888888888888888,\"#fdca26\"],[1.0,\"#f0f921\"]]}],\"heatmap\":[{\"type\":\"heatmap\",\"colorbar\":{\"outlinewidth\":0,\"ticks\":\"\"},\"colorscale\":[[0.0,\"#0d0887\"],[0.1111111111111111,\"#46039f\"],[0.2222222222222222,\"#7201a8\"],[0.3333333333333333,\"#9c179e\"],[0.4444444444444444,\"#bd3786\"],[0.5555555555555556,\"#d8576b\"],[0.6666666666666666,\"#ed7953\"],[0.7777777777777778,\"#fb9f3a\"],[0.8888888888888888,\"#fdca26\"],[1.0,\"#f0f921\"]]}],\"heatmapgl\":[{\"type\":\"heatmapgl\",\"colorbar\":{\"outlinewidth\":0,\"ticks\":\"\"},\"colorscale\":[[0.0,\"#0d0887\"],[0.1111111111111111,\"#46039f\"],[0.2222222222222222,\"#7201a8\"],[0.3333333333333333,\"#9c179e\"],[0.4444444444444444,\"#bd3786\"],[0.5555555555555556,\"#d8576b\"],[0.6666666666666666,\"#ed7953\"],[0.7777777777777778,\"#fb9f3a\"],[0.8888888888888888,\"#fdca26\"],[1.0,\"#f0f921\"]]}],\"contourcarpet\":[{\"type\":\"contourcarpet\",\"colorbar\":{\"outlinewidth\":0,\"ticks\":\"\"}}],\"contour\":[{\"type\":\"contour\",\"colorbar\":{\"outlinewidth\":0,\"ticks\":\"\"},\"colorscale\":[[0.0,\"#0d0887\"],[0.1111111111111111,\"#46039f\"],[0.2222222222222222,\"#7201a8\"],[0.3333333333333333,\"#9c179e\"],[0.4444444444444444,\"#bd3786\"],[0.5555555555555556,\"#d8576b\"],[0.6666666666666666,\"#ed7953\"],[0.7777777777777778,\"#fb9f3a\"],[0.8888888888888888,\"#fdca26\"],[1.0,\"#f0f921\"]]}],\"surface\":[{\"type\":\"surface\",\"colorbar\":{\"outlinewidth\":0,\"ticks\":\"\"},\"colorscale\":[[0.0,\"#0d0887\"],[0.1111111111111111,\"#46039f\"],[0.2222222222222222,\"#7201a8\"],[0.3333333333333333,\"#9c179e\"],[0.4444444444444444,\"#bd3786\"],[0.5555555555555556,\"#d8576b\"],[0.6666666666666666,\"#ed7953\"],[0.7777777777777778,\"#fb9f3a\"],[0.8888888888888888,\"#fdca26\"],[1.0,\"#f0f921\"]]}],\"mesh3d\":[{\"type\":\"mesh3d\",\"colorbar\":{\"outlinewidth\":0,\"ticks\":\"\"}}],\"scatter\":[{\"fillpattern\":{\"fillmode\":\"overlay\",\"size\":10,\"solidity\":0.2},\"type\":\"scatter\"}],\"parcoords\":[{\"type\":\"parcoords\",\"line\":{\"colorbar\":{\"outlinewidth\":0,\"ticks\":\"\"}}}],\"scatterpolargl\":[{\"type\":\"scatterpolargl\",\"marker\":{\"colorbar\":{\"outlinewidth\":0,\"ticks\":\"\"}}}],\"bar\":[{\"error_x\":{\"color\":\"#2a3f5f\"},\"error_y\":{\"color\":\"#2a3f5f\"},\"marker\":{\"line\":{\"color\":\"#E5ECF6\",\"width\":0.5},\"pattern\":{\"fillmode\":\"overlay\",\"size\":10,\"solidity\":0.2}},\"type\":\"bar\"}],\"scattergeo\":[{\"type\":\"scattergeo\",\"marker\":{\"colorbar\":{\"outlinewidth\":0,\"ticks\":\"\"}}}],\"scatterpolar\":[{\"type\":\"scatterpolar\",\"marker\":{\"colorbar\":{\"outlinewidth\":0,\"ticks\":\"\"}}}],\"histogram\":[{\"marker\":{\"pattern\":{\"fillmode\":\"overlay\",\"size\":10,\"solidity\":0.2}},\"type\":\"histogram\"}],\"scattergl\":[{\"type\":\"scattergl\",\"marker\":{\"colorbar\":{\"outlinewidth\":0,\"ticks\":\"\"}}}],\"scatter3d\":[{\"type\":\"scatter3d\",\"line\":{\"colorbar\":{\"outlinewidth\":0,\"ticks\":\"\"}},\"marker\":{\"colorbar\":{\"outlinewidth\":0,\"ticks\":\"\"}}}],\"scattermapbox\":[{\"type\":\"scattermapbox\",\"marker\":{\"colorbar\":{\"outlinewidth\":0,\"ticks\":\"\"}}}],\"scatterternary\":[{\"type\":\"scatterternary\",\"marker\":{\"colorbar\":{\"outlinewidth\":0,\"ticks\":\"\"}}}],\"scattercarpet\":[{\"type\":\"scattercarpet\",\"marker\":{\"colorbar\":{\"outlinewidth\":0,\"ticks\":\"\"}}}],\"carpet\":[{\"aaxis\":{\"endlinecolor\":\"#2a3f5f\",\"gridcolor\":\"white\",\"linecolor\":\"white\",\"minorgridcolor\":\"white\",\"startlinecolor\":\"#2a3f5f\"},\"baxis\":{\"endlinecolor\":\"#2a3f5f\",\"gridcolor\":\"white\",\"linecolor\":\"white\",\"minorgridcolor\":\"white\",\"startlinecolor\":\"#2a3f5f\"},\"type\":\"carpet\"}],\"table\":[{\"cells\":{\"fill\":{\"color\":\"#EBF0F8\"},\"line\":{\"color\":\"white\"}},\"header\":{\"fill\":{\"color\":\"#C8D4E3\"},\"line\":{\"color\":\"white\"}},\"type\":\"table\"}],\"barpolar\":[{\"marker\":{\"line\":{\"color\":\"#E5ECF6\",\"width\":0.5},\"pattern\":{\"fillmode\":\"overlay\",\"size\":10,\"solidity\":0.2}},\"type\":\"barpolar\"}],\"pie\":[{\"automargin\":true,\"type\":\"pie\"}]},\"layout\":{\"autotypenumbers\":\"strict\",\"colorway\":[\"#636efa\",\"#EF553B\",\"#00cc96\",\"#ab63fa\",\"#FFA15A\",\"#19d3f3\",\"#FF6692\",\"#B6E880\",\"#FF97FF\",\"#FECB52\"],\"font\":{\"color\":\"#2a3f5f\"},\"hovermode\":\"closest\",\"hoverlabel\":{\"align\":\"left\"},\"paper_bgcolor\":\"white\",\"plot_bgcolor\":\"#E5ECF6\",\"polar\":{\"bgcolor\":\"#E5ECF6\",\"angularaxis\":{\"gridcolor\":\"white\",\"linecolor\":\"white\",\"ticks\":\"\"},\"radialaxis\":{\"gridcolor\":\"white\",\"linecolor\":\"white\",\"ticks\":\"\"}},\"ternary\":{\"bgcolor\":\"#E5ECF6\",\"aaxis\":{\"gridcolor\":\"white\",\"linecolor\":\"white\",\"ticks\":\"\"},\"baxis\":{\"gridcolor\":\"white\",\"linecolor\":\"white\",\"ticks\":\"\"},\"caxis\":{\"gridcolor\":\"white\",\"linecolor\":\"white\",\"ticks\":\"\"}},\"coloraxis\":{\"colorbar\":{\"outlinewidth\":0,\"ticks\":\"\"}},\"colorscale\":{\"sequential\":[[0.0,\"#0d0887\"],[0.1111111111111111,\"#46039f\"],[0.2222222222222222,\"#7201a8\"],[0.3333333333333333,\"#9c179e\"],[0.4444444444444444,\"#bd3786\"],[0.5555555555555556,\"#d8576b\"],[0.6666666666666666,\"#ed7953\"],[0.7777777777777778,\"#fb9f3a\"],[0.8888888888888888,\"#fdca26\"],[1.0,\"#f0f921\"]],\"sequentialminus\":[[0.0,\"#0d0887\"],[0.1111111111111111,\"#46039f\"],[0.2222222222222222,\"#7201a8\"],[0.3333333333333333,\"#9c179e\"],[0.4444444444444444,\"#bd3786\"],[0.5555555555555556,\"#d8576b\"],[0.6666666666666666,\"#ed7953\"],[0.7777777777777778,\"#fb9f3a\"],[0.8888888888888888,\"#fdca26\"],[1.0,\"#f0f921\"]],\"diverging\":[[0,\"#8e0152\"],[0.1,\"#c51b7d\"],[0.2,\"#de77ae\"],[0.3,\"#f1b6da\"],[0.4,\"#fde0ef\"],[0.5,\"#f7f7f7\"],[0.6,\"#e6f5d0\"],[0.7,\"#b8e186\"],[0.8,\"#7fbc41\"],[0.9,\"#4d9221\"],[1,\"#276419\"]]},\"xaxis\":{\"gridcolor\":\"white\",\"linecolor\":\"white\",\"ticks\":\"\",\"title\":{\"standoff\":15},\"zerolinecolor\":\"white\",\"automargin\":true,\"zerolinewidth\":2},\"yaxis\":{\"gridcolor\":\"white\",\"linecolor\":\"white\",\"ticks\":\"\",\"title\":{\"standoff\":15},\"zerolinecolor\":\"white\",\"automargin\":true,\"zerolinewidth\":2},\"scene\":{\"xaxis\":{\"backgroundcolor\":\"#E5ECF6\",\"gridcolor\":\"white\",\"linecolor\":\"white\",\"showbackground\":true,\"ticks\":\"\",\"zerolinecolor\":\"white\",\"gridwidth\":2},\"yaxis\":{\"backgroundcolor\":\"#E5ECF6\",\"gridcolor\":\"white\",\"linecolor\":\"white\",\"showbackground\":true,\"ticks\":\"\",\"zerolinecolor\":\"white\",\"gridwidth\":2},\"zaxis\":{\"backgroundcolor\":\"#E5ECF6\",\"gridcolor\":\"white\",\"linecolor\":\"white\",\"showbackground\":true,\"ticks\":\"\",\"zerolinecolor\":\"white\",\"gridwidth\":2}},\"shapedefaults\":{\"line\":{\"color\":\"#2a3f5f\"}},\"annotationdefaults\":{\"arrowcolor\":\"#2a3f5f\",\"arrowhead\":0,\"arrowwidth\":1},\"geo\":{\"bgcolor\":\"white\",\"landcolor\":\"#E5ECF6\",\"subunitcolor\":\"white\",\"showland\":true,\"showlakes\":true,\"lakecolor\":\"white\"},\"title\":{\"x\":0.05},\"mapbox\":{\"style\":\"light\"}}},\"xaxis\":{\"title\":{\"text\":\"Quantidade de usu\\u00e1rios convertidos\"}},\"legend\":{\"title\":{\"text\":\"Legenda\"}}},                        {\"responsive\": true}                    ).then(function(){\n",
              "                            \n",
              "var gd = document.getElementById('7c5009a2-7761-4926-919f-fc1dd6147aa7');\n",
              "var x = new MutationObserver(function (mutations, observer) {{\n",
              "        var display = window.getComputedStyle(gd).display;\n",
              "        if (!display || display === 'none') {{\n",
              "            console.log([gd, 'removed!']);\n",
              "            Plotly.purge(gd);\n",
              "            observer.disconnect();\n",
              "        }}\n",
              "}});\n",
              "\n",
              "// Listen for the removal of the full notebook cells\n",
              "var notebookContainer = gd.closest('#notebook-container');\n",
              "if (notebookContainer) {{\n",
              "    x.observe(notebookContainer, {childList: true});\n",
              "}}\n",
              "\n",
              "// Listen for the clearing of the current output cell\n",
              "var outputEl = gd.closest('.output');\n",
              "if (outputEl) {{\n",
              "    x.observe(outputEl, {childList: true});\n",
              "}}\n",
              "\n",
              "                        })                };                            </script>        </div>\n",
              "</body>\n",
              "</html>"
            ]
          },
          "metadata": {}
        }
      ]
    },
    {
      "cell_type": "markdown",
      "source": [
        "### Versão 2"
      ],
      "metadata": {
        "id": "h_IZNmYY19P4"
      }
    },
    {
      "cell_type": "markdown",
      "source": [
        "**Regressão linear simples**"
      ],
      "metadata": {
        "id": "2LayJaKd2_29"
      }
    },
    {
      "cell_type": "code",
      "source": [
        "X=df[['numero_cliques']]\n",
        "y=df['usuarios_convertidos']\n",
        "model2 = LinearRegression()\n",
        "model2.fit(X=X, y=y)"
      ],
      "metadata": {
        "id": "FY0bd9t_vS-b",
        "colab": {
          "base_uri": "https://localhost:8080/",
          "height": 0
        },
        "outputId": "5a59285a-f032-4229-89a1-ba9b1f65ba7e"
      },
      "execution_count": 19,
      "outputs": [
        {
          "output_type": "execute_result",
          "data": {
            "text/plain": [
              "LinearRegression()"
            ],
            "text/html": [
              "<style>#sk-container-id-2 {color: black;background-color: white;}#sk-container-id-2 pre{padding: 0;}#sk-container-id-2 div.sk-toggleable {background-color: white;}#sk-container-id-2 label.sk-toggleable__label {cursor: pointer;display: block;width: 100%;margin-bottom: 0;padding: 0.3em;box-sizing: border-box;text-align: center;}#sk-container-id-2 label.sk-toggleable__label-arrow:before {content: \"▸\";float: left;margin-right: 0.25em;color: #696969;}#sk-container-id-2 label.sk-toggleable__label-arrow:hover:before {color: black;}#sk-container-id-2 div.sk-estimator:hover label.sk-toggleable__label-arrow:before {color: black;}#sk-container-id-2 div.sk-toggleable__content {max-height: 0;max-width: 0;overflow: hidden;text-align: left;background-color: #f0f8ff;}#sk-container-id-2 div.sk-toggleable__content pre {margin: 0.2em;color: black;border-radius: 0.25em;background-color: #f0f8ff;}#sk-container-id-2 input.sk-toggleable__control:checked~div.sk-toggleable__content {max-height: 200px;max-width: 100%;overflow: auto;}#sk-container-id-2 input.sk-toggleable__control:checked~label.sk-toggleable__label-arrow:before {content: \"▾\";}#sk-container-id-2 div.sk-estimator input.sk-toggleable__control:checked~label.sk-toggleable__label {background-color: #d4ebff;}#sk-container-id-2 div.sk-label input.sk-toggleable__control:checked~label.sk-toggleable__label {background-color: #d4ebff;}#sk-container-id-2 input.sk-hidden--visually {border: 0;clip: rect(1px 1px 1px 1px);clip: rect(1px, 1px, 1px, 1px);height: 1px;margin: -1px;overflow: hidden;padding: 0;position: absolute;width: 1px;}#sk-container-id-2 div.sk-estimator {font-family: monospace;background-color: #f0f8ff;border: 1px dotted black;border-radius: 0.25em;box-sizing: border-box;margin-bottom: 0.5em;}#sk-container-id-2 div.sk-estimator:hover {background-color: #d4ebff;}#sk-container-id-2 div.sk-parallel-item::after {content: \"\";width: 100%;border-bottom: 1px solid gray;flex-grow: 1;}#sk-container-id-2 div.sk-label:hover label.sk-toggleable__label {background-color: #d4ebff;}#sk-container-id-2 div.sk-serial::before {content: \"\";position: absolute;border-left: 1px solid gray;box-sizing: border-box;top: 0;bottom: 0;left: 50%;z-index: 0;}#sk-container-id-2 div.sk-serial {display: flex;flex-direction: column;align-items: center;background-color: white;padding-right: 0.2em;padding-left: 0.2em;position: relative;}#sk-container-id-2 div.sk-item {position: relative;z-index: 1;}#sk-container-id-2 div.sk-parallel {display: flex;align-items: stretch;justify-content: center;background-color: white;position: relative;}#sk-container-id-2 div.sk-item::before, #sk-container-id-2 div.sk-parallel-item::before {content: \"\";position: absolute;border-left: 1px solid gray;box-sizing: border-box;top: 0;bottom: 0;left: 50%;z-index: -1;}#sk-container-id-2 div.sk-parallel-item {display: flex;flex-direction: column;z-index: 1;position: relative;background-color: white;}#sk-container-id-2 div.sk-parallel-item:first-child::after {align-self: flex-end;width: 50%;}#sk-container-id-2 div.sk-parallel-item:last-child::after {align-self: flex-start;width: 50%;}#sk-container-id-2 div.sk-parallel-item:only-child::after {width: 0;}#sk-container-id-2 div.sk-dashed-wrapped {border: 1px dashed gray;margin: 0 0.4em 0.5em 0.4em;box-sizing: border-box;padding-bottom: 0.4em;background-color: white;}#sk-container-id-2 div.sk-label label {font-family: monospace;font-weight: bold;display: inline-block;line-height: 1.2em;}#sk-container-id-2 div.sk-label-container {text-align: center;}#sk-container-id-2 div.sk-container {/* jupyter's `normalize.less` sets `[hidden] { display: none; }` but bootstrap.min.css set `[hidden] { display: none !important; }` so we also need the `!important` here to be able to override the default hidden behavior on the sphinx rendered scikit-learn.org. See: https://github.com/scikit-learn/scikit-learn/issues/21755 */display: inline-block !important;position: relative;}#sk-container-id-2 div.sk-text-repr-fallback {display: none;}</style><div id=\"sk-container-id-2\" class=\"sk-top-container\"><div class=\"sk-text-repr-fallback\"><pre>LinearRegression()</pre><b>In a Jupyter environment, please rerun this cell to show the HTML representation or trust the notebook. <br />On GitHub, the HTML representation is unable to render, please try loading this page with nbviewer.org.</b></div><div class=\"sk-container\" hidden><div class=\"sk-item\"><div class=\"sk-estimator sk-toggleable\"><input class=\"sk-toggleable__control sk-hidden--visually\" id=\"sk-estimator-id-2\" type=\"checkbox\" checked><label for=\"sk-estimator-id-2\" class=\"sk-toggleable__label sk-toggleable__label-arrow\">LinearRegression</label><div class=\"sk-toggleable__content\"><pre>LinearRegression()</pre></div></div></div></div></div>"
            ]
          },
          "metadata": {},
          "execution_count": 19
        }
      ]
    },
    {
      "cell_type": "markdown",
      "source": [
        "**Coeficiente de determinação (R²)**"
      ],
      "metadata": {
        "id": "Tum1jRTg39Px"
      }
    },
    {
      "cell_type": "code",
      "source": [
        "model2.score(X=X, y=y)"
      ],
      "metadata": {
        "colab": {
          "base_uri": "https://localhost:8080/"
        },
        "id": "GWTbpM-53J7e",
        "outputId": "422c0477-c5a3-4929-ffc1-159534f4ef10"
      },
      "execution_count": 20,
      "outputs": [
        {
          "output_type": "execute_result",
          "data": {
            "text/plain": [
              "0.8585226652192677"
            ]
          },
          "metadata": {},
          "execution_count": 20
        }
      ]
    },
    {
      "cell_type": "markdown",
      "source": [
        "**Intercepto ou constante de modelo**"
      ],
      "metadata": {
        "id": "Mxy9AdWC4TAp"
      }
    },
    {
      "cell_type": "code",
      "source": [
        "model2.intercept_"
      ],
      "metadata": {
        "colab": {
          "base_uri": "https://localhost:8080/"
        },
        "id": "weJ6zge04Geb",
        "outputId": "46100779-9525-4b6c-bade-4b2096c8875a"
      },
      "execution_count": 21,
      "outputs": [
        {
          "output_type": "execute_result",
          "data": {
            "text/plain": [
              "-2.990277359986372"
            ]
          },
          "metadata": {},
          "execution_count": 21
        }
      ]
    },
    {
      "cell_type": "markdown",
      "source": [
        "**Coeficientes *angular* ou parâmetros do modelo**"
      ],
      "metadata": {
        "id": "eX3jpq804hJ-"
      }
    },
    {
      "cell_type": "code",
      "source": [
        "model2.coef_"
      ],
      "metadata": {
        "colab": {
          "base_uri": "https://localhost:8080/"
        },
        "id": "d4UIo1AJ4V2c",
        "outputId": "fddefc0d-4ed1-44a9-816f-c250b8c23aea"
      },
      "execution_count": 22,
      "outputs": [
        {
          "output_type": "execute_result",
          "data": {
            "text/plain": [
              "array([0.81489712])"
            ]
          },
          "metadata": {},
          "execution_count": 22
        }
      ]
    },
    {
      "cell_type": "markdown",
      "source": [
        "**Residuais**"
      ],
      "metadata": {
        "id": "TVbeMobB_m_k"
      }
    },
    {
      "cell_type": "code",
      "source": [
        "prediction = model2.predict(X)\n",
        "residuals = y - prediction\n",
        "residuals.mean()"
      ],
      "metadata": {
        "colab": {
          "base_uri": "https://localhost:8080/"
        },
        "id": "_RDmmWEf4j2k",
        "outputId": "32781f72-81e3-45f8-e9c1-f1be5fa45a6b"
      },
      "execution_count": 23,
      "outputs": [
        {
          "output_type": "execute_result",
          "data": {
            "text/plain": [
              "-1.5845103007450234e-15"
            ]
          },
          "metadata": {},
          "execution_count": 23
        }
      ]
    },
    {
      "cell_type": "code",
      "source": [
        "fig = go.Figure(layout={'title':{'text':'Modelo 2: Valores previstos versus treino'}})\n",
        "fig.update_xaxes(title_text='Quantidade de usuários convertidos')\n",
        "fig.update_layout(legend_title_text='Legenda')\n",
        "fig.add_trace(go.Scatter(x=list(range(0, 100)), y=df['usuarios_convertidos'],\n",
        "                    mode='lines',\n",
        "                    name='Train values',\n",
        "                    hovertemplate='Train value: <b>%{y}</b>'))\n",
        "fig.add_trace(go.Scatter(x=list(range(0, 100)), y=prediction,\n",
        "                    mode='lines',\n",
        "                    name='Predict values',\n",
        "                    hovertemplate='Predict value: <b>%{y}</b>'))\n",
        "\n",
        "fig.show()"
      ],
      "metadata": {
        "colab": {
          "base_uri": "https://localhost:8080/",
          "height": 0
        },
        "id": "yTyaknbM_pz3",
        "outputId": "f7445a81-8930-4530-9b3c-ecbebd95360e"
      },
      "execution_count": 24,
      "outputs": [
        {
          "output_type": "display_data",
          "data": {
            "text/html": [
              "<html>\n",
              "<head><meta charset=\"utf-8\" /></head>\n",
              "<body>\n",
              "    <div>            <script src=\"https://cdnjs.cloudflare.com/ajax/libs/mathjax/2.7.5/MathJax.js?config=TeX-AMS-MML_SVG\"></script><script type=\"text/javascript\">if (window.MathJax && window.MathJax.Hub && window.MathJax.Hub.Config) {window.MathJax.Hub.Config({SVG: {font: \"STIX-Web\"}});}</script>                <script type=\"text/javascript\">window.PlotlyConfig = {MathJaxConfig: 'local'};</script>\n",
              "        <script charset=\"utf-8\" src=\"https://cdn.plot.ly/plotly-2.24.1.min.js\"></script>                <div id=\"0ec25a2d-cdc2-4760-9690-39d382794e5f\" class=\"plotly-graph-div\" style=\"height:525px; width:100%;\"></div>            <script type=\"text/javascript\">                                    window.PLOTLYENV=window.PLOTLYENV || {};                                    if (document.getElementById(\"0ec25a2d-cdc2-4760-9690-39d382794e5f\")) {                    Plotly.newPlot(                        \"0ec25a2d-cdc2-4760-9690-39d382794e5f\",                        [{\"hovertemplate\":\"Train value: \\u003cb\\u003e%{y}\\u003c\\u002fb\\u003e\",\"mode\":\"lines\",\"name\":\"Train values\",\"x\":[0,1,2,3,4,5,6,7,8,9,10,11,12,13,14,15,16,17,18,19,20,21,22,23,24,25,26,27,28,29,30,31,32,33,34,35,36,37,38,39,40,41,42,43,44,45,46,47,48,49,50,51,52,53,54,55,56,57,58,59,60,61,62,63,64,65,66,67,68,69,70,71,72,73,74,75,76,77,78,79,80,81,82,83,84,85,86,87,88,89,90,91,92,93,94,95,96,97,98,99],\"y\":[30,72,47,63,34,18,25,61,58,74,7,75,65,42,36,27,37,43,57,40,75,31,33,28,30,48,38,56,39,36,51,35,44,81,71,57,19,23,57,37,30,51,24,64,40,63,30,65,51,34,81,66,82,73,49,75,18,36,27,39,43,20,61,44,41,42,45,56,38,79,57,53,13,75,70,55,77,26,46,33,67,64,49,11,54,25,72,68,58,45,20,59,60,61,77,64,46,44,9,22,36,73,28,45,70,40,37,67,32,29,45,33,67,64,56,65,63,50,75,49,72,66,53,34,35,51,50,57,13,52,63,58,37,47,54,36,43,54,42,69,53,45,39,42,60,18,30,47,39,59,58,42,28,48,101,22,61,68,48,62,46,53,59,48,36,63,45,34,38,54,41,38,42,30,51,47,38,76,82,34,42,34,76,75,43,59,64,51,50,48,36,40,77,59,42,39,73,79,62,68,47,15,27,79,65,31,37,63,19,37,60,67,69,43,64,48,41,54,56,60,51,52,22,40,19,39,74,36,76,66,49,43,46,40,43,59,36,6,64,21,73,75,84,30,4,73,64,86,75,63,48,35,72,46,44,80,76,55,53,12,49,70,27,52,61,73,60,60,40,41,74,57,62,68,37,42,60,66,63,67,78,41,48,29,57,21,24,51,54,64,36,39,67,45,25,48,70,48,55,25,28,58,38,34,56,62,46,40,60,53,50,32,32,62,77,59,52,23,17,46,56,52,49,50,61,78,44,62,43,43,37,61,26,21,35,22,65,50,23,28,74,57,33,44,45,61,45,38,51,63,55,68,65,39,25,51,27,70,60,39,46,58,50,55,70,59,57,62,34,12,28,43,30,61,16,35,63,23,79,45,20,62,61,80,78,55,31,21,60,70,84,45,40,65,34,92,52,48,83,63,28,67,48,80,19,85,30,23,66,35,25,77,93,40,58,41,44,42,52,67,83,63,37,37,18,57,62,73,39,31,20,69,65,26,25,63,24,65,81,27,26,68,51,42,59,86,88,57,25,39,57,61,27,79,18,57,26,39,24,38,32,63,82,39,89,45,30,55,34,82,24,89,13,69,39,78,38,48,47,53,61,64,60,46,61,82,9,42,67,69,51,51,32,35,37,32,61,17,80,79],\"type\":\"scatter\"},{\"hovertemplate\":\"Predict value: \\u003cb\\u003e%{y}\\u003c\\u002fb\\u003e\",\"mode\":\"lines\",\"name\":\"Predict values\",\"x\":[0,1,2,3,4,5,6,7,8,9,10,11,12,13,14,15,16,17,18,19,20,21,22,23,24,25,26,27,28,29,30,31,32,33,34,35,36,37,38,39,40,41,42,43,44,45,46,47,48,49,50,51,52,53,54,55,56,57,58,59,60,61,62,63,64,65,66,67,68,69,70,71,72,73,74,75,76,77,78,79,80,81,82,83,84,85,86,87,88,89,90,91,92,93,94,95,96,97,98,99],\"y\":[41.01416721688242,70.35046360146163,51.60782980020269,54.05252116558429,30.420504633562153,24.71622478100509,22.27153341562349,61.38659526172908,54.86741828737815,67.09087511428615,19.82684205024189,72.79515496684323,65.46108087069842,33.680093120737624,33.680093120737624,27.16091614638669,41.01416721688242,41.01416721688242,49.163138434821086,40.19927009508855,64.64618374890455,41.82906433867629,37.75457872970696,32.865195998943754,40.19927009508855,51.60782980020269,34.494990242531486,49.163138434821086,52.42272692199655,27.16091614638669,53.23762404379042,30.420504633562153,41.01416721688242,76.05474345401868,80.94412618478188,65.46108087069842,32.865195998943754,27.16091614638669,60.571698139935215,35.309887364325355,27.975813268180556,54.05252116558429,24.71622478100509,63.016389505316816,37.75457872970696,67.90577223608003,41.01416721688242,56.49721253096588,55.68231540917202,32.05029887714989,70.35046360146163,61.38659526172908,83.38881755016348,71.16536072325547,51.60782980020269,72.79515496684323,31.235401755356023,41.01416721688242,35.309887364325355,39.38437297329469,45.08865282585175,23.901327659211223,71.16536072325547,37.75457872970696,40.19927009508855,43.45885858226402,33.680093120737624,59.75680101814135,28.79071038997442,75.2398463322248,59.75680101814135,44.27375570405788,14.122562197684825,71.16536072325547,70.35046360146163,57.31210965275975,67.09087511428615,25.531121902798958,48.348241313027216,31.235401755356023,66.27597799249227,61.38659526172908,40.19927009508855,23.086430537417357,46.718447069439485,32.865195998943754,63.016389505316816,58.12700677455362,68.72066935787387,52.42272692199655,23.086430537417357,62.201492383522954,54.05252116558429,54.05252116558429,69.53556647966775,51.60782980020269,45.08865282585175,42.64396146047015,19.011944928448024,25.531121902798958,20.641739172035756,54.86741828737815,32.865195998943754,49.978035556614955,60.571698139935215,36.12478448611922,40.19927009508855,71.16536072325547,32.05029887714989,29.60560751176829,41.82906433867629,23.086430537417357,74.42494921043095,67.09087511428615,58.94190389634748,84.20371467195736,56.49721253096588,46.718447069439485,71.98025784504935,51.60782980020269,68.72066935787387,67.90577223608003,42.64396146047015,32.05029887714989,28.79071038997442,50.79293267840882,58.12700677455362,59.75680101814135,17.382150684860292,56.49721253096588,50.79293267840882,45.90354994764562,29.60560751176829,46.718447069439485,68.72066935787387,45.90354994764562,47.533344191233354,60.571698139935215,42.64396146047015,78.49943481940028,63.83128662711068,42.64396146047015,45.08865282585175,40.19927009508855,47.533344191233354,22.27153341562349,45.08865282585175,49.978035556614955,37.75457872970696,49.978035556614955,70.35046360146163,36.93968160791309,25.531121902798958,52.42272692199655,89.90799452451441,36.12478448611922,57.31210965275975,64.64618374890455,33.680093120737624,60.571698139935215,48.348241313027216,53.23762404379042,60.571698139935215,49.978035556614955,32.05029887714989,61.38659526172908,41.82906433867629,20.641739172035756,29.60560751176829,48.348241313027216,57.31210965275975,32.865195998943754,48.348241313027216,39.38437297329469,51.60782980020269,45.90354994764562,54.86741828737815,55.68231540917202,81.75902330657576,27.16091614638669,37.75457872970696,28.79071038997442,72.79515496684323,68.72066935787387,44.27375570405788,58.12700677455362,67.09087511428615,49.978035556614955,43.45885858226402,41.82906433867629,23.086430537417357,58.94190389634748,68.72066935787387,65.46108087069842,45.08865282585175,40.19927009508855,71.98025784504935,71.16536072325547,69.53556647966775,67.09087511428615,54.86741828737815,27.975813268180556,32.05029887714989,76.05474345401868,52.42272692199655,22.27153341562349,31.235401755356023,61.38659526172908,16.567253563066423,43.45885858226402,62.201492383522954,65.46108087069842,63.016389505316816,36.93968160791309,58.94190389634748,41.01416721688242,41.82906433867629,54.86741828737815,58.12700677455362,64.64618374890455,48.348241313027216,49.978035556614955,23.901327659211223,49.163138434821086,32.05029887714989,32.05029887714989,76.86964057581255,34.494990242531486,77.6845376976064,58.94190389634748,58.94190389634748,52.42272692199655,45.90354994764562,40.19927009508855,35.309887364325355,65.46108087069842,31.235401755356023,5.158693857952294,58.12700677455362,30.420504633562153,78.49943481940028,72.79515496684323,76.05474345401868,42.64396146047015,4.343796736158427,71.98025784504935,54.05252116558429,81.75902330657576,73.61005208863708,66.27597799249227,32.05029887714989,36.93968160791309,72.79515496684323,38.56947585150082,36.93968160791309,66.27597799249227,72.79515496684323,58.94190389634748,49.978035556614955,20.641739172035756,55.68231540917202,75.2398463322248,26.346019024592824,52.42272692199655,69.53556647966775,58.94190389634748,65.46108087069842,58.94190389634748,43.45885858226402,45.08865282585175,63.83128662711068,59.75680101814135,65.46108087069842,67.09087511428615,52.42272692199655,43.45885858226402,61.38659526172908,62.201492383522954,57.31210965275975,64.64618374890455,75.2398463322248,39.38437297329469,45.08865282585175,25.531121902798958,49.163138434821086,23.901327659211223,45.08865282585175,51.60782980020269,45.08865282585175,61.38659526172908,23.901327659211223,37.75457872970696,67.90577223608003,49.978035556614955,24.71622478100509,57.31210965275975,69.53556647966775,41.82906433867629,57.31210965275975,25.531121902798958,31.235401755356023,54.86741828737815,38.56947585150082,43.45885858226402,58.94190389634748,71.16536072325547,48.348241313027216,45.08865282585175,55.68231540917202,44.27375570405788,41.01416721688242,32.05029887714989,27.16091614638669,71.16536072325547,68.72066935787387,65.46108087069842,52.42272692199655,30.420504633562153,24.71622478100509,42.64396146047015,51.60782980020269,60.571698139935215,62.201492383522954,47.533344191233354,66.27597799249227,70.35046360146163,44.27375570405788,60.571698139935215,45.90354994764562,32.05029887714989,35.309887364325355,62.201492383522954,23.086430537417357,20.641739172035756,30.420504633562153,24.71622478100509,67.09087511428615,53.23762404379042,42.64396146047015,34.494990242531486,57.31210965275975,49.163138434821086,34.494990242531486,43.45885858226402,44.27375570405788,61.38659526172908,44.27375570405788,35.309887364325355,46.718447069439485,58.12700677455362,51.60782980020269,68.72066935787387,54.05252116558429,41.01416721688242,25.531121902798958,57.31210965275975,29.60560751176829,56.49721253096588,70.35046360146163,46.718447069439485,48.348241313027216,49.163138434821086,48.348241313027216,50.79293267840882,74.42494921043095,51.60782980020269,64.64618374890455,64.64618374890455,32.865195998943754,16.567253563066423,31.235401755356023,29.60560751176829,16.567253563066423,58.94190389634748,18.197047806654158,31.235401755356023,61.38659526172908,23.901327659211223,77.6845376976064,41.82906433867629,22.27153341562349,63.83128662711068,56.49721253096588,71.16536072325547,64.64618374890455,54.86741828737815,33.680093120737624,28.79071038997442,62.201492383522954,66.27597799249227,76.05474345401868,47.533344191233354,36.93968160791309,68.72066935787387,33.680093120737624,78.49943481940028,56.49721253096588,45.08865282585175,75.2398463322248,65.46108087069842,32.05029887714989,71.98025784504935,45.08865282585175,71.16536072325547,27.975813268180556,82.5739204283696,32.865195998943754,26.346019024592824,73.61005208863708,37.75457872970696,32.05029887714989,78.49943481940028,91.53778876810213,45.90354994764562,51.60782980020269,36.93968160791309,43.45885858226402,33.680093120737624,54.86741828737815,67.09087511428615,73.61005208863708,66.27597799249227,32.05029887714989,49.978035556614955,19.011944928448024,51.60782980020269,49.978035556614955,75.2398463322248,44.27375570405788,32.05029887714989,30.420504633562153,61.38659526172908,66.27597799249227,33.680093120737624,28.79071038997442,69.53556647966775,19.011944928448024,64.64618374890455,66.27597799249227,30.420504633562153,22.27153341562349,76.05474345401868,52.42272692199655,45.08865282585175,64.64618374890455,75.2398463322248,77.6845376976064,66.27597799249227,39.38437297329469,32.05029887714989,59.75680101814135,47.533344191233354,33.680093120737624,83.38881755016348,19.011944928448024,53.23762404379042,28.79071038997442,39.38437297329469,25.531121902798958,36.93968160791309,30.420504633562153,71.98025784504935,63.83128662711068,52.42272692199655,80.129229062988,46.718447069439485,36.93968160791309,60.571698139935215,35.309887364325355,70.35046360146163,26.346019024592824,82.5739204283696,22.27153341562349,75.2398463322248,48.348241313027216,77.6845376976064,27.975813268180556,48.348241313027216,68.72066935787387,58.12700677455362,58.12700677455362,62.201492383522954,49.163138434821086,57.31210965275975,59.75680101814135,83.38881755016348,14.937459319478691,37.75457872970696,72.79515496684323,72.79515496684323,48.348241313027216,50.79293267840882,38.56947585150082,36.12478448611922,40.19927009508855,43.45885858226402,62.201492383522954,23.901327659211223,78.49943481940028,80.129229062988],\"type\":\"scatter\"}],                        {\"title\":{\"text\":\"Modelo 2: Valores previstos versus treino\"},\"template\":{\"data\":{\"histogram2dcontour\":[{\"type\":\"histogram2dcontour\",\"colorbar\":{\"outlinewidth\":0,\"ticks\":\"\"},\"colorscale\":[[0.0,\"#0d0887\"],[0.1111111111111111,\"#46039f\"],[0.2222222222222222,\"#7201a8\"],[0.3333333333333333,\"#9c179e\"],[0.4444444444444444,\"#bd3786\"],[0.5555555555555556,\"#d8576b\"],[0.6666666666666666,\"#ed7953\"],[0.7777777777777778,\"#fb9f3a\"],[0.8888888888888888,\"#fdca26\"],[1.0,\"#f0f921\"]]}],\"choropleth\":[{\"type\":\"choropleth\",\"colorbar\":{\"outlinewidth\":0,\"ticks\":\"\"}}],\"histogram2d\":[{\"type\":\"histogram2d\",\"colorbar\":{\"outlinewidth\":0,\"ticks\":\"\"},\"colorscale\":[[0.0,\"#0d0887\"],[0.1111111111111111,\"#46039f\"],[0.2222222222222222,\"#7201a8\"],[0.3333333333333333,\"#9c179e\"],[0.4444444444444444,\"#bd3786\"],[0.5555555555555556,\"#d8576b\"],[0.6666666666666666,\"#ed7953\"],[0.7777777777777778,\"#fb9f3a\"],[0.8888888888888888,\"#fdca26\"],[1.0,\"#f0f921\"]]}],\"heatmap\":[{\"type\":\"heatmap\",\"colorbar\":{\"outlinewidth\":0,\"ticks\":\"\"},\"colorscale\":[[0.0,\"#0d0887\"],[0.1111111111111111,\"#46039f\"],[0.2222222222222222,\"#7201a8\"],[0.3333333333333333,\"#9c179e\"],[0.4444444444444444,\"#bd3786\"],[0.5555555555555556,\"#d8576b\"],[0.6666666666666666,\"#ed7953\"],[0.7777777777777778,\"#fb9f3a\"],[0.8888888888888888,\"#fdca26\"],[1.0,\"#f0f921\"]]}],\"heatmapgl\":[{\"type\":\"heatmapgl\",\"colorbar\":{\"outlinewidth\":0,\"ticks\":\"\"},\"colorscale\":[[0.0,\"#0d0887\"],[0.1111111111111111,\"#46039f\"],[0.2222222222222222,\"#7201a8\"],[0.3333333333333333,\"#9c179e\"],[0.4444444444444444,\"#bd3786\"],[0.5555555555555556,\"#d8576b\"],[0.6666666666666666,\"#ed7953\"],[0.7777777777777778,\"#fb9f3a\"],[0.8888888888888888,\"#fdca26\"],[1.0,\"#f0f921\"]]}],\"contourcarpet\":[{\"type\":\"contourcarpet\",\"colorbar\":{\"outlinewidth\":0,\"ticks\":\"\"}}],\"contour\":[{\"type\":\"contour\",\"colorbar\":{\"outlinewidth\":0,\"ticks\":\"\"},\"colorscale\":[[0.0,\"#0d0887\"],[0.1111111111111111,\"#46039f\"],[0.2222222222222222,\"#7201a8\"],[0.3333333333333333,\"#9c179e\"],[0.4444444444444444,\"#bd3786\"],[0.5555555555555556,\"#d8576b\"],[0.6666666666666666,\"#ed7953\"],[0.7777777777777778,\"#fb9f3a\"],[0.8888888888888888,\"#fdca26\"],[1.0,\"#f0f921\"]]}],\"surface\":[{\"type\":\"surface\",\"colorbar\":{\"outlinewidth\":0,\"ticks\":\"\"},\"colorscale\":[[0.0,\"#0d0887\"],[0.1111111111111111,\"#46039f\"],[0.2222222222222222,\"#7201a8\"],[0.3333333333333333,\"#9c179e\"],[0.4444444444444444,\"#bd3786\"],[0.5555555555555556,\"#d8576b\"],[0.6666666666666666,\"#ed7953\"],[0.7777777777777778,\"#fb9f3a\"],[0.8888888888888888,\"#fdca26\"],[1.0,\"#f0f921\"]]}],\"mesh3d\":[{\"type\":\"mesh3d\",\"colorbar\":{\"outlinewidth\":0,\"ticks\":\"\"}}],\"scatter\":[{\"fillpattern\":{\"fillmode\":\"overlay\",\"size\":10,\"solidity\":0.2},\"type\":\"scatter\"}],\"parcoords\":[{\"type\":\"parcoords\",\"line\":{\"colorbar\":{\"outlinewidth\":0,\"ticks\":\"\"}}}],\"scatterpolargl\":[{\"type\":\"scatterpolargl\",\"marker\":{\"colorbar\":{\"outlinewidth\":0,\"ticks\":\"\"}}}],\"bar\":[{\"error_x\":{\"color\":\"#2a3f5f\"},\"error_y\":{\"color\":\"#2a3f5f\"},\"marker\":{\"line\":{\"color\":\"#E5ECF6\",\"width\":0.5},\"pattern\":{\"fillmode\":\"overlay\",\"size\":10,\"solidity\":0.2}},\"type\":\"bar\"}],\"scattergeo\":[{\"type\":\"scattergeo\",\"marker\":{\"colorbar\":{\"outlinewidth\":0,\"ticks\":\"\"}}}],\"scatterpolar\":[{\"type\":\"scatterpolar\",\"marker\":{\"colorbar\":{\"outlinewidth\":0,\"ticks\":\"\"}}}],\"histogram\":[{\"marker\":{\"pattern\":{\"fillmode\":\"overlay\",\"size\":10,\"solidity\":0.2}},\"type\":\"histogram\"}],\"scattergl\":[{\"type\":\"scattergl\",\"marker\":{\"colorbar\":{\"outlinewidth\":0,\"ticks\":\"\"}}}],\"scatter3d\":[{\"type\":\"scatter3d\",\"line\":{\"colorbar\":{\"outlinewidth\":0,\"ticks\":\"\"}},\"marker\":{\"colorbar\":{\"outlinewidth\":0,\"ticks\":\"\"}}}],\"scattermapbox\":[{\"type\":\"scattermapbox\",\"marker\":{\"colorbar\":{\"outlinewidth\":0,\"ticks\":\"\"}}}],\"scatterternary\":[{\"type\":\"scatterternary\",\"marker\":{\"colorbar\":{\"outlinewidth\":0,\"ticks\":\"\"}}}],\"scattercarpet\":[{\"type\":\"scattercarpet\",\"marker\":{\"colorbar\":{\"outlinewidth\":0,\"ticks\":\"\"}}}],\"carpet\":[{\"aaxis\":{\"endlinecolor\":\"#2a3f5f\",\"gridcolor\":\"white\",\"linecolor\":\"white\",\"minorgridcolor\":\"white\",\"startlinecolor\":\"#2a3f5f\"},\"baxis\":{\"endlinecolor\":\"#2a3f5f\",\"gridcolor\":\"white\",\"linecolor\":\"white\",\"minorgridcolor\":\"white\",\"startlinecolor\":\"#2a3f5f\"},\"type\":\"carpet\"}],\"table\":[{\"cells\":{\"fill\":{\"color\":\"#EBF0F8\"},\"line\":{\"color\":\"white\"}},\"header\":{\"fill\":{\"color\":\"#C8D4E3\"},\"line\":{\"color\":\"white\"}},\"type\":\"table\"}],\"barpolar\":[{\"marker\":{\"line\":{\"color\":\"#E5ECF6\",\"width\":0.5},\"pattern\":{\"fillmode\":\"overlay\",\"size\":10,\"solidity\":0.2}},\"type\":\"barpolar\"}],\"pie\":[{\"automargin\":true,\"type\":\"pie\"}]},\"layout\":{\"autotypenumbers\":\"strict\",\"colorway\":[\"#636efa\",\"#EF553B\",\"#00cc96\",\"#ab63fa\",\"#FFA15A\",\"#19d3f3\",\"#FF6692\",\"#B6E880\",\"#FF97FF\",\"#FECB52\"],\"font\":{\"color\":\"#2a3f5f\"},\"hovermode\":\"closest\",\"hoverlabel\":{\"align\":\"left\"},\"paper_bgcolor\":\"white\",\"plot_bgcolor\":\"#E5ECF6\",\"polar\":{\"bgcolor\":\"#E5ECF6\",\"angularaxis\":{\"gridcolor\":\"white\",\"linecolor\":\"white\",\"ticks\":\"\"},\"radialaxis\":{\"gridcolor\":\"white\",\"linecolor\":\"white\",\"ticks\":\"\"}},\"ternary\":{\"bgcolor\":\"#E5ECF6\",\"aaxis\":{\"gridcolor\":\"white\",\"linecolor\":\"white\",\"ticks\":\"\"},\"baxis\":{\"gridcolor\":\"white\",\"linecolor\":\"white\",\"ticks\":\"\"},\"caxis\":{\"gridcolor\":\"white\",\"linecolor\":\"white\",\"ticks\":\"\"}},\"coloraxis\":{\"colorbar\":{\"outlinewidth\":0,\"ticks\":\"\"}},\"colorscale\":{\"sequential\":[[0.0,\"#0d0887\"],[0.1111111111111111,\"#46039f\"],[0.2222222222222222,\"#7201a8\"],[0.3333333333333333,\"#9c179e\"],[0.4444444444444444,\"#bd3786\"],[0.5555555555555556,\"#d8576b\"],[0.6666666666666666,\"#ed7953\"],[0.7777777777777778,\"#fb9f3a\"],[0.8888888888888888,\"#fdca26\"],[1.0,\"#f0f921\"]],\"sequentialminus\":[[0.0,\"#0d0887\"],[0.1111111111111111,\"#46039f\"],[0.2222222222222222,\"#7201a8\"],[0.3333333333333333,\"#9c179e\"],[0.4444444444444444,\"#bd3786\"],[0.5555555555555556,\"#d8576b\"],[0.6666666666666666,\"#ed7953\"],[0.7777777777777778,\"#fb9f3a\"],[0.8888888888888888,\"#fdca26\"],[1.0,\"#f0f921\"]],\"diverging\":[[0,\"#8e0152\"],[0.1,\"#c51b7d\"],[0.2,\"#de77ae\"],[0.3,\"#f1b6da\"],[0.4,\"#fde0ef\"],[0.5,\"#f7f7f7\"],[0.6,\"#e6f5d0\"],[0.7,\"#b8e186\"],[0.8,\"#7fbc41\"],[0.9,\"#4d9221\"],[1,\"#276419\"]]},\"xaxis\":{\"gridcolor\":\"white\",\"linecolor\":\"white\",\"ticks\":\"\",\"title\":{\"standoff\":15},\"zerolinecolor\":\"white\",\"automargin\":true,\"zerolinewidth\":2},\"yaxis\":{\"gridcolor\":\"white\",\"linecolor\":\"white\",\"ticks\":\"\",\"title\":{\"standoff\":15},\"zerolinecolor\":\"white\",\"automargin\":true,\"zerolinewidth\":2},\"scene\":{\"xaxis\":{\"backgroundcolor\":\"#E5ECF6\",\"gridcolor\":\"white\",\"linecolor\":\"white\",\"showbackground\":true,\"ticks\":\"\",\"zerolinecolor\":\"white\",\"gridwidth\":2},\"yaxis\":{\"backgroundcolor\":\"#E5ECF6\",\"gridcolor\":\"white\",\"linecolor\":\"white\",\"showbackground\":true,\"ticks\":\"\",\"zerolinecolor\":\"white\",\"gridwidth\":2},\"zaxis\":{\"backgroundcolor\":\"#E5ECF6\",\"gridcolor\":\"white\",\"linecolor\":\"white\",\"showbackground\":true,\"ticks\":\"\",\"zerolinecolor\":\"white\",\"gridwidth\":2}},\"shapedefaults\":{\"line\":{\"color\":\"#2a3f5f\"}},\"annotationdefaults\":{\"arrowcolor\":\"#2a3f5f\",\"arrowhead\":0,\"arrowwidth\":1},\"geo\":{\"bgcolor\":\"white\",\"landcolor\":\"#E5ECF6\",\"subunitcolor\":\"white\",\"showland\":true,\"showlakes\":true,\"lakecolor\":\"white\"},\"title\":{\"x\":0.05},\"mapbox\":{\"style\":\"light\"}}},\"xaxis\":{\"title\":{\"text\":\"Quantidade de usu\\u00e1rios convertidos\"}},\"legend\":{\"title\":{\"text\":\"Legenda\"}}},                        {\"responsive\": true}                    ).then(function(){\n",
              "                            \n",
              "var gd = document.getElementById('0ec25a2d-cdc2-4760-9690-39d382794e5f');\n",
              "var x = new MutationObserver(function (mutations, observer) {{\n",
              "        var display = window.getComputedStyle(gd).display;\n",
              "        if (!display || display === 'none') {{\n",
              "            console.log([gd, 'removed!']);\n",
              "            Plotly.purge(gd);\n",
              "            observer.disconnect();\n",
              "        }}\n",
              "}});\n",
              "\n",
              "// Listen for the removal of the full notebook cells\n",
              "var notebookContainer = gd.closest('#notebook-container');\n",
              "if (notebookContainer) {{\n",
              "    x.observe(notebookContainer, {childList: true});\n",
              "}}\n",
              "\n",
              "// Listen for the clearing of the current output cell\n",
              "var outputEl = gd.closest('.output');\n",
              "if (outputEl) {{\n",
              "    x.observe(outputEl, {childList: true});\n",
              "}}\n",
              "\n",
              "                        })                };                            </script>        </div>\n",
              "</body>\n",
              "</html>"
            ]
          },
          "metadata": {}
        }
      ]
    },
    {
      "cell_type": "markdown",
      "source": [
        "## Resolvendo problema da multicolinearidade\n",
        "\n",
        "Utilização de técnica de Feature Engineer"
      ],
      "metadata": {
        "id": "uOrYMktcBUvT"
      }
    },
    {
      "cell_type": "markdown",
      "source": [
        "Criando nova variável chamada de taxa de cliques, que será igual ao número de cliques divido pelo numero de visualizações."
      ],
      "metadata": {
        "id": "BAOhFh6NBpX1"
      }
    },
    {
      "cell_type": "code",
      "source": [
        "df['taxa_clique'] = df['numero_cliques'] / df['numero_visualizacoes']\n",
        "df.head(n=5)"
      ],
      "metadata": {
        "colab": {
          "base_uri": "https://localhost:8080/",
          "height": 0
        },
        "id": "s5DdlDbn_-y_",
        "outputId": "2977775f-6b05-4b8f-8a08-8d10e8d6f2ec"
      },
      "execution_count": 25,
      "outputs": [
        {
          "output_type": "execute_result",
          "data": {
            "text/plain": [
              "   valor_gasto_campanha  numero_visualizacoes  numero_cliques  \\\n",
              "0                   875                  4390              54   \n",
              "1                  1451                  7120              90   \n",
              "2                  1232                  6198              67   \n",
              "3                  1099                  5554              70   \n",
              "4                   656                  3336              41   \n",
              "\n",
              "   usuarios_convertidos  taxa_clique  \n",
              "0                    30     0.012301  \n",
              "1                    72     0.012640  \n",
              "2                    47     0.010810  \n",
              "3                    63     0.012604  \n",
              "4                    34     0.012290  "
            ],
            "text/html": [
              "\n",
              "  <div id=\"df-fd8a7e1d-077a-4685-b8bd-4e1ced67c603\" class=\"colab-df-container\">\n",
              "    <div>\n",
              "<style scoped>\n",
              "    .dataframe tbody tr th:only-of-type {\n",
              "        vertical-align: middle;\n",
              "    }\n",
              "\n",
              "    .dataframe tbody tr th {\n",
              "        vertical-align: top;\n",
              "    }\n",
              "\n",
              "    .dataframe thead th {\n",
              "        text-align: right;\n",
              "    }\n",
              "</style>\n",
              "<table border=\"1\" class=\"dataframe\">\n",
              "  <thead>\n",
              "    <tr style=\"text-align: right;\">\n",
              "      <th></th>\n",
              "      <th>valor_gasto_campanha</th>\n",
              "      <th>numero_visualizacoes</th>\n",
              "      <th>numero_cliques</th>\n",
              "      <th>usuarios_convertidos</th>\n",
              "      <th>taxa_clique</th>\n",
              "    </tr>\n",
              "  </thead>\n",
              "  <tbody>\n",
              "    <tr>\n",
              "      <th>0</th>\n",
              "      <td>875</td>\n",
              "      <td>4390</td>\n",
              "      <td>54</td>\n",
              "      <td>30</td>\n",
              "      <td>0.012301</td>\n",
              "    </tr>\n",
              "    <tr>\n",
              "      <th>1</th>\n",
              "      <td>1451</td>\n",
              "      <td>7120</td>\n",
              "      <td>90</td>\n",
              "      <td>72</td>\n",
              "      <td>0.012640</td>\n",
              "    </tr>\n",
              "    <tr>\n",
              "      <th>2</th>\n",
              "      <td>1232</td>\n",
              "      <td>6198</td>\n",
              "      <td>67</td>\n",
              "      <td>47</td>\n",
              "      <td>0.010810</td>\n",
              "    </tr>\n",
              "    <tr>\n",
              "      <th>3</th>\n",
              "      <td>1099</td>\n",
              "      <td>5554</td>\n",
              "      <td>70</td>\n",
              "      <td>63</td>\n",
              "      <td>0.012604</td>\n",
              "    </tr>\n",
              "    <tr>\n",
              "      <th>4</th>\n",
              "      <td>656</td>\n",
              "      <td>3336</td>\n",
              "      <td>41</td>\n",
              "      <td>34</td>\n",
              "      <td>0.012290</td>\n",
              "    </tr>\n",
              "  </tbody>\n",
              "</table>\n",
              "</div>\n",
              "    <div class=\"colab-df-buttons\">\n",
              "\n",
              "  <div class=\"colab-df-container\">\n",
              "    <button class=\"colab-df-convert\" onclick=\"convertToInteractive('df-fd8a7e1d-077a-4685-b8bd-4e1ced67c603')\"\n",
              "            title=\"Convert this dataframe to an interactive table.\"\n",
              "            style=\"display:none;\">\n",
              "\n",
              "  <svg xmlns=\"http://www.w3.org/2000/svg\" height=\"24px\" viewBox=\"0 -960 960 960\">\n",
              "    <path d=\"M120-120v-720h720v720H120Zm60-500h600v-160H180v160Zm220 220h160v-160H400v160Zm0 220h160v-160H400v160ZM180-400h160v-160H180v160Zm440 0h160v-160H620v160ZM180-180h160v-160H180v160Zm440 0h160v-160H620v160Z\"/>\n",
              "  </svg>\n",
              "    </button>\n",
              "\n",
              "  <style>\n",
              "    .colab-df-container {\n",
              "      display:flex;\n",
              "      gap: 12px;\n",
              "    }\n",
              "\n",
              "    .colab-df-convert {\n",
              "      background-color: #E8F0FE;\n",
              "      border: none;\n",
              "      border-radius: 50%;\n",
              "      cursor: pointer;\n",
              "      display: none;\n",
              "      fill: #1967D2;\n",
              "      height: 32px;\n",
              "      padding: 0 0 0 0;\n",
              "      width: 32px;\n",
              "    }\n",
              "\n",
              "    .colab-df-convert:hover {\n",
              "      background-color: #E2EBFA;\n",
              "      box-shadow: 0px 1px 2px rgba(60, 64, 67, 0.3), 0px 1px 3px 1px rgba(60, 64, 67, 0.15);\n",
              "      fill: #174EA6;\n",
              "    }\n",
              "\n",
              "    .colab-df-buttons div {\n",
              "      margin-bottom: 4px;\n",
              "    }\n",
              "\n",
              "    [theme=dark] .colab-df-convert {\n",
              "      background-color: #3B4455;\n",
              "      fill: #D2E3FC;\n",
              "    }\n",
              "\n",
              "    [theme=dark] .colab-df-convert:hover {\n",
              "      background-color: #434B5C;\n",
              "      box-shadow: 0px 1px 3px 1px rgba(0, 0, 0, 0.15);\n",
              "      filter: drop-shadow(0px 1px 2px rgba(0, 0, 0, 0.3));\n",
              "      fill: #FFFFFF;\n",
              "    }\n",
              "  </style>\n",
              "\n",
              "    <script>\n",
              "      const buttonEl =\n",
              "        document.querySelector('#df-fd8a7e1d-077a-4685-b8bd-4e1ced67c603 button.colab-df-convert');\n",
              "      buttonEl.style.display =\n",
              "        google.colab.kernel.accessAllowed ? 'block' : 'none';\n",
              "\n",
              "      async function convertToInteractive(key) {\n",
              "        const element = document.querySelector('#df-fd8a7e1d-077a-4685-b8bd-4e1ced67c603');\n",
              "        const dataTable =\n",
              "          await google.colab.kernel.invokeFunction('convertToInteractive',\n",
              "                                                    [key], {});\n",
              "        if (!dataTable) return;\n",
              "\n",
              "        const docLinkHtml = 'Like what you see? Visit the ' +\n",
              "          '<a target=\"_blank\" href=https://colab.research.google.com/notebooks/data_table.ipynb>data table notebook</a>'\n",
              "          + ' to learn more about interactive tables.';\n",
              "        element.innerHTML = '';\n",
              "        dataTable['output_type'] = 'display_data';\n",
              "        await google.colab.output.renderOutput(dataTable, element);\n",
              "        const docLink = document.createElement('div');\n",
              "        docLink.innerHTML = docLinkHtml;\n",
              "        element.appendChild(docLink);\n",
              "      }\n",
              "    </script>\n",
              "  </div>\n",
              "\n",
              "\n",
              "<div id=\"df-6442706f-f01d-4853-ba24-ffb205bbded8\">\n",
              "  <button class=\"colab-df-quickchart\" onclick=\"quickchart('df-6442706f-f01d-4853-ba24-ffb205bbded8')\"\n",
              "            title=\"Suggest charts\"\n",
              "            style=\"display:none;\">\n",
              "\n",
              "<svg xmlns=\"http://www.w3.org/2000/svg\" height=\"24px\"viewBox=\"0 0 24 24\"\n",
              "     width=\"24px\">\n",
              "    <g>\n",
              "        <path d=\"M19 3H5c-1.1 0-2 .9-2 2v14c0 1.1.9 2 2 2h14c1.1 0 2-.9 2-2V5c0-1.1-.9-2-2-2zM9 17H7v-7h2v7zm4 0h-2V7h2v10zm4 0h-2v-4h2v4z\"/>\n",
              "    </g>\n",
              "</svg>\n",
              "  </button>\n",
              "\n",
              "<style>\n",
              "  .colab-df-quickchart {\n",
              "      --bg-color: #E8F0FE;\n",
              "      --fill-color: #1967D2;\n",
              "      --hover-bg-color: #E2EBFA;\n",
              "      --hover-fill-color: #174EA6;\n",
              "      --disabled-fill-color: #AAA;\n",
              "      --disabled-bg-color: #DDD;\n",
              "  }\n",
              "\n",
              "  [theme=dark] .colab-df-quickchart {\n",
              "      --bg-color: #3B4455;\n",
              "      --fill-color: #D2E3FC;\n",
              "      --hover-bg-color: #434B5C;\n",
              "      --hover-fill-color: #FFFFFF;\n",
              "      --disabled-bg-color: #3B4455;\n",
              "      --disabled-fill-color: #666;\n",
              "  }\n",
              "\n",
              "  .colab-df-quickchart {\n",
              "    background-color: var(--bg-color);\n",
              "    border: none;\n",
              "    border-radius: 50%;\n",
              "    cursor: pointer;\n",
              "    display: none;\n",
              "    fill: var(--fill-color);\n",
              "    height: 32px;\n",
              "    padding: 0;\n",
              "    width: 32px;\n",
              "  }\n",
              "\n",
              "  .colab-df-quickchart:hover {\n",
              "    background-color: var(--hover-bg-color);\n",
              "    box-shadow: 0 1px 2px rgba(60, 64, 67, 0.3), 0 1px 3px 1px rgba(60, 64, 67, 0.15);\n",
              "    fill: var(--button-hover-fill-color);\n",
              "  }\n",
              "\n",
              "  .colab-df-quickchart-complete:disabled,\n",
              "  .colab-df-quickchart-complete:disabled:hover {\n",
              "    background-color: var(--disabled-bg-color);\n",
              "    fill: var(--disabled-fill-color);\n",
              "    box-shadow: none;\n",
              "  }\n",
              "\n",
              "  .colab-df-spinner {\n",
              "    border: 2px solid var(--fill-color);\n",
              "    border-color: transparent;\n",
              "    border-bottom-color: var(--fill-color);\n",
              "    animation:\n",
              "      spin 1s steps(1) infinite;\n",
              "  }\n",
              "\n",
              "  @keyframes spin {\n",
              "    0% {\n",
              "      border-color: transparent;\n",
              "      border-bottom-color: var(--fill-color);\n",
              "      border-left-color: var(--fill-color);\n",
              "    }\n",
              "    20% {\n",
              "      border-color: transparent;\n",
              "      border-left-color: var(--fill-color);\n",
              "      border-top-color: var(--fill-color);\n",
              "    }\n",
              "    30% {\n",
              "      border-color: transparent;\n",
              "      border-left-color: var(--fill-color);\n",
              "      border-top-color: var(--fill-color);\n",
              "      border-right-color: var(--fill-color);\n",
              "    }\n",
              "    40% {\n",
              "      border-color: transparent;\n",
              "      border-right-color: var(--fill-color);\n",
              "      border-top-color: var(--fill-color);\n",
              "    }\n",
              "    60% {\n",
              "      border-color: transparent;\n",
              "      border-right-color: var(--fill-color);\n",
              "    }\n",
              "    80% {\n",
              "      border-color: transparent;\n",
              "      border-right-color: var(--fill-color);\n",
              "      border-bottom-color: var(--fill-color);\n",
              "    }\n",
              "    90% {\n",
              "      border-color: transparent;\n",
              "      border-bottom-color: var(--fill-color);\n",
              "    }\n",
              "  }\n",
              "</style>\n",
              "\n",
              "  <script>\n",
              "    async function quickchart(key) {\n",
              "      const quickchartButtonEl =\n",
              "        document.querySelector('#' + key + ' button');\n",
              "      quickchartButtonEl.disabled = true;  // To prevent multiple clicks.\n",
              "      quickchartButtonEl.classList.add('colab-df-spinner');\n",
              "      try {\n",
              "        const charts = await google.colab.kernel.invokeFunction(\n",
              "            'suggestCharts', [key], {});\n",
              "      } catch (error) {\n",
              "        console.error('Error during call to suggestCharts:', error);\n",
              "      }\n",
              "      quickchartButtonEl.classList.remove('colab-df-spinner');\n",
              "      quickchartButtonEl.classList.add('colab-df-quickchart-complete');\n",
              "    }\n",
              "    (() => {\n",
              "      let quickchartButtonEl =\n",
              "        document.querySelector('#df-6442706f-f01d-4853-ba24-ffb205bbded8 button');\n",
              "      quickchartButtonEl.style.display =\n",
              "        google.colab.kernel.accessAllowed ? 'block' : 'none';\n",
              "    })();\n",
              "  </script>\n",
              "</div>\n",
              "\n",
              "    </div>\n",
              "  </div>\n"
            ],
            "application/vnd.google.colaboratory.intrinsic+json": {
              "type": "dataframe",
              "variable_name": "df",
              "summary": "{\n  \"name\": \"df\",\n  \"rows\": 500,\n  \"fields\": [\n    {\n      \"column\": \"valor_gasto_campanha\",\n      \"properties\": {\n        \"dtype\": \"number\",\n        \"std\": 298,\n        \"min\": 505,\n        \"max\": 1493,\n        \"num_unique_values\": 399,\n        \"samples\": [\n          1192,\n          829,\n          1466\n        ],\n        \"semantic_type\": \"\",\n        \"description\": \"\"\n      }\n    },\n    {\n      \"column\": \"numero_visualizacoes\",\n      \"properties\": {\n        \"dtype\": \"number\",\n        \"std\": 1487,\n        \"min\": 2376,\n        \"max\": 7528,\n        \"num_unique_values\": 476,\n        \"samples\": [\n          7075,\n          7264,\n          4346\n        ],\n        \"semantic_type\": \"\",\n        \"description\": \"\"\n      }\n    },\n    {\n      \"column\": \"numero_cliques\",\n      \"properties\": {\n        \"dtype\": \"number\",\n        \"std\": 20,\n        \"min\": 9,\n        \"max\": 116,\n        \"num_unique_values\": 88,\n        \"samples\": [\n          98,\n          54,\n          78\n        ],\n        \"semantic_type\": \"\",\n        \"description\": \"\"\n      }\n    },\n    {\n      \"column\": \"usuarios_convertidos\",\n      \"properties\": {\n        \"dtype\": \"number\",\n        \"std\": 18,\n        \"min\": 4,\n        \"max\": 101,\n        \"num_unique_values\": 84,\n        \"samples\": [\n          80,\n          30,\n          22\n        ],\n        \"semantic_type\": \"\",\n        \"description\": \"\"\n      }\n    },\n    {\n      \"column\": \"taxa_clique\",\n      \"properties\": {\n        \"dtype\": \"number\",\n        \"std\": 0.0017613382627134193,\n        \"min\": 0.0032727272727272726,\n        \"max\": 0.018288222384784197,\n        \"num_unique_values\": 490,\n        \"samples\": [\n          0.01233262861169838,\n          0.015272909364046069,\n          0.014290517821116342\n        ],\n        \"semantic_type\": \"\",\n        \"description\": \"\"\n      }\n    }\n  ]\n}"
            }
          },
          "metadata": {},
          "execution_count": 25
        }
      ]
    },
    {
      "cell_type": "markdown",
      "source": [
        "Verificando se há algum valor zero na nova coluna criada."
      ],
      "metadata": {
        "id": "oeBuXzs5Ch5s"
      }
    },
    {
      "cell_type": "code",
      "source": [
        "(df['taxa_clique'] == 0).all()"
      ],
      "metadata": {
        "colab": {
          "base_uri": "https://localhost:8080/"
        },
        "id": "y0WBtb6ZCQUi",
        "outputId": "5936de05-03f4-4ea1-bb31-171d65115f6d"
      },
      "execution_count": 26,
      "outputs": [
        {
          "output_type": "execute_result",
          "data": {
            "text/plain": [
              "False"
            ]
          },
          "metadata": {},
          "execution_count": 26
        }
      ]
    },
    {
      "cell_type": "markdown",
      "source": [
        "**Heatmap**"
      ],
      "metadata": {
        "id": "Al8SOiVoEWrw"
      }
    },
    {
      "cell_type": "code",
      "source": [
        "fig = px.imshow(df.corr(), text_auto=True, title='Mapa de calor')\n",
        "fig.show()"
      ],
      "metadata": {
        "colab": {
          "base_uri": "https://localhost:8080/",
          "height": 0
        },
        "id": "0IOS4iMQC4kg",
        "outputId": "ae27a782-769c-4412-923e-79d316685891"
      },
      "execution_count": 27,
      "outputs": [
        {
          "output_type": "display_data",
          "data": {
            "text/html": [
              "<html>\n",
              "<head><meta charset=\"utf-8\" /></head>\n",
              "<body>\n",
              "    <div>            <script src=\"https://cdnjs.cloudflare.com/ajax/libs/mathjax/2.7.5/MathJax.js?config=TeX-AMS-MML_SVG\"></script><script type=\"text/javascript\">if (window.MathJax && window.MathJax.Hub && window.MathJax.Hub.Config) {window.MathJax.Hub.Config({SVG: {font: \"STIX-Web\"}});}</script>                <script type=\"text/javascript\">window.PlotlyConfig = {MathJaxConfig: 'local'};</script>\n",
              "        <script charset=\"utf-8\" src=\"https://cdn.plot.ly/plotly-2.24.1.min.js\"></script>                <div id=\"465fbcdc-8c8b-4fa0-9471-b76147e0933c\" class=\"plotly-graph-div\" style=\"height:525px; width:100%;\"></div>            <script type=\"text/javascript\">                                    window.PLOTLYENV=window.PLOTLYENV || {};                                    if (document.getElementById(\"465fbcdc-8c8b-4fa0-9471-b76147e0933c\")) {                    Plotly.newPlot(                        \"465fbcdc-8c8b-4fa0-9471-b76147e0933c\",                        [{\"coloraxis\":\"coloraxis\",\"name\":\"0\",\"texttemplate\":\"%{z}\",\"x\":[\"valor_gasto_campanha\",\"numero_visualizacoes\",\"numero_cliques\",\"usuarios_convertidos\",\"taxa_clique\"],\"y\":[\"valor_gasto_campanha\",\"numero_visualizacoes\",\"numero_cliques\",\"usuarios_convertidos\",\"taxa_clique\"],\"z\":[[1.0,0.9978268787725733,0.9376128169228671,0.8501563772463372,0.06299124289619577],[0.9978268787725733,1.0,0.9365860143963578,0.8481638619299676,0.055410412517867304],[0.9376128169228671,0.9365860143963578,1.0,0.9265649816495695,0.38240900431136243],[0.8501563772463372,0.8481638619299676,0.9265649816495695,1.0,0.3978831147962588],[0.06299124289619577,0.055410412517867304,0.38240900431136243,0.3978831147962588,1.0]],\"type\":\"heatmap\",\"xaxis\":\"x\",\"yaxis\":\"y\",\"hovertemplate\":\"x: %{x}\\u003cbr\\u003ey: %{y}\\u003cbr\\u003ecolor: %{z}\\u003cextra\\u003e\\u003c\\u002fextra\\u003e\"}],                        {\"template\":{\"data\":{\"histogram2dcontour\":[{\"type\":\"histogram2dcontour\",\"colorbar\":{\"outlinewidth\":0,\"ticks\":\"\"},\"colorscale\":[[0.0,\"#0d0887\"],[0.1111111111111111,\"#46039f\"],[0.2222222222222222,\"#7201a8\"],[0.3333333333333333,\"#9c179e\"],[0.4444444444444444,\"#bd3786\"],[0.5555555555555556,\"#d8576b\"],[0.6666666666666666,\"#ed7953\"],[0.7777777777777778,\"#fb9f3a\"],[0.8888888888888888,\"#fdca26\"],[1.0,\"#f0f921\"]]}],\"choropleth\":[{\"type\":\"choropleth\",\"colorbar\":{\"outlinewidth\":0,\"ticks\":\"\"}}],\"histogram2d\":[{\"type\":\"histogram2d\",\"colorbar\":{\"outlinewidth\":0,\"ticks\":\"\"},\"colorscale\":[[0.0,\"#0d0887\"],[0.1111111111111111,\"#46039f\"],[0.2222222222222222,\"#7201a8\"],[0.3333333333333333,\"#9c179e\"],[0.4444444444444444,\"#bd3786\"],[0.5555555555555556,\"#d8576b\"],[0.6666666666666666,\"#ed7953\"],[0.7777777777777778,\"#fb9f3a\"],[0.8888888888888888,\"#fdca26\"],[1.0,\"#f0f921\"]]}],\"heatmap\":[{\"type\":\"heatmap\",\"colorbar\":{\"outlinewidth\":0,\"ticks\":\"\"},\"colorscale\":[[0.0,\"#0d0887\"],[0.1111111111111111,\"#46039f\"],[0.2222222222222222,\"#7201a8\"],[0.3333333333333333,\"#9c179e\"],[0.4444444444444444,\"#bd3786\"],[0.5555555555555556,\"#d8576b\"],[0.6666666666666666,\"#ed7953\"],[0.7777777777777778,\"#fb9f3a\"],[0.8888888888888888,\"#fdca26\"],[1.0,\"#f0f921\"]]}],\"heatmapgl\":[{\"type\":\"heatmapgl\",\"colorbar\":{\"outlinewidth\":0,\"ticks\":\"\"},\"colorscale\":[[0.0,\"#0d0887\"],[0.1111111111111111,\"#46039f\"],[0.2222222222222222,\"#7201a8\"],[0.3333333333333333,\"#9c179e\"],[0.4444444444444444,\"#bd3786\"],[0.5555555555555556,\"#d8576b\"],[0.6666666666666666,\"#ed7953\"],[0.7777777777777778,\"#fb9f3a\"],[0.8888888888888888,\"#fdca26\"],[1.0,\"#f0f921\"]]}],\"contourcarpet\":[{\"type\":\"contourcarpet\",\"colorbar\":{\"outlinewidth\":0,\"ticks\":\"\"}}],\"contour\":[{\"type\":\"contour\",\"colorbar\":{\"outlinewidth\":0,\"ticks\":\"\"},\"colorscale\":[[0.0,\"#0d0887\"],[0.1111111111111111,\"#46039f\"],[0.2222222222222222,\"#7201a8\"],[0.3333333333333333,\"#9c179e\"],[0.4444444444444444,\"#bd3786\"],[0.5555555555555556,\"#d8576b\"],[0.6666666666666666,\"#ed7953\"],[0.7777777777777778,\"#fb9f3a\"],[0.8888888888888888,\"#fdca26\"],[1.0,\"#f0f921\"]]}],\"surface\":[{\"type\":\"surface\",\"colorbar\":{\"outlinewidth\":0,\"ticks\":\"\"},\"colorscale\":[[0.0,\"#0d0887\"],[0.1111111111111111,\"#46039f\"],[0.2222222222222222,\"#7201a8\"],[0.3333333333333333,\"#9c179e\"],[0.4444444444444444,\"#bd3786\"],[0.5555555555555556,\"#d8576b\"],[0.6666666666666666,\"#ed7953\"],[0.7777777777777778,\"#fb9f3a\"],[0.8888888888888888,\"#fdca26\"],[1.0,\"#f0f921\"]]}],\"mesh3d\":[{\"type\":\"mesh3d\",\"colorbar\":{\"outlinewidth\":0,\"ticks\":\"\"}}],\"scatter\":[{\"fillpattern\":{\"fillmode\":\"overlay\",\"size\":10,\"solidity\":0.2},\"type\":\"scatter\"}],\"parcoords\":[{\"type\":\"parcoords\",\"line\":{\"colorbar\":{\"outlinewidth\":0,\"ticks\":\"\"}}}],\"scatterpolargl\":[{\"type\":\"scatterpolargl\",\"marker\":{\"colorbar\":{\"outlinewidth\":0,\"ticks\":\"\"}}}],\"bar\":[{\"error_x\":{\"color\":\"#2a3f5f\"},\"error_y\":{\"color\":\"#2a3f5f\"},\"marker\":{\"line\":{\"color\":\"#E5ECF6\",\"width\":0.5},\"pattern\":{\"fillmode\":\"overlay\",\"size\":10,\"solidity\":0.2}},\"type\":\"bar\"}],\"scattergeo\":[{\"type\":\"scattergeo\",\"marker\":{\"colorbar\":{\"outlinewidth\":0,\"ticks\":\"\"}}}],\"scatterpolar\":[{\"type\":\"scatterpolar\",\"marker\":{\"colorbar\":{\"outlinewidth\":0,\"ticks\":\"\"}}}],\"histogram\":[{\"marker\":{\"pattern\":{\"fillmode\":\"overlay\",\"size\":10,\"solidity\":0.2}},\"type\":\"histogram\"}],\"scattergl\":[{\"type\":\"scattergl\",\"marker\":{\"colorbar\":{\"outlinewidth\":0,\"ticks\":\"\"}}}],\"scatter3d\":[{\"type\":\"scatter3d\",\"line\":{\"colorbar\":{\"outlinewidth\":0,\"ticks\":\"\"}},\"marker\":{\"colorbar\":{\"outlinewidth\":0,\"ticks\":\"\"}}}],\"scattermapbox\":[{\"type\":\"scattermapbox\",\"marker\":{\"colorbar\":{\"outlinewidth\":0,\"ticks\":\"\"}}}],\"scatterternary\":[{\"type\":\"scatterternary\",\"marker\":{\"colorbar\":{\"outlinewidth\":0,\"ticks\":\"\"}}}],\"scattercarpet\":[{\"type\":\"scattercarpet\",\"marker\":{\"colorbar\":{\"outlinewidth\":0,\"ticks\":\"\"}}}],\"carpet\":[{\"aaxis\":{\"endlinecolor\":\"#2a3f5f\",\"gridcolor\":\"white\",\"linecolor\":\"white\",\"minorgridcolor\":\"white\",\"startlinecolor\":\"#2a3f5f\"},\"baxis\":{\"endlinecolor\":\"#2a3f5f\",\"gridcolor\":\"white\",\"linecolor\":\"white\",\"minorgridcolor\":\"white\",\"startlinecolor\":\"#2a3f5f\"},\"type\":\"carpet\"}],\"table\":[{\"cells\":{\"fill\":{\"color\":\"#EBF0F8\"},\"line\":{\"color\":\"white\"}},\"header\":{\"fill\":{\"color\":\"#C8D4E3\"},\"line\":{\"color\":\"white\"}},\"type\":\"table\"}],\"barpolar\":[{\"marker\":{\"line\":{\"color\":\"#E5ECF6\",\"width\":0.5},\"pattern\":{\"fillmode\":\"overlay\",\"size\":10,\"solidity\":0.2}},\"type\":\"barpolar\"}],\"pie\":[{\"automargin\":true,\"type\":\"pie\"}]},\"layout\":{\"autotypenumbers\":\"strict\",\"colorway\":[\"#636efa\",\"#EF553B\",\"#00cc96\",\"#ab63fa\",\"#FFA15A\",\"#19d3f3\",\"#FF6692\",\"#B6E880\",\"#FF97FF\",\"#FECB52\"],\"font\":{\"color\":\"#2a3f5f\"},\"hovermode\":\"closest\",\"hoverlabel\":{\"align\":\"left\"},\"paper_bgcolor\":\"white\",\"plot_bgcolor\":\"#E5ECF6\",\"polar\":{\"bgcolor\":\"#E5ECF6\",\"angularaxis\":{\"gridcolor\":\"white\",\"linecolor\":\"white\",\"ticks\":\"\"},\"radialaxis\":{\"gridcolor\":\"white\",\"linecolor\":\"white\",\"ticks\":\"\"}},\"ternary\":{\"bgcolor\":\"#E5ECF6\",\"aaxis\":{\"gridcolor\":\"white\",\"linecolor\":\"white\",\"ticks\":\"\"},\"baxis\":{\"gridcolor\":\"white\",\"linecolor\":\"white\",\"ticks\":\"\"},\"caxis\":{\"gridcolor\":\"white\",\"linecolor\":\"white\",\"ticks\":\"\"}},\"coloraxis\":{\"colorbar\":{\"outlinewidth\":0,\"ticks\":\"\"}},\"colorscale\":{\"sequential\":[[0.0,\"#0d0887\"],[0.1111111111111111,\"#46039f\"],[0.2222222222222222,\"#7201a8\"],[0.3333333333333333,\"#9c179e\"],[0.4444444444444444,\"#bd3786\"],[0.5555555555555556,\"#d8576b\"],[0.6666666666666666,\"#ed7953\"],[0.7777777777777778,\"#fb9f3a\"],[0.8888888888888888,\"#fdca26\"],[1.0,\"#f0f921\"]],\"sequentialminus\":[[0.0,\"#0d0887\"],[0.1111111111111111,\"#46039f\"],[0.2222222222222222,\"#7201a8\"],[0.3333333333333333,\"#9c179e\"],[0.4444444444444444,\"#bd3786\"],[0.5555555555555556,\"#d8576b\"],[0.6666666666666666,\"#ed7953\"],[0.7777777777777778,\"#fb9f3a\"],[0.8888888888888888,\"#fdca26\"],[1.0,\"#f0f921\"]],\"diverging\":[[0,\"#8e0152\"],[0.1,\"#c51b7d\"],[0.2,\"#de77ae\"],[0.3,\"#f1b6da\"],[0.4,\"#fde0ef\"],[0.5,\"#f7f7f7\"],[0.6,\"#e6f5d0\"],[0.7,\"#b8e186\"],[0.8,\"#7fbc41\"],[0.9,\"#4d9221\"],[1,\"#276419\"]]},\"xaxis\":{\"gridcolor\":\"white\",\"linecolor\":\"white\",\"ticks\":\"\",\"title\":{\"standoff\":15},\"zerolinecolor\":\"white\",\"automargin\":true,\"zerolinewidth\":2},\"yaxis\":{\"gridcolor\":\"white\",\"linecolor\":\"white\",\"ticks\":\"\",\"title\":{\"standoff\":15},\"zerolinecolor\":\"white\",\"automargin\":true,\"zerolinewidth\":2},\"scene\":{\"xaxis\":{\"backgroundcolor\":\"#E5ECF6\",\"gridcolor\":\"white\",\"linecolor\":\"white\",\"showbackground\":true,\"ticks\":\"\",\"zerolinecolor\":\"white\",\"gridwidth\":2},\"yaxis\":{\"backgroundcolor\":\"#E5ECF6\",\"gridcolor\":\"white\",\"linecolor\":\"white\",\"showbackground\":true,\"ticks\":\"\",\"zerolinecolor\":\"white\",\"gridwidth\":2},\"zaxis\":{\"backgroundcolor\":\"#E5ECF6\",\"gridcolor\":\"white\",\"linecolor\":\"white\",\"showbackground\":true,\"ticks\":\"\",\"zerolinecolor\":\"white\",\"gridwidth\":2}},\"shapedefaults\":{\"line\":{\"color\":\"#2a3f5f\"}},\"annotationdefaults\":{\"arrowcolor\":\"#2a3f5f\",\"arrowhead\":0,\"arrowwidth\":1},\"geo\":{\"bgcolor\":\"white\",\"landcolor\":\"#E5ECF6\",\"subunitcolor\":\"white\",\"showland\":true,\"showlakes\":true,\"lakecolor\":\"white\"},\"title\":{\"x\":0.05},\"mapbox\":{\"style\":\"light\"}}},\"xaxis\":{\"anchor\":\"y\",\"domain\":[0.0,1.0],\"scaleanchor\":\"y\",\"constrain\":\"domain\"},\"yaxis\":{\"anchor\":\"x\",\"domain\":[0.0,1.0],\"autorange\":\"reversed\",\"constrain\":\"domain\"},\"coloraxis\":{\"colorscale\":[[0.0,\"#0d0887\"],[0.1111111111111111,\"#46039f\"],[0.2222222222222222,\"#7201a8\"],[0.3333333333333333,\"#9c179e\"],[0.4444444444444444,\"#bd3786\"],[0.5555555555555556,\"#d8576b\"],[0.6666666666666666,\"#ed7953\"],[0.7777777777777778,\"#fb9f3a\"],[0.8888888888888888,\"#fdca26\"],[1.0,\"#f0f921\"]]},\"title\":{\"text\":\"Mapa de calor\"}},                        {\"responsive\": true}                    ).then(function(){\n",
              "                            \n",
              "var gd = document.getElementById('465fbcdc-8c8b-4fa0-9471-b76147e0933c');\n",
              "var x = new MutationObserver(function (mutations, observer) {{\n",
              "        var display = window.getComputedStyle(gd).display;\n",
              "        if (!display || display === 'none') {{\n",
              "            console.log([gd, 'removed!']);\n",
              "            Plotly.purge(gd);\n",
              "            observer.disconnect();\n",
              "        }}\n",
              "}});\n",
              "\n",
              "// Listen for the removal of the full notebook cells\n",
              "var notebookContainer = gd.closest('#notebook-container');\n",
              "if (notebookContainer) {{\n",
              "    x.observe(notebookContainer, {childList: true});\n",
              "}}\n",
              "\n",
              "// Listen for the clearing of the current output cell\n",
              "var outputEl = gd.closest('.output');\n",
              "if (outputEl) {{\n",
              "    x.observe(outputEl, {childList: true});\n",
              "}}\n",
              "\n",
              "                        })                };                            </script>        </div>\n",
              "</body>\n",
              "</html>"
            ]
          },
          "metadata": {}
        }
      ]
    },
    {
      "cell_type": "markdown",
      "source": [
        "❗ Nota-se que a nova variável *'taxa_clique'* possui um valor muito menor em relação às outras variáveis preditoras. Logo, é recomendado o uso desta."
      ],
      "metadata": {
        "id": "5T3Tu8tjEgTO"
      }
    },
    {
      "cell_type": "markdown",
      "source": [
        "## Modelagem 2"
      ],
      "metadata": {
        "id": "Osw-3yznFGKv"
      }
    },
    {
      "cell_type": "markdown",
      "source": [
        "**Regressão linear multipla**"
      ],
      "metadata": {
        "id": "_QapY7bfFPOY"
      }
    },
    {
      "cell_type": "code",
      "source": [
        "X=df[['valor_gasto_campanha', 'taxa_clique']]\n",
        "y=df['usuarios_convertidos']\n",
        "model3 = LinearRegression()\n",
        "model3.fit(X=X, y=y)"
      ],
      "metadata": {
        "colab": {
          "base_uri": "https://localhost:8080/",
          "height": 0
        },
        "id": "zbYsP5t3EaT-",
        "outputId": "81cefe95-743d-4abe-f020-1fd3b99adfbc"
      },
      "execution_count": 28,
      "outputs": [
        {
          "output_type": "execute_result",
          "data": {
            "text/plain": [
              "LinearRegression()"
            ],
            "text/html": [
              "<style>#sk-container-id-3 {color: black;background-color: white;}#sk-container-id-3 pre{padding: 0;}#sk-container-id-3 div.sk-toggleable {background-color: white;}#sk-container-id-3 label.sk-toggleable__label {cursor: pointer;display: block;width: 100%;margin-bottom: 0;padding: 0.3em;box-sizing: border-box;text-align: center;}#sk-container-id-3 label.sk-toggleable__label-arrow:before {content: \"▸\";float: left;margin-right: 0.25em;color: #696969;}#sk-container-id-3 label.sk-toggleable__label-arrow:hover:before {color: black;}#sk-container-id-3 div.sk-estimator:hover label.sk-toggleable__label-arrow:before {color: black;}#sk-container-id-3 div.sk-toggleable__content {max-height: 0;max-width: 0;overflow: hidden;text-align: left;background-color: #f0f8ff;}#sk-container-id-3 div.sk-toggleable__content pre {margin: 0.2em;color: black;border-radius: 0.25em;background-color: #f0f8ff;}#sk-container-id-3 input.sk-toggleable__control:checked~div.sk-toggleable__content {max-height: 200px;max-width: 100%;overflow: auto;}#sk-container-id-3 input.sk-toggleable__control:checked~label.sk-toggleable__label-arrow:before {content: \"▾\";}#sk-container-id-3 div.sk-estimator input.sk-toggleable__control:checked~label.sk-toggleable__label {background-color: #d4ebff;}#sk-container-id-3 div.sk-label input.sk-toggleable__control:checked~label.sk-toggleable__label {background-color: #d4ebff;}#sk-container-id-3 input.sk-hidden--visually {border: 0;clip: rect(1px 1px 1px 1px);clip: rect(1px, 1px, 1px, 1px);height: 1px;margin: -1px;overflow: hidden;padding: 0;position: absolute;width: 1px;}#sk-container-id-3 div.sk-estimator {font-family: monospace;background-color: #f0f8ff;border: 1px dotted black;border-radius: 0.25em;box-sizing: border-box;margin-bottom: 0.5em;}#sk-container-id-3 div.sk-estimator:hover {background-color: #d4ebff;}#sk-container-id-3 div.sk-parallel-item::after {content: \"\";width: 100%;border-bottom: 1px solid gray;flex-grow: 1;}#sk-container-id-3 div.sk-label:hover label.sk-toggleable__label {background-color: #d4ebff;}#sk-container-id-3 div.sk-serial::before {content: \"\";position: absolute;border-left: 1px solid gray;box-sizing: border-box;top: 0;bottom: 0;left: 50%;z-index: 0;}#sk-container-id-3 div.sk-serial {display: flex;flex-direction: column;align-items: center;background-color: white;padding-right: 0.2em;padding-left: 0.2em;position: relative;}#sk-container-id-3 div.sk-item {position: relative;z-index: 1;}#sk-container-id-3 div.sk-parallel {display: flex;align-items: stretch;justify-content: center;background-color: white;position: relative;}#sk-container-id-3 div.sk-item::before, #sk-container-id-3 div.sk-parallel-item::before {content: \"\";position: absolute;border-left: 1px solid gray;box-sizing: border-box;top: 0;bottom: 0;left: 50%;z-index: -1;}#sk-container-id-3 div.sk-parallel-item {display: flex;flex-direction: column;z-index: 1;position: relative;background-color: white;}#sk-container-id-3 div.sk-parallel-item:first-child::after {align-self: flex-end;width: 50%;}#sk-container-id-3 div.sk-parallel-item:last-child::after {align-self: flex-start;width: 50%;}#sk-container-id-3 div.sk-parallel-item:only-child::after {width: 0;}#sk-container-id-3 div.sk-dashed-wrapped {border: 1px dashed gray;margin: 0 0.4em 0.5em 0.4em;box-sizing: border-box;padding-bottom: 0.4em;background-color: white;}#sk-container-id-3 div.sk-label label {font-family: monospace;font-weight: bold;display: inline-block;line-height: 1.2em;}#sk-container-id-3 div.sk-label-container {text-align: center;}#sk-container-id-3 div.sk-container {/* jupyter's `normalize.less` sets `[hidden] { display: none; }` but bootstrap.min.css set `[hidden] { display: none !important; }` so we also need the `!important` here to be able to override the default hidden behavior on the sphinx rendered scikit-learn.org. See: https://github.com/scikit-learn/scikit-learn/issues/21755 */display: inline-block !important;position: relative;}#sk-container-id-3 div.sk-text-repr-fallback {display: none;}</style><div id=\"sk-container-id-3\" class=\"sk-top-container\"><div class=\"sk-text-repr-fallback\"><pre>LinearRegression()</pre><b>In a Jupyter environment, please rerun this cell to show the HTML representation or trust the notebook. <br />On GitHub, the HTML representation is unable to render, please try loading this page with nbviewer.org.</b></div><div class=\"sk-container\" hidden><div class=\"sk-item\"><div class=\"sk-estimator sk-toggleable\"><input class=\"sk-toggleable__control sk-hidden--visually\" id=\"sk-estimator-id-3\" type=\"checkbox\" checked><label for=\"sk-estimator-id-3\" class=\"sk-toggleable__label sk-toggleable__label-arrow\">LinearRegression</label><div class=\"sk-toggleable__content\"><pre>LinearRegression()</pre></div></div></div></div></div>"
            ]
          },
          "metadata": {},
          "execution_count": 28
        }
      ]
    },
    {
      "cell_type": "markdown",
      "source": [
        "**Coeficiente de determinação (R²)**"
      ],
      "metadata": {
        "id": "5wS7-APwFc8S"
      }
    },
    {
      "cell_type": "code",
      "source": [
        "model3.score(X=X, y=y)"
      ],
      "metadata": {
        "colab": {
          "base_uri": "https://localhost:8080/"
        },
        "id": "41ZopGS3FUF7",
        "outputId": "b9a239d6-4800-4429-b5dc-4d5c25de295c"
      },
      "execution_count": 29,
      "outputs": [
        {
          "output_type": "execute_result",
          "data": {
            "text/plain": [
              "0.8418018245872498"
            ]
          },
          "metadata": {},
          "execution_count": 29
        }
      ]
    },
    {
      "cell_type": "markdown",
      "source": [
        "**Intercepto ou constante de modelo**"
      ],
      "metadata": {
        "id": "Yyabqh3TFkba"
      }
    },
    {
      "cell_type": "code",
      "source": [
        "model3.intercept_"
      ],
      "metadata": {
        "colab": {
          "base_uri": "https://localhost:8080/"
        },
        "id": "1GJ4k0SUFjpZ",
        "outputId": "985874cb-4ef3-4574-dc7d-2dacf83d812a"
      },
      "execution_count": 30,
      "outputs": [
        {
          "output_type": "execute_result",
          "data": {
            "text/plain": [
              "-47.85206472383286"
            ]
          },
          "metadata": {},
          "execution_count": 30
        }
      ]
    },
    {
      "cell_type": "markdown",
      "source": [
        "**Coeficientes *angular* ou parâmetros do modelo**"
      ],
      "metadata": {
        "id": "o7ttAl9AF706"
      }
    },
    {
      "cell_type": "code",
      "source": [
        "model3.coef_"
      ],
      "metadata": {
        "colab": {
          "base_uri": "https://localhost:8080/"
        },
        "id": "QkuYlIpRFxa5",
        "outputId": "0b295e3e-5ccd-4a06-f54b-b409a8c5f625"
      },
      "execution_count": 31,
      "outputs": [
        {
          "output_type": "execute_result",
          "data": {
            "text/plain": [
              "array([5.10469825e-02, 3.61258711e+03])"
            ]
          },
          "metadata": {},
          "execution_count": 31
        }
      ]
    },
    {
      "cell_type": "markdown",
      "source": [
        "**Residuais**"
      ],
      "metadata": {
        "id": "xZPECLjUGE18"
      }
    },
    {
      "cell_type": "code",
      "source": [
        "prediction = model3.predict(X)\n",
        "residuals = y - prediction\n",
        "residuals.mean()"
      ],
      "metadata": {
        "colab": {
          "base_uri": "https://localhost:8080/"
        },
        "id": "vcWhXypgF-by",
        "outputId": "d2032679-fa32-4b74-95f2-c03d2f2c2c8a"
      },
      "execution_count": 32,
      "outputs": [
        {
          "output_type": "execute_result",
          "data": {
            "text/plain": [
              "-6.94910795573378e-15"
            ]
          },
          "metadata": {},
          "execution_count": 32
        }
      ]
    },
    {
      "cell_type": "code",
      "source": [
        "fig = go.Figure(layout={'title':{'text':'Modelo 3: Valores previstos versus treino'}})\n",
        "fig.update_xaxes(title_text='Quantidade de usuários convertidos')\n",
        "fig.update_layout(legend_title_text='Legenda')\n",
        "fig.add_trace(go.Scatter(x=list(range(0, 100)), y=df['usuarios_convertidos'],\n",
        "                    mode='lines',\n",
        "                    name='Train values',\n",
        "                    hovertemplate='Train value: <b>%{y}</b>'))\n",
        "fig.add_trace(go.Scatter(x=list(range(0, 100)), y=prediction,\n",
        "                    mode='lines',\n",
        "                    name='Predict values',\n",
        "                    hovertemplate='Predict value: <b>%{y}</b>'))\n",
        "\n",
        "fig.show()"
      ],
      "metadata": {
        "colab": {
          "base_uri": "https://localhost:8080/",
          "height": 0
        },
        "id": "YgWBsx-LGH6R",
        "outputId": "0c90a438-4e2a-45b7-aef8-ed5dc47f7d28"
      },
      "execution_count": 33,
      "outputs": [
        {
          "output_type": "display_data",
          "data": {
            "text/html": [
              "<html>\n",
              "<head><meta charset=\"utf-8\" /></head>\n",
              "<body>\n",
              "    <div>            <script src=\"https://cdnjs.cloudflare.com/ajax/libs/mathjax/2.7.5/MathJax.js?config=TeX-AMS-MML_SVG\"></script><script type=\"text/javascript\">if (window.MathJax && window.MathJax.Hub && window.MathJax.Hub.Config) {window.MathJax.Hub.Config({SVG: {font: \"STIX-Web\"}});}</script>                <script type=\"text/javascript\">window.PlotlyConfig = {MathJaxConfig: 'local'};</script>\n",
              "        <script charset=\"utf-8\" src=\"https://cdn.plot.ly/plotly-2.24.1.min.js\"></script>                <div id=\"47bce3e1-2cf5-4f61-88e3-567cf91d43ff\" class=\"plotly-graph-div\" style=\"height:525px; width:100%;\"></div>            <script type=\"text/javascript\">                                    window.PLOTLYENV=window.PLOTLYENV || {};                                    if (document.getElementById(\"47bce3e1-2cf5-4f61-88e3-567cf91d43ff\")) {                    Plotly.newPlot(                        \"47bce3e1-2cf5-4f61-88e3-567cf91d43ff\",                        [{\"hovertemplate\":\"Train value: \\u003cb\\u003e%{y}\\u003c\\u002fb\\u003e\",\"mode\":\"lines\",\"name\":\"Train values\",\"x\":[0,1,2,3,4,5,6,7,8,9,10,11,12,13,14,15,16,17,18,19,20,21,22,23,24,25,26,27,28,29,30,31,32,33,34,35,36,37,38,39,40,41,42,43,44,45,46,47,48,49,50,51,52,53,54,55,56,57,58,59,60,61,62,63,64,65,66,67,68,69,70,71,72,73,74,75,76,77,78,79,80,81,82,83,84,85,86,87,88,89,90,91,92,93,94,95,96,97,98,99],\"y\":[30,72,47,63,34,18,25,61,58,74,7,75,65,42,36,27,37,43,57,40,75,31,33,28,30,48,38,56,39,36,51,35,44,81,71,57,19,23,57,37,30,51,24,64,40,63,30,65,51,34,81,66,82,73,49,75,18,36,27,39,43,20,61,44,41,42,45,56,38,79,57,53,13,75,70,55,77,26,46,33,67,64,49,11,54,25,72,68,58,45,20,59,60,61,77,64,46,44,9,22,36,73,28,45,70,40,37,67,32,29,45,33,67,64,56,65,63,50,75,49,72,66,53,34,35,51,50,57,13,52,63,58,37,47,54,36,43,54,42,69,53,45,39,42,60,18,30,47,39,59,58,42,28,48,101,22,61,68,48,62,46,53,59,48,36,63,45,34,38,54,41,38,42,30,51,47,38,76,82,34,42,34,76,75,43,59,64,51,50,48,36,40,77,59,42,39,73,79,62,68,47,15,27,79,65,31,37,63,19,37,60,67,69,43,64,48,41,54,56,60,51,52,22,40,19,39,74,36,76,66,49,43,46,40,43,59,36,6,64,21,73,75,84,30,4,73,64,86,75,63,48,35,72,46,44,80,76,55,53,12,49,70,27,52,61,73,60,60,40,41,74,57,62,68,37,42,60,66,63,67,78,41,48,29,57,21,24,51,54,64,36,39,67,45,25,48,70,48,55,25,28,58,38,34,56,62,46,40,60,53,50,32,32,62,77,59,52,23,17,46,56,52,49,50,61,78,44,62,43,43,37,61,26,21,35,22,65,50,23,28,74,57,33,44,45,61,45,38,51,63,55,68,65,39,25,51,27,70,60,39,46,58,50,55,70,59,57,62,34,12,28,43,30,61,16,35,63,23,79,45,20,62,61,80,78,55,31,21,60,70,84,45,40,65,34,92,52,48,83,63,28,67,48,80,19,85,30,23,66,35,25,77,93,40,58,41,44,42,52,67,83,63,37,37,18,57,62,73,39,31,20,69,65,26,25,63,24,65,81,27,26,68,51,42,59,86,88,57,25,39,57,61,27,79,18,57,26,39,24,38,32,63,82,39,89,45,30,55,34,82,24,89,13,69,39,78,38,48,47,53,61,64,60,46,61,82,9,42,67,69,51,51,32,35,37,32,61,17,80,79],\"type\":\"scatter\"},{\"hovertemplate\":\"Predict value: \\u003cb\\u003e%{y}\\u003c\\u002fb\\u003e\",\"mode\":\"lines\",\"name\":\"Predict values\",\"x\":[0,1,2,3,4,5,6,7,8,9,10,11,12,13,14,15,16,17,18,19,20,21,22,23,24,25,26,27,28,29,30,31,32,33,34,35,36,37,38,39,40,41,42,43,44,45,46,47,48,49,50,51,52,53,54,55,56,57,58,59,60,61,62,63,64,65,66,67,68,69,70,71,72,73,74,75,76,77,78,79,80,81,82,83,84,85,86,87,88,89,90,91,92,93,94,95,96,97,98,99],\"y\":[41.25133513742309,71.8818315454495,54.08966285058818,53.77991537938228,30.03405779995176,21.888581563681207,19.59881831462635,63.37795071371206,54.99435907388601,66.70381905893885,16.971848180574405,72.77324119355333,65.50913533915076,35.83363722973217,36.20960531118502,24.96467765343335,41.753240172240616,42.04422481077376,49.30673282203855,40.888593200875626,61.95387979739464,47.92407440397226,38.07572361449058,33.44137731260903,41.36833898179784,55.59214846366016,35.0773600983346,49.93895536867404,51.852572185674056,30.593073559755062,53.87351289291322,31.16204151981635,46.672882395930976,74.35578237981008,77.05635112053932,66.38451133484523,32.4886161321572,26.114304796626975,60.1135862365983,35.45383671864217,28.79069212636852,52.359479149536945,21.732303645524347,65.81629419017312,39.073271296944476,64.26735142077848,39.85838952000483,56.45810364796264,55.691635931073925,32.85753457310998,72.26295124664333,62.64887575293937,79.56174097818186,71.02346451614258,52.31770729936792,71.83762774122059,31.13988720088441,45.39252383308281,40.07175991925646,40.024066035966136,45.555435349835726,21.886243022162255,70.32552978503111,37.68820145862643,40.84682391255432,44.515430161798214,35.1369607485777,59.77866712580944,31.656909020063033,75.04143451343865,61.24054909493187,48.77510832282214,8.766803101059388,68.37050979254857,66.40620917103399,58.795886678800905,66.55558949681125,24.794994707748934,49.6618440611574,31.867982639331935,66.64450198468046,61.69590733792264,39.002212303837645,19.51126874183779,48.721753575158125,33.1542411692377,62.308162752356615,57.598959670743206,68.35250865784258,50.295022135581284,21.330436988177105,62.34840761029498,57.530359493816654,54.63309052574203,67.64581826149674,49.905600966281064,46.475406781572694,42.93259899847583,16.105639929112165,23.222673158639786,15.255610190600208,55.70378184049215,33.21144743048952,49.2766763542508,63.67615281474141,34.49410207857212,40.133686473685806,68.92962693946592,31.31129237389913,29.834181826798236,41.76611843320605,20.32632895021097,72.4498445997537,65.5804240152911,57.28074184881587,77.97657575133749,59.27285268249312,51.12899117268133,70.17972142100788,52.506050435632595,67.2246720163325,68.6904734708219,43.33140778915327,32.16678519892414,27.815439776746977,50.8544253777197,61.408650432726,62.06620605136158,12.77853521716876,53.7979637903937,51.291369674944654,48.68315911621249,30.052981322547943,45.63120022704842,69.9319323234941,46.465399787125214,47.61396673714349,60.25645992873239,43.58637890329111,76.25340778641726,66.70209305420434,45.870298429156854,45.67030470259731,41.70639967261858,47.60567232199636,23.790101847183983,47.61974341105613,49.83749884183313,42.261560971898824,52.324690324123075,70.56271641207431,35.47513885416286,26.125365229878234,54.60207526318259,83.12084578940454,37.40298788769055,58.394767122886996,63.57420131145505,33.60364631072337,61.14123773696665,50.503970391000784,53.291705379942265,59.18605843813801,50.46076972338944,31.800490960001916,63.73467996285023,44.3466223105633,18.36946504499418,33.30399134370368,49.37934043163164,57.86986285064926,39.25497498352137,49.925614862317936,38.944483461647756,52.92679952738069,48.76807524749355,55.77235588739692,55.49900702772663,77.38879896349138,26.07287887450976,37.38040433312593,27.468140945962823,71.92482877060095,68.12914805772732,46.258118324470225,56.94521308375868,67.04212132753042,49.041021242800234,44.75693866868378,45.74332995050279,21.237730585554466,63.147852288464,68.47790289965138,64.1729730742062,46.32365290425631,42.6810843920694,69.35076572201035,72.21415528696727,70.39295857273993,65.46992480480304,54.75066903502948,28.290223602939314,34.318878149319595,73.70876416572796,53.012247039797025,24.217351594960597,30.872978791506988,59.89759352763806,12.565930566083587,48.157140776352826,60.588331731254705,65.72527240044053,61.977521322898106,38.92772610902119,60.075697084500796,43.0991687912123,40.39410609818837,56.485155252145425,58.46117848582275,65.08568286826338,49.65322018307841,49.87887703283334,22.555711949540232,50.55254551690552,31.07085986405061,31.45204207326875,74.82954847408655,34.42509797014274,73.82757463604503,58.892536640910656,59.815482140998235,52.157103701441166,45.8871996693837,41.960416177878294,34.14383308342878,64.01484251780951,31.53859254705258,-7.063076264366707,58.172504266518835,29.914464563609407,75.45003676187017,72.95518972249576,73.92988912642554,40.875322226517746,-9.739856393899181,71.30023071466638,53.96110610838553,78.1855344562301,72.90093557426206,67.30033542065391,32.03602824994983,38.88750335569818,70.54893026107291,38.259669110494535,39.95607144236346,62.540895032838726,73.05279077414804,60.26159706601265,50.47156817515158,16.516554245512843,54.3563309949953,75.04861481310627,24.1327368236848,52.395194940556344,69.24024917719012,59.13306702745836,63.40940755380003,60.39908461637253,42.32293220863777,44.58928308511684,64.65507059098826,61.23028769499111,66.00429716745958,68.084779410875,52.86797464218957,44.980709139470285,62.38817629718735,60.11171777386617,57.59140922100193,64.85011020617705,72.45692848333434,43.03146017458047,44.30391665517242,27.691784525590286,50.352226648846504,25.932550383377524,46.81846899640811,50.80996734211828,47.170762654371366,59.83406849068057,24.27479485141742,45.62796133948799,67.15252045008319,52.31916747378812,22.122851328150993,57.12937889775106,68.88594218462322,44.88883352286562,55.84515299468682,23.98935391422686,36.02655193177464,54.85423575220809,40.91769175871095,45.11922207460892,59.23739092780203,71.78665609925588,47.90617051911864,45.655769895348605,58.58033136087649,46.14141754519337,41.69361665535225,35.4229927644707,28.453424448873044,71.75252209298648,67.42321291853281,64.01347481679511,52.504380654339535,33.271127750081625,22.03901237611884,43.86816373388553,50.971815922361806,62.89590426370756,59.450116944074104,49.60235846464749,68.00151201256887,68.77595494718346,45.24079520783871,60.586816611498584,46.89670294127844,29.858112708802558,35.6919800570003,62.159203194447535,21.862123211510003,17.064130858688237,33.97808371975329,24.592076069301875,65.58597404758584,55.06343491610817,43.230378309330085,36.38411712634585,55.525039853619425,48.187602905876496,34.95124459727929,45.03272476418115,43.041331541590516,61.338578460742305,46.80726500352517,44.01667132693398,47.27610442014477,57.47989887375518,51.296421691304026,67.94752126300364,53.77672762626502,44.05152036904634,26.005998790000028,56.46380722396656,31.558228631615428,57.28696711014455,70.43355999576428,47.480172426313466,49.074343078198005,49.989951417300865,48.70441767608124,51.036448391064305,73.4390119056252,51.98822790666481,68.39582709788868,67.43203298190019,31.36927742832463,12.584722124560763,35.05734684185196,39.408237032942814,12.284867160659765,60.013019150668235,12.397505604374302,30.11572341446024,63.68388837100644,20.79321107234299,72.83574098567092,43.31565444377767,23.114259579857183,60.93057825857327,57.67661107930709,71.33825084693038,62.95214533567701,56.599394197941656,32.216445876976685,27.61582990092331,61.78736642435076,65.2515232933138,74.80799645649324,47.54067428501846,37.15890637376349,67.14393285528038,34.45030996439764,75.89202896762546,61.288378421937786,45.556048987526275,72.3535044345135,65.45846063752478,34.12941263357251,70.23749124115653,45.0958422866368,70.60772855509128,28.31746070104439,77.04663346411286,34.086621932903846,29.596741108700265,71.81912756618189,45.47381924616423,31.778945878070623,76.92603049419793,84.47654029035928,47.068638931259365,53.94099877662676,37.5268449895348,44.57508070091489,33.181392192785715,55.610359193676736,64.61807140971186,70.58644626882756,65.9407603635037,34.65539658599085,49.60932072797717,15.55512034322279,51.8332029712385,50.874296752507654,73.46802159312367,46.519897530871866,31.294612348711745,32.88964113942256,62.32017003729862,64.85714702060883,35.35267093375375,30.69368550301069,65.90564716660421,16.28335408340954,64.80979661280534,65.33633661787252,29.264121087121346,21.9356251693058,75.00294259176414,52.15328511231781,45.106475787361,64.98541625336642,74.02736755636636,76.1132647989543,65.2252720624935,38.81563451772379,31.4468677119445,61.27951443117788,49.60479905286251,34.563920357951766,76.44869409568074,16.113129465409564,51.45637385731569,29.936024910671144,40.84690776868701,25.082752698243475,38.095654651847674,32.257616854113344,68.84458110734414,63.74861008198004,53.65118201619827,77.63204418823099,48.64090612336444,37.29038751353162,63.67798714439285,35.739181623770484,72.23294390160314,28.42012600036862,78.21910586651492,24.37765520132519,72.74793333483657,47.8846377335335,77.06017104863031,26.665737937861984,48.80458753479005,70.8285948655247,57.391314058143244,57.289014656202475,61.48060890857129,48.79620317955246,57.9315002323253,58.626311142127655,79.4535446779013,9.231028364739664,39.375186934546015,72.96514068174446,70.5902516861546,47.519955074757284,51.43124961654822,40.578498002302574,38.13484218136724,40.1157520557452,43.79133024773295,58.63454017622025,22.368724567153713,76.26937861692096,77.79887085269857],\"type\":\"scatter\"}],                        {\"title\":{\"text\":\"Modelo 3: Valores previstos versus treino\"},\"template\":{\"data\":{\"histogram2dcontour\":[{\"type\":\"histogram2dcontour\",\"colorbar\":{\"outlinewidth\":0,\"ticks\":\"\"},\"colorscale\":[[0.0,\"#0d0887\"],[0.1111111111111111,\"#46039f\"],[0.2222222222222222,\"#7201a8\"],[0.3333333333333333,\"#9c179e\"],[0.4444444444444444,\"#bd3786\"],[0.5555555555555556,\"#d8576b\"],[0.6666666666666666,\"#ed7953\"],[0.7777777777777778,\"#fb9f3a\"],[0.8888888888888888,\"#fdca26\"],[1.0,\"#f0f921\"]]}],\"choropleth\":[{\"type\":\"choropleth\",\"colorbar\":{\"outlinewidth\":0,\"ticks\":\"\"}}],\"histogram2d\":[{\"type\":\"histogram2d\",\"colorbar\":{\"outlinewidth\":0,\"ticks\":\"\"},\"colorscale\":[[0.0,\"#0d0887\"],[0.1111111111111111,\"#46039f\"],[0.2222222222222222,\"#7201a8\"],[0.3333333333333333,\"#9c179e\"],[0.4444444444444444,\"#bd3786\"],[0.5555555555555556,\"#d8576b\"],[0.6666666666666666,\"#ed7953\"],[0.7777777777777778,\"#fb9f3a\"],[0.8888888888888888,\"#fdca26\"],[1.0,\"#f0f921\"]]}],\"heatmap\":[{\"type\":\"heatmap\",\"colorbar\":{\"outlinewidth\":0,\"ticks\":\"\"},\"colorscale\":[[0.0,\"#0d0887\"],[0.1111111111111111,\"#46039f\"],[0.2222222222222222,\"#7201a8\"],[0.3333333333333333,\"#9c179e\"],[0.4444444444444444,\"#bd3786\"],[0.5555555555555556,\"#d8576b\"],[0.6666666666666666,\"#ed7953\"],[0.7777777777777778,\"#fb9f3a\"],[0.8888888888888888,\"#fdca26\"],[1.0,\"#f0f921\"]]}],\"heatmapgl\":[{\"type\":\"heatmapgl\",\"colorbar\":{\"outlinewidth\":0,\"ticks\":\"\"},\"colorscale\":[[0.0,\"#0d0887\"],[0.1111111111111111,\"#46039f\"],[0.2222222222222222,\"#7201a8\"],[0.3333333333333333,\"#9c179e\"],[0.4444444444444444,\"#bd3786\"],[0.5555555555555556,\"#d8576b\"],[0.6666666666666666,\"#ed7953\"],[0.7777777777777778,\"#fb9f3a\"],[0.8888888888888888,\"#fdca26\"],[1.0,\"#f0f921\"]]}],\"contourcarpet\":[{\"type\":\"contourcarpet\",\"colorbar\":{\"outlinewidth\":0,\"ticks\":\"\"}}],\"contour\":[{\"type\":\"contour\",\"colorbar\":{\"outlinewidth\":0,\"ticks\":\"\"},\"colorscale\":[[0.0,\"#0d0887\"],[0.1111111111111111,\"#46039f\"],[0.2222222222222222,\"#7201a8\"],[0.3333333333333333,\"#9c179e\"],[0.4444444444444444,\"#bd3786\"],[0.5555555555555556,\"#d8576b\"],[0.6666666666666666,\"#ed7953\"],[0.7777777777777778,\"#fb9f3a\"],[0.8888888888888888,\"#fdca26\"],[1.0,\"#f0f921\"]]}],\"surface\":[{\"type\":\"surface\",\"colorbar\":{\"outlinewidth\":0,\"ticks\":\"\"},\"colorscale\":[[0.0,\"#0d0887\"],[0.1111111111111111,\"#46039f\"],[0.2222222222222222,\"#7201a8\"],[0.3333333333333333,\"#9c179e\"],[0.4444444444444444,\"#bd3786\"],[0.5555555555555556,\"#d8576b\"],[0.6666666666666666,\"#ed7953\"],[0.7777777777777778,\"#fb9f3a\"],[0.8888888888888888,\"#fdca26\"],[1.0,\"#f0f921\"]]}],\"mesh3d\":[{\"type\":\"mesh3d\",\"colorbar\":{\"outlinewidth\":0,\"ticks\":\"\"}}],\"scatter\":[{\"fillpattern\":{\"fillmode\":\"overlay\",\"size\":10,\"solidity\":0.2},\"type\":\"scatter\"}],\"parcoords\":[{\"type\":\"parcoords\",\"line\":{\"colorbar\":{\"outlinewidth\":0,\"ticks\":\"\"}}}],\"scatterpolargl\":[{\"type\":\"scatterpolargl\",\"marker\":{\"colorbar\":{\"outlinewidth\":0,\"ticks\":\"\"}}}],\"bar\":[{\"error_x\":{\"color\":\"#2a3f5f\"},\"error_y\":{\"color\":\"#2a3f5f\"},\"marker\":{\"line\":{\"color\":\"#E5ECF6\",\"width\":0.5},\"pattern\":{\"fillmode\":\"overlay\",\"size\":10,\"solidity\":0.2}},\"type\":\"bar\"}],\"scattergeo\":[{\"type\":\"scattergeo\",\"marker\":{\"colorbar\":{\"outlinewidth\":0,\"ticks\":\"\"}}}],\"scatterpolar\":[{\"type\":\"scatterpolar\",\"marker\":{\"colorbar\":{\"outlinewidth\":0,\"ticks\":\"\"}}}],\"histogram\":[{\"marker\":{\"pattern\":{\"fillmode\":\"overlay\",\"size\":10,\"solidity\":0.2}},\"type\":\"histogram\"}],\"scattergl\":[{\"type\":\"scattergl\",\"marker\":{\"colorbar\":{\"outlinewidth\":0,\"ticks\":\"\"}}}],\"scatter3d\":[{\"type\":\"scatter3d\",\"line\":{\"colorbar\":{\"outlinewidth\":0,\"ticks\":\"\"}},\"marker\":{\"colorbar\":{\"outlinewidth\":0,\"ticks\":\"\"}}}],\"scattermapbox\":[{\"type\":\"scattermapbox\",\"marker\":{\"colorbar\":{\"outlinewidth\":0,\"ticks\":\"\"}}}],\"scatterternary\":[{\"type\":\"scatterternary\",\"marker\":{\"colorbar\":{\"outlinewidth\":0,\"ticks\":\"\"}}}],\"scattercarpet\":[{\"type\":\"scattercarpet\",\"marker\":{\"colorbar\":{\"outlinewidth\":0,\"ticks\":\"\"}}}],\"carpet\":[{\"aaxis\":{\"endlinecolor\":\"#2a3f5f\",\"gridcolor\":\"white\",\"linecolor\":\"white\",\"minorgridcolor\":\"white\",\"startlinecolor\":\"#2a3f5f\"},\"baxis\":{\"endlinecolor\":\"#2a3f5f\",\"gridcolor\":\"white\",\"linecolor\":\"white\",\"minorgridcolor\":\"white\",\"startlinecolor\":\"#2a3f5f\"},\"type\":\"carpet\"}],\"table\":[{\"cells\":{\"fill\":{\"color\":\"#EBF0F8\"},\"line\":{\"color\":\"white\"}},\"header\":{\"fill\":{\"color\":\"#C8D4E3\"},\"line\":{\"color\":\"white\"}},\"type\":\"table\"}],\"barpolar\":[{\"marker\":{\"line\":{\"color\":\"#E5ECF6\",\"width\":0.5},\"pattern\":{\"fillmode\":\"overlay\",\"size\":10,\"solidity\":0.2}},\"type\":\"barpolar\"}],\"pie\":[{\"automargin\":true,\"type\":\"pie\"}]},\"layout\":{\"autotypenumbers\":\"strict\",\"colorway\":[\"#636efa\",\"#EF553B\",\"#00cc96\",\"#ab63fa\",\"#FFA15A\",\"#19d3f3\",\"#FF6692\",\"#B6E880\",\"#FF97FF\",\"#FECB52\"],\"font\":{\"color\":\"#2a3f5f\"},\"hovermode\":\"closest\",\"hoverlabel\":{\"align\":\"left\"},\"paper_bgcolor\":\"white\",\"plot_bgcolor\":\"#E5ECF6\",\"polar\":{\"bgcolor\":\"#E5ECF6\",\"angularaxis\":{\"gridcolor\":\"white\",\"linecolor\":\"white\",\"ticks\":\"\"},\"radialaxis\":{\"gridcolor\":\"white\",\"linecolor\":\"white\",\"ticks\":\"\"}},\"ternary\":{\"bgcolor\":\"#E5ECF6\",\"aaxis\":{\"gridcolor\":\"white\",\"linecolor\":\"white\",\"ticks\":\"\"},\"baxis\":{\"gridcolor\":\"white\",\"linecolor\":\"white\",\"ticks\":\"\"},\"caxis\":{\"gridcolor\":\"white\",\"linecolor\":\"white\",\"ticks\":\"\"}},\"coloraxis\":{\"colorbar\":{\"outlinewidth\":0,\"ticks\":\"\"}},\"colorscale\":{\"sequential\":[[0.0,\"#0d0887\"],[0.1111111111111111,\"#46039f\"],[0.2222222222222222,\"#7201a8\"],[0.3333333333333333,\"#9c179e\"],[0.4444444444444444,\"#bd3786\"],[0.5555555555555556,\"#d8576b\"],[0.6666666666666666,\"#ed7953\"],[0.7777777777777778,\"#fb9f3a\"],[0.8888888888888888,\"#fdca26\"],[1.0,\"#f0f921\"]],\"sequentialminus\":[[0.0,\"#0d0887\"],[0.1111111111111111,\"#46039f\"],[0.2222222222222222,\"#7201a8\"],[0.3333333333333333,\"#9c179e\"],[0.4444444444444444,\"#bd3786\"],[0.5555555555555556,\"#d8576b\"],[0.6666666666666666,\"#ed7953\"],[0.7777777777777778,\"#fb9f3a\"],[0.8888888888888888,\"#fdca26\"],[1.0,\"#f0f921\"]],\"diverging\":[[0,\"#8e0152\"],[0.1,\"#c51b7d\"],[0.2,\"#de77ae\"],[0.3,\"#f1b6da\"],[0.4,\"#fde0ef\"],[0.5,\"#f7f7f7\"],[0.6,\"#e6f5d0\"],[0.7,\"#b8e186\"],[0.8,\"#7fbc41\"],[0.9,\"#4d9221\"],[1,\"#276419\"]]},\"xaxis\":{\"gridcolor\":\"white\",\"linecolor\":\"white\",\"ticks\":\"\",\"title\":{\"standoff\":15},\"zerolinecolor\":\"white\",\"automargin\":true,\"zerolinewidth\":2},\"yaxis\":{\"gridcolor\":\"white\",\"linecolor\":\"white\",\"ticks\":\"\",\"title\":{\"standoff\":15},\"zerolinecolor\":\"white\",\"automargin\":true,\"zerolinewidth\":2},\"scene\":{\"xaxis\":{\"backgroundcolor\":\"#E5ECF6\",\"gridcolor\":\"white\",\"linecolor\":\"white\",\"showbackground\":true,\"ticks\":\"\",\"zerolinecolor\":\"white\",\"gridwidth\":2},\"yaxis\":{\"backgroundcolor\":\"#E5ECF6\",\"gridcolor\":\"white\",\"linecolor\":\"white\",\"showbackground\":true,\"ticks\":\"\",\"zerolinecolor\":\"white\",\"gridwidth\":2},\"zaxis\":{\"backgroundcolor\":\"#E5ECF6\",\"gridcolor\":\"white\",\"linecolor\":\"white\",\"showbackground\":true,\"ticks\":\"\",\"zerolinecolor\":\"white\",\"gridwidth\":2}},\"shapedefaults\":{\"line\":{\"color\":\"#2a3f5f\"}},\"annotationdefaults\":{\"arrowcolor\":\"#2a3f5f\",\"arrowhead\":0,\"arrowwidth\":1},\"geo\":{\"bgcolor\":\"white\",\"landcolor\":\"#E5ECF6\",\"subunitcolor\":\"white\",\"showland\":true,\"showlakes\":true,\"lakecolor\":\"white\"},\"title\":{\"x\":0.05},\"mapbox\":{\"style\":\"light\"}}},\"xaxis\":{\"title\":{\"text\":\"Quantidade de usu\\u00e1rios convertidos\"}},\"legend\":{\"title\":{\"text\":\"Legenda\"}}},                        {\"responsive\": true}                    ).then(function(){\n",
              "                            \n",
              "var gd = document.getElementById('47bce3e1-2cf5-4f61-88e3-567cf91d43ff');\n",
              "var x = new MutationObserver(function (mutations, observer) {{\n",
              "        var display = window.getComputedStyle(gd).display;\n",
              "        if (!display || display === 'none') {{\n",
              "            console.log([gd, 'removed!']);\n",
              "            Plotly.purge(gd);\n",
              "            observer.disconnect();\n",
              "        }}\n",
              "}});\n",
              "\n",
              "// Listen for the removal of the full notebook cells\n",
              "var notebookContainer = gd.closest('#notebook-container');\n",
              "if (notebookContainer) {{\n",
              "    x.observe(notebookContainer, {childList: true});\n",
              "}}\n",
              "\n",
              "// Listen for the clearing of the current output cell\n",
              "var outputEl = gd.closest('.output');\n",
              "if (outputEl) {{\n",
              "    x.observe(outputEl, {childList: true});\n",
              "}}\n",
              "\n",
              "                        })                };                            </script>        </div>\n",
              "</body>\n",
              "</html>"
            ]
          },
          "metadata": {}
        }
      ]
    },
    {
      "cell_type": "markdown",
      "source": [
        "## Suposições"
      ],
      "metadata": {
        "id": "jHET4HXYIacJ"
      }
    },
    {
      "cell_type": "markdown",
      "source": [
        "Residuais versus valores ajustados"
      ],
      "metadata": {
        "id": "1lxLltqcImzF"
      }
    },
    {
      "cell_type": "code",
      "source": [
        "fig = go.Figure()\n",
        "fig.update_layout({'title':{'text':'Modelo 3: Residuos versus valores ajustados'}})\n",
        "fig.update_yaxes(title_text='Residuos')\n",
        "fig.update_xaxes(title_text='Valores ajustados')\n",
        "fig.update_layout(legend_title_text='Legenda')\n",
        "fig.add_trace(\n",
        "    go.Scatter(\n",
        "        x=prediction,\n",
        "        y=residuals,\n",
        "        mode='markers',\n",
        "        # name='Train values',\n",
        "        hovertemplate='Train value: <b>%{y}</b>',\n",
        "        opacity=0.65,\n",
        "        connectgaps=False,\n",
        "        )\n",
        "    )\n",
        "fig.show()"
      ],
      "metadata": {
        "colab": {
          "base_uri": "https://localhost:8080/",
          "height": 542
        },
        "id": "irBoxbGxGTDw",
        "outputId": "7f386924-9393-41bf-c9da-448d08f7714f"
      },
      "execution_count": 34,
      "outputs": [
        {
          "output_type": "display_data",
          "data": {
            "text/html": [
              "<html>\n",
              "<head><meta charset=\"utf-8\" /></head>\n",
              "<body>\n",
              "    <div>            <script src=\"https://cdnjs.cloudflare.com/ajax/libs/mathjax/2.7.5/MathJax.js?config=TeX-AMS-MML_SVG\"></script><script type=\"text/javascript\">if (window.MathJax && window.MathJax.Hub && window.MathJax.Hub.Config) {window.MathJax.Hub.Config({SVG: {font: \"STIX-Web\"}});}</script>                <script type=\"text/javascript\">window.PlotlyConfig = {MathJaxConfig: 'local'};</script>\n",
              "        <script charset=\"utf-8\" src=\"https://cdn.plot.ly/plotly-2.24.1.min.js\"></script>                <div id=\"9ee18698-aa19-4c2e-a023-e1da7d819d6c\" class=\"plotly-graph-div\" style=\"height:525px; width:100%;\"></div>            <script type=\"text/javascript\">                                    window.PLOTLYENV=window.PLOTLYENV || {};                                    if (document.getElementById(\"9ee18698-aa19-4c2e-a023-e1da7d819d6c\")) {                    Plotly.newPlot(                        \"9ee18698-aa19-4c2e-a023-e1da7d819d6c\",                        [{\"connectgaps\":false,\"hovertemplate\":\"Train value: \\u003cb\\u003e%{y}\\u003c\\u002fb\\u003e\",\"mode\":\"markers\",\"opacity\":0.65,\"x\":[41.25133513742309,71.8818315454495,54.08966285058818,53.77991537938228,30.03405779995176,21.888581563681207,19.59881831462635,63.37795071371206,54.99435907388601,66.70381905893885,16.971848180574405,72.77324119355333,65.50913533915076,35.83363722973217,36.20960531118502,24.96467765343335,41.753240172240616,42.04422481077376,49.30673282203855,40.888593200875626,61.95387979739464,47.92407440397226,38.07572361449058,33.44137731260903,41.36833898179784,55.59214846366016,35.0773600983346,49.93895536867404,51.852572185674056,30.593073559755062,53.87351289291322,31.16204151981635,46.672882395930976,74.35578237981008,77.05635112053932,66.38451133484523,32.4886161321572,26.114304796626975,60.1135862365983,35.45383671864217,28.79069212636852,52.359479149536945,21.732303645524347,65.81629419017312,39.073271296944476,64.26735142077848,39.85838952000483,56.45810364796264,55.691635931073925,32.85753457310998,72.26295124664333,62.64887575293937,79.56174097818186,71.02346451614258,52.31770729936792,71.83762774122059,31.13988720088441,45.39252383308281,40.07175991925646,40.024066035966136,45.555435349835726,21.886243022162255,70.32552978503111,37.68820145862643,40.84682391255432,44.515430161798214,35.1369607485777,59.77866712580944,31.656909020063033,75.04143451343865,61.24054909493187,48.77510832282214,8.766803101059388,68.37050979254857,66.40620917103399,58.795886678800905,66.55558949681125,24.794994707748934,49.6618440611574,31.867982639331935,66.64450198468046,61.69590733792264,39.002212303837645,19.51126874183779,48.721753575158125,33.1542411692377,62.308162752356615,57.598959670743206,68.35250865784258,50.295022135581284,21.330436988177105,62.34840761029498,57.530359493816654,54.63309052574203,67.64581826149674,49.905600966281064,46.475406781572694,42.93259899847583,16.105639929112165,23.222673158639786,15.255610190600208,55.70378184049215,33.21144743048952,49.2766763542508,63.67615281474141,34.49410207857212,40.133686473685806,68.92962693946592,31.31129237389913,29.834181826798236,41.76611843320605,20.32632895021097,72.4498445997537,65.5804240152911,57.28074184881587,77.97657575133749,59.27285268249312,51.12899117268133,70.17972142100788,52.506050435632595,67.2246720163325,68.6904734708219,43.33140778915327,32.16678519892414,27.815439776746977,50.8544253777197,61.408650432726,62.06620605136158,12.77853521716876,53.7979637903937,51.291369674944654,48.68315911621249,30.052981322547943,45.63120022704842,69.9319323234941,46.465399787125214,47.61396673714349,60.25645992873239,43.58637890329111,76.25340778641726,66.70209305420434,45.870298429156854,45.67030470259731,41.70639967261858,47.60567232199636,23.790101847183983,47.61974341105613,49.83749884183313,42.261560971898824,52.324690324123075,70.56271641207431,35.47513885416286,26.125365229878234,54.60207526318259,83.12084578940454,37.40298788769055,58.394767122886996,63.57420131145505,33.60364631072337,61.14123773696665,50.503970391000784,53.291705379942265,59.18605843813801,50.46076972338944,31.800490960001916,63.73467996285023,44.3466223105633,18.36946504499418,33.30399134370368,49.37934043163164,57.86986285064926,39.25497498352137,49.925614862317936,38.944483461647756,52.92679952738069,48.76807524749355,55.77235588739692,55.49900702772663,77.38879896349138,26.07287887450976,37.38040433312593,27.468140945962823,71.92482877060095,68.12914805772732,46.258118324470225,56.94521308375868,67.04212132753042,49.041021242800234,44.75693866868378,45.74332995050279,21.237730585554466,63.147852288464,68.47790289965138,64.1729730742062,46.32365290425631,42.6810843920694,69.35076572201035,72.21415528696727,70.39295857273993,65.46992480480304,54.75066903502948,28.290223602939314,34.318878149319595,73.70876416572796,53.012247039797025,24.217351594960597,30.872978791506988,59.89759352763806,12.565930566083587,48.157140776352826,60.588331731254705,65.72527240044053,61.977521322898106,38.92772610902119,60.075697084500796,43.0991687912123,40.39410609818837,56.485155252145425,58.46117848582275,65.08568286826338,49.65322018307841,49.87887703283334,22.555711949540232,50.55254551690552,31.07085986405061,31.45204207326875,74.82954847408655,34.42509797014274,73.82757463604503,58.892536640910656,59.815482140998235,52.157103701441166,45.8871996693837,41.960416177878294,34.14383308342878,64.01484251780951,31.53859254705258,-7.063076264366707,58.172504266518835,29.914464563609407,75.45003676187017,72.95518972249576,73.92988912642554,40.875322226517746,-9.739856393899181,71.30023071466638,53.96110610838553,78.1855344562301,72.90093557426206,67.30033542065391,32.03602824994983,38.88750335569818,70.54893026107291,38.259669110494535,39.95607144236346,62.540895032838726,73.05279077414804,60.26159706601265,50.47156817515158,16.516554245512843,54.3563309949953,75.04861481310627,24.1327368236848,52.395194940556344,69.24024917719012,59.13306702745836,63.40940755380003,60.39908461637253,42.32293220863777,44.58928308511684,64.65507059098826,61.23028769499111,66.00429716745958,68.084779410875,52.86797464218957,44.980709139470285,62.38817629718735,60.11171777386617,57.59140922100193,64.85011020617705,72.45692848333434,43.03146017458047,44.30391665517242,27.691784525590286,50.352226648846504,25.932550383377524,46.81846899640811,50.80996734211828,47.170762654371366,59.83406849068057,24.27479485141742,45.62796133948799,67.15252045008319,52.31916747378812,22.122851328150993,57.12937889775106,68.88594218462322,44.88883352286562,55.84515299468682,23.98935391422686,36.02655193177464,54.85423575220809,40.91769175871095,45.11922207460892,59.23739092780203,71.78665609925588,47.90617051911864,45.655769895348605,58.58033136087649,46.14141754519337,41.69361665535225,35.4229927644707,28.453424448873044,71.75252209298648,67.42321291853281,64.01347481679511,52.504380654339535,33.271127750081625,22.03901237611884,43.86816373388553,50.971815922361806,62.89590426370756,59.450116944074104,49.60235846464749,68.00151201256887,68.77595494718346,45.24079520783871,60.586816611498584,46.89670294127844,29.858112708802558,35.6919800570003,62.159203194447535,21.862123211510003,17.064130858688237,33.97808371975329,24.592076069301875,65.58597404758584,55.06343491610817,43.230378309330085,36.38411712634585,55.525039853619425,48.187602905876496,34.95124459727929,45.03272476418115,43.041331541590516,61.338578460742305,46.80726500352517,44.01667132693398,47.27610442014477,57.47989887375518,51.296421691304026,67.94752126300364,53.77672762626502,44.05152036904634,26.005998790000028,56.46380722396656,31.558228631615428,57.28696711014455,70.43355999576428,47.480172426313466,49.074343078198005,49.989951417300865,48.70441767608124,51.036448391064305,73.4390119056252,51.98822790666481,68.39582709788868,67.43203298190019,31.36927742832463,12.584722124560763,35.05734684185196,39.408237032942814,12.284867160659765,60.013019150668235,12.397505604374302,30.11572341446024,63.68388837100644,20.79321107234299,72.83574098567092,43.31565444377767,23.114259579857183,60.93057825857327,57.67661107930709,71.33825084693038,62.95214533567701,56.599394197941656,32.216445876976685,27.61582990092331,61.78736642435076,65.2515232933138,74.80799645649324,47.54067428501846,37.15890637376349,67.14393285528038,34.45030996439764,75.89202896762546,61.288378421937786,45.556048987526275,72.3535044345135,65.45846063752478,34.12941263357251,70.23749124115653,45.0958422866368,70.60772855509128,28.31746070104439,77.04663346411286,34.086621932903846,29.596741108700265,71.81912756618189,45.47381924616423,31.778945878070623,76.92603049419793,84.47654029035928,47.068638931259365,53.94099877662676,37.5268449895348,44.57508070091489,33.181392192785715,55.610359193676736,64.61807140971186,70.58644626882756,65.9407603635037,34.65539658599085,49.60932072797717,15.55512034322279,51.8332029712385,50.874296752507654,73.46802159312367,46.519897530871866,31.294612348711745,32.88964113942256,62.32017003729862,64.85714702060883,35.35267093375375,30.69368550301069,65.90564716660421,16.28335408340954,64.80979661280534,65.33633661787252,29.264121087121346,21.9356251693058,75.00294259176414,52.15328511231781,45.106475787361,64.98541625336642,74.02736755636636,76.1132647989543,65.2252720624935,38.81563451772379,31.4468677119445,61.27951443117788,49.60479905286251,34.563920357951766,76.44869409568074,16.113129465409564,51.45637385731569,29.936024910671144,40.84690776868701,25.082752698243475,38.095654651847674,32.257616854113344,68.84458110734414,63.74861008198004,53.65118201619827,77.63204418823099,48.64090612336444,37.29038751353162,63.67798714439285,35.739181623770484,72.23294390160314,28.42012600036862,78.21910586651492,24.37765520132519,72.74793333483657,47.8846377335335,77.06017104863031,26.665737937861984,48.80458753479005,70.8285948655247,57.391314058143244,57.289014656202475,61.48060890857129,48.79620317955246,57.9315002323253,58.626311142127655,79.4535446779013,9.231028364739664,39.375186934546015,72.96514068174446,70.5902516861546,47.519955074757284,51.43124961654822,40.578498002302574,38.13484218136724,40.1157520557452,43.79133024773295,58.63454017622025,22.368724567153713,76.26937861692096,77.79887085269857],\"y\":[-11.25133513742309,0.11816845455049929,-7.0896628505881765,9.220084620617719,3.9659422000482394,-3.888581563681207,5.4011816853736505,-2.3779507137120603,3.0056409261139905,7.296180941061152,-9.971848180574405,2.226758806446668,-0.5091353391507596,6.166362770267831,-0.20960531118502246,2.0353223465666517,-4.753240172240616,0.9557751892262374,7.693267177961452,-0.8885932008756257,13.046120202605358,-16.924074403972263,-5.0757236144905775,-5.441377312609028,-11.36833898179784,-7.592148463660159,2.9226399016653986,6.061044631325963,-12.852572185674056,5.406926440244938,-2.8735128929132188,3.8379584801836515,-2.6728823959309764,6.64421762018992,-6.056351120539318,-9.384511334845229,-13.488616132157198,-3.114304796626975,-3.1135862365983016,1.5461632813578277,1.2093078736314808,-1.359479149536945,2.267696354475653,-1.8162941901731244,0.9267287030555238,-1.267351420778482,-9.858389520004827,8.541896352037362,-4.691635931073925,1.1424654268900198,8.737048753356675,3.351124247060632,2.4382590218181406,1.9765354838574183,-3.3177072993679175,3.1623722587794134,-13.13988720088441,-9.392523833082812,-13.071759919256458,-1.0240660359661362,-2.555435349835726,-1.8862430221622546,-9.325529785031108,6.3117985413735695,0.15317608744567934,-2.515430161798214,9.8630392514223,-3.7786671258094415,6.343090979936967,3.958565486561355,-4.240549094931872,4.224891677177858,4.233196898940612,6.6294902074514255,3.593790828966007,-3.7958866788009047,10.444410503188749,1.205005292251066,-3.661844061157403,1.1320173606680655,0.3554980153195402,2.304092662077359,9.997787696162355,-8.511268741837789,5.278246424841875,-8.1542411692377,9.691837247643385,10.401040329256794,-10.352508657842577,-5.295022135581284,-1.3304369881771052,-3.348407610294977,2.469640506183346,6.366909474257973,9.354181738503257,14.094399033718936,-0.4754067815726941,1.0674010015241677,-7.105639929112165,-1.222673158639786,20.74438980939979,17.296218159507852,-5.211447430489521,-4.276676354250803,6.323847185258593,5.505897921427881,-3.133686473685806,-1.9296269394659191,0.6887076261008716,-0.8341818267982362,3.233881566793947,12.673671049789029,-5.449844599753703,-1.5804240152911007,-1.2807418488158717,-12.976575751337492,3.7271473175068834,-1.1289911726813315,4.8202785789921165,-3.506050435632595,4.775327983667495,-2.6904734708218996,9.668592210846732,1.8332148010758615,7.184560223253023,0.14557462228030005,-11.408650432725999,-5.066206051361583,0.22146478283124083,-1.7979637903937018,11.708630325055346,9.316840883787513,6.947018677452057,1.3687997729515828,-15.931932323494095,-10.465399787125214,-4.6139667371434925,-6.25645992873239,-1.5863789032911129,-7.253407786417256,-13.70209305420434,-0.8702984291568541,-6.6703047025973135,0.2936003273814194,12.394327678003641,-5.790101847183983,-17.619743411056128,-2.8374988418331313,-3.261560971898824,6.675309675876925,-12.562716412074309,6.524861145837143,1.8746347701217658,-6.602075263182591,17.87915421059546,-15.40298788769055,2.6052328771130036,4.425798688544951,14.39635368927663,0.8587622630333485,-4.5039703910007844,-0.29170537994226464,-0.18605843813801215,-2.46076972338944,4.199509039998084,-0.7346799628502296,0.6533776894367023,15.630534955005821,4.696008656296321,4.62065956836836,-16.869862850649262,-1.2549749835213717,-7.925614862317936,-8.944483461647756,-1.9267995273806875,-1.7680752474935488,-17.77235588739692,20.500992972273373,4.611201036508618,7.927121125490238,4.619595666874069,6.531859054037177,4.0751712293990465,6.8708519422726795,-3.2581183244702245,2.0547869162413193,-3.042121327530424,1.958978757199766,5.24306133131622,2.2566700494972096,14.762269414445534,-23.147852288464,8.522097100348617,-5.1729730742061975,-4.323652904256313,-3.681084392069401,3.649234277989649,6.785844713032731,-8.392958572739929,2.5300751951969573,-7.750669035029482,-13.290223602939314,-7.318878149319595,5.291235834272044,11.987752960202975,6.782648405039403,6.127021208493012,3.102406472361942,6.434069433916413,-11.157140776352826,-0.588331731254705,1.2747275995594691,7.022478677101894,4.072273890978813,3.9243029154992044,4.9008312087877,0.6058939018116334,-2.485155252145425,-2.4611784858227495,-5.085682868263376,1.3467798169215897,2.121122967166663,-0.5557119495402318,-10.552545516905518,-12.070859864050611,7.54795792673125,-0.8295484740865504,1.5749020298572631,2.1724253639549715,7.107463359089344,-10.815482140998235,-9.157103701441166,0.11280033061630235,-1.9604161778782938,8.856166916571219,-5.014842517809512,4.4614074529474195,13.063076264366707,5.827495733481165,-8.914464563609407,-2.450036761870166,2.04481027750424,10.070110873574464,-10.875322226517746,13.739856393899181,1.6997692853336162,10.038893891614471,7.814465543769899,2.099064425737936,-4.300335420653909,15.96397175005017,-3.887503355698179,1.4510697389270888,7.740330889505465,4.043928557636541,17.459104967161274,2.9472092258519638,-5.261597066012648,2.5284318248484183,-4.516554245512843,-5.356330994995297,-5.048614813106269,2.8672631763151983,-0.39519494055634397,-8.240249177190123,13.86693297254164,-3.4094075538000297,-0.39908461637252657,-2.3229322086377735,-3.58928308511684,9.34492940901174,-4.230287694991112,-4.004297167459583,-0.08477941087500085,-15.867974642189573,-2.980709139470285,-2.38817629718735,5.888282226133832,5.408590778998068,2.1498897938229504,5.543071516665663,-2.0314601745804666,3.696083344827578,1.3082154744097139,6.647773351153496,-4.932550383377524,-22.818468996408107,0.19003265788172286,6.829237345628634,4.165931509319428,11.725205148582582,-6.627961339487989,-0.1525204500831876,-7.31916747378812,2.8771486718490067,-9.12937889775106,1.114057815376782,3.1111664771343825,-0.8451529946868206,1.0106460857731392,-8.026551931774641,3.1457642477919094,-2.9176917587109514,-11.11922207460892,-3.237390927802032,-9.786656099255879,-1.906170519118639,-5.655769895348605,1.4196686391235076,6.85858245480663,8.306383344647749,-3.422992764470699,3.5465755511269563,-9.752522092986482,9.576787081467188,-5.01347481679511,-0.5043806543395348,-10.271127750081625,-5.039012376118841,2.131836266114469,5.028184077638194,-10.895904263707557,-10.450116944074104,0.3976415353525127,-7.001512012568867,9.224045052816535,-1.2407952078387083,1.413183388501416,-3.8967029412784413,13.141887291197442,1.3080199429996995,-1.1592031944475352,4.137876788489997,3.9358691413117626,1.0219162802467068,-2.592076069301875,-0.5859740475858359,-5.0634349161081715,-20.230378309330085,-8.38411712634585,18.474960146380575,8.812397094123504,-1.9512445972792918,-1.0327247641811468,1.958668458409484,-0.3385784607423048,-1.807265003525167,-6.016671326933981,3.723895579855231,5.520101126244818,3.703578308695974,0.052478736996363295,11.223272373734979,-5.051520369046337,-1.005998790000028,-5.463807223966562,-4.558228631615428,12.713032889855448,-10.433559995764284,-8.480172426313466,-3.0743430781980052,8.010048582699135,1.295582323918758,3.9635516089356955,-3.4390119056251933,7.011772093335189,-11.395827097888684,-5.432032981900193,2.6307225716753706,-0.5847221245607628,-7.05734684185196,3.5917629670571856,17.715132839340235,0.9869808493317649,3.6024943956256976,4.884276585539759,-0.6838883710064394,2.2067889276570085,6.164259014329076,1.6843455562223326,-3.1142595798571833,1.06942174142673,3.3233889206929135,8.661749153069621,15.04785466432299,-1.5993941979416562,-1.2164458769766853,-6.615829900923309,-1.7873664243507577,4.748476706686205,9.192003543506758,-2.5406742850184614,2.841093626236507,-2.143932855280383,-0.4503099643976398,16.107971032374536,-9.288378421937786,2.4439510124737254,10.646495565486504,-2.45846063752478,-6.129412633572507,-3.2374912411565333,2.9041577133631975,9.392271444908715,-9.31746070104439,7.953366535887142,-4.086621932903846,-6.5967411087002645,-5.819127566181891,-10.473819246164233,-6.778945878070623,0.07396950580206862,8.523459709640719,-7.068638931259365,4.059001223373237,3.4731550104651987,-0.5750807009148886,8.818607807214285,-3.610359193676736,2.3819285902881404,12.413553731172442,-2.940760363503699,2.34460341400915,-12.60932072797717,2.4448796567772106,5.166797028761501,11.125703247492346,-0.468021593123666,-7.519897530871866,-0.2946123487117447,-12.889641139422558,6.679829962701383,0.14285297939116504,-9.35267093375375,-5.693685503010691,-2.9056471666042114,7.716645916590458,0.19020338719465713,15.663663382127481,-2.264121087121346,4.064374830694199,-7.002942591764139,-1.1532851123178105,-3.106475787360999,-5.985416253366424,11.972632443633643,11.886735201045695,-8.225272062493502,-13.815634517723787,7.553132288055501,-4.27951443117788,11.39520094713749,-7.5639203579517655,2.551305904319264,1.886870534590436,5.54362614268431,-3.9360249106711436,-1.8469077686870108,-1.0827526982434748,-0.09565465184767419,-0.2576168541133441,-5.8445811073441405,18.25138991801996,-14.65118201619827,11.367955811769008,-3.640906123364438,-7.29038751353162,-8.677987144392851,-1.7391816237704845,9.767056098396864,-4.420126000368619,10.780894133485077,-11.37765520132519,-3.747933334836574,-8.884637733533502,0.9398289513696909,11.334262062138016,-0.804587534790052,-23.828594865524707,-4.391314058143244,3.7109853437975246,2.5193910914287088,11.203796820447543,-11.931500232325298,2.373688857872345,2.5464553220986943,-0.23102836473966448,2.624813065453985,-5.965140681744458,-1.5902516861546019,3.4800449252427157,-0.4312496165482216,-8.578498002302574,-3.1348421813672402,-3.1157520557451974,-11.791330247732951,2.3654598237797515,-5.368724567153713,3.73062138307904,1.2011291473014296],\"type\":\"scatter\"}],                        {\"template\":{\"data\":{\"histogram2dcontour\":[{\"type\":\"histogram2dcontour\",\"colorbar\":{\"outlinewidth\":0,\"ticks\":\"\"},\"colorscale\":[[0.0,\"#0d0887\"],[0.1111111111111111,\"#46039f\"],[0.2222222222222222,\"#7201a8\"],[0.3333333333333333,\"#9c179e\"],[0.4444444444444444,\"#bd3786\"],[0.5555555555555556,\"#d8576b\"],[0.6666666666666666,\"#ed7953\"],[0.7777777777777778,\"#fb9f3a\"],[0.8888888888888888,\"#fdca26\"],[1.0,\"#f0f921\"]]}],\"choropleth\":[{\"type\":\"choropleth\",\"colorbar\":{\"outlinewidth\":0,\"ticks\":\"\"}}],\"histogram2d\":[{\"type\":\"histogram2d\",\"colorbar\":{\"outlinewidth\":0,\"ticks\":\"\"},\"colorscale\":[[0.0,\"#0d0887\"],[0.1111111111111111,\"#46039f\"],[0.2222222222222222,\"#7201a8\"],[0.3333333333333333,\"#9c179e\"],[0.4444444444444444,\"#bd3786\"],[0.5555555555555556,\"#d8576b\"],[0.6666666666666666,\"#ed7953\"],[0.7777777777777778,\"#fb9f3a\"],[0.8888888888888888,\"#fdca26\"],[1.0,\"#f0f921\"]]}],\"heatmap\":[{\"type\":\"heatmap\",\"colorbar\":{\"outlinewidth\":0,\"ticks\":\"\"},\"colorscale\":[[0.0,\"#0d0887\"],[0.1111111111111111,\"#46039f\"],[0.2222222222222222,\"#7201a8\"],[0.3333333333333333,\"#9c179e\"],[0.4444444444444444,\"#bd3786\"],[0.5555555555555556,\"#d8576b\"],[0.6666666666666666,\"#ed7953\"],[0.7777777777777778,\"#fb9f3a\"],[0.8888888888888888,\"#fdca26\"],[1.0,\"#f0f921\"]]}],\"heatmapgl\":[{\"type\":\"heatmapgl\",\"colorbar\":{\"outlinewidth\":0,\"ticks\":\"\"},\"colorscale\":[[0.0,\"#0d0887\"],[0.1111111111111111,\"#46039f\"],[0.2222222222222222,\"#7201a8\"],[0.3333333333333333,\"#9c179e\"],[0.4444444444444444,\"#bd3786\"],[0.5555555555555556,\"#d8576b\"],[0.6666666666666666,\"#ed7953\"],[0.7777777777777778,\"#fb9f3a\"],[0.8888888888888888,\"#fdca26\"],[1.0,\"#f0f921\"]]}],\"contourcarpet\":[{\"type\":\"contourcarpet\",\"colorbar\":{\"outlinewidth\":0,\"ticks\":\"\"}}],\"contour\":[{\"type\":\"contour\",\"colorbar\":{\"outlinewidth\":0,\"ticks\":\"\"},\"colorscale\":[[0.0,\"#0d0887\"],[0.1111111111111111,\"#46039f\"],[0.2222222222222222,\"#7201a8\"],[0.3333333333333333,\"#9c179e\"],[0.4444444444444444,\"#bd3786\"],[0.5555555555555556,\"#d8576b\"],[0.6666666666666666,\"#ed7953\"],[0.7777777777777778,\"#fb9f3a\"],[0.8888888888888888,\"#fdca26\"],[1.0,\"#f0f921\"]]}],\"surface\":[{\"type\":\"surface\",\"colorbar\":{\"outlinewidth\":0,\"ticks\":\"\"},\"colorscale\":[[0.0,\"#0d0887\"],[0.1111111111111111,\"#46039f\"],[0.2222222222222222,\"#7201a8\"],[0.3333333333333333,\"#9c179e\"],[0.4444444444444444,\"#bd3786\"],[0.5555555555555556,\"#d8576b\"],[0.6666666666666666,\"#ed7953\"],[0.7777777777777778,\"#fb9f3a\"],[0.8888888888888888,\"#fdca26\"],[1.0,\"#f0f921\"]]}],\"mesh3d\":[{\"type\":\"mesh3d\",\"colorbar\":{\"outlinewidth\":0,\"ticks\":\"\"}}],\"scatter\":[{\"fillpattern\":{\"fillmode\":\"overlay\",\"size\":10,\"solidity\":0.2},\"type\":\"scatter\"}],\"parcoords\":[{\"type\":\"parcoords\",\"line\":{\"colorbar\":{\"outlinewidth\":0,\"ticks\":\"\"}}}],\"scatterpolargl\":[{\"type\":\"scatterpolargl\",\"marker\":{\"colorbar\":{\"outlinewidth\":0,\"ticks\":\"\"}}}],\"bar\":[{\"error_x\":{\"color\":\"#2a3f5f\"},\"error_y\":{\"color\":\"#2a3f5f\"},\"marker\":{\"line\":{\"color\":\"#E5ECF6\",\"width\":0.5},\"pattern\":{\"fillmode\":\"overlay\",\"size\":10,\"solidity\":0.2}},\"type\":\"bar\"}],\"scattergeo\":[{\"type\":\"scattergeo\",\"marker\":{\"colorbar\":{\"outlinewidth\":0,\"ticks\":\"\"}}}],\"scatterpolar\":[{\"type\":\"scatterpolar\",\"marker\":{\"colorbar\":{\"outlinewidth\":0,\"ticks\":\"\"}}}],\"histogram\":[{\"marker\":{\"pattern\":{\"fillmode\":\"overlay\",\"size\":10,\"solidity\":0.2}},\"type\":\"histogram\"}],\"scattergl\":[{\"type\":\"scattergl\",\"marker\":{\"colorbar\":{\"outlinewidth\":0,\"ticks\":\"\"}}}],\"scatter3d\":[{\"type\":\"scatter3d\",\"line\":{\"colorbar\":{\"outlinewidth\":0,\"ticks\":\"\"}},\"marker\":{\"colorbar\":{\"outlinewidth\":0,\"ticks\":\"\"}}}],\"scattermapbox\":[{\"type\":\"scattermapbox\",\"marker\":{\"colorbar\":{\"outlinewidth\":0,\"ticks\":\"\"}}}],\"scatterternary\":[{\"type\":\"scatterternary\",\"marker\":{\"colorbar\":{\"outlinewidth\":0,\"ticks\":\"\"}}}],\"scattercarpet\":[{\"type\":\"scattercarpet\",\"marker\":{\"colorbar\":{\"outlinewidth\":0,\"ticks\":\"\"}}}],\"carpet\":[{\"aaxis\":{\"endlinecolor\":\"#2a3f5f\",\"gridcolor\":\"white\",\"linecolor\":\"white\",\"minorgridcolor\":\"white\",\"startlinecolor\":\"#2a3f5f\"},\"baxis\":{\"endlinecolor\":\"#2a3f5f\",\"gridcolor\":\"white\",\"linecolor\":\"white\",\"minorgridcolor\":\"white\",\"startlinecolor\":\"#2a3f5f\"},\"type\":\"carpet\"}],\"table\":[{\"cells\":{\"fill\":{\"color\":\"#EBF0F8\"},\"line\":{\"color\":\"white\"}},\"header\":{\"fill\":{\"color\":\"#C8D4E3\"},\"line\":{\"color\":\"white\"}},\"type\":\"table\"}],\"barpolar\":[{\"marker\":{\"line\":{\"color\":\"#E5ECF6\",\"width\":0.5},\"pattern\":{\"fillmode\":\"overlay\",\"size\":10,\"solidity\":0.2}},\"type\":\"barpolar\"}],\"pie\":[{\"automargin\":true,\"type\":\"pie\"}]},\"layout\":{\"autotypenumbers\":\"strict\",\"colorway\":[\"#636efa\",\"#EF553B\",\"#00cc96\",\"#ab63fa\",\"#FFA15A\",\"#19d3f3\",\"#FF6692\",\"#B6E880\",\"#FF97FF\",\"#FECB52\"],\"font\":{\"color\":\"#2a3f5f\"},\"hovermode\":\"closest\",\"hoverlabel\":{\"align\":\"left\"},\"paper_bgcolor\":\"white\",\"plot_bgcolor\":\"#E5ECF6\",\"polar\":{\"bgcolor\":\"#E5ECF6\",\"angularaxis\":{\"gridcolor\":\"white\",\"linecolor\":\"white\",\"ticks\":\"\"},\"radialaxis\":{\"gridcolor\":\"white\",\"linecolor\":\"white\",\"ticks\":\"\"}},\"ternary\":{\"bgcolor\":\"#E5ECF6\",\"aaxis\":{\"gridcolor\":\"white\",\"linecolor\":\"white\",\"ticks\":\"\"},\"baxis\":{\"gridcolor\":\"white\",\"linecolor\":\"white\",\"ticks\":\"\"},\"caxis\":{\"gridcolor\":\"white\",\"linecolor\":\"white\",\"ticks\":\"\"}},\"coloraxis\":{\"colorbar\":{\"outlinewidth\":0,\"ticks\":\"\"}},\"colorscale\":{\"sequential\":[[0.0,\"#0d0887\"],[0.1111111111111111,\"#46039f\"],[0.2222222222222222,\"#7201a8\"],[0.3333333333333333,\"#9c179e\"],[0.4444444444444444,\"#bd3786\"],[0.5555555555555556,\"#d8576b\"],[0.6666666666666666,\"#ed7953\"],[0.7777777777777778,\"#fb9f3a\"],[0.8888888888888888,\"#fdca26\"],[1.0,\"#f0f921\"]],\"sequentialminus\":[[0.0,\"#0d0887\"],[0.1111111111111111,\"#46039f\"],[0.2222222222222222,\"#7201a8\"],[0.3333333333333333,\"#9c179e\"],[0.4444444444444444,\"#bd3786\"],[0.5555555555555556,\"#d8576b\"],[0.6666666666666666,\"#ed7953\"],[0.7777777777777778,\"#fb9f3a\"],[0.8888888888888888,\"#fdca26\"],[1.0,\"#f0f921\"]],\"diverging\":[[0,\"#8e0152\"],[0.1,\"#c51b7d\"],[0.2,\"#de77ae\"],[0.3,\"#f1b6da\"],[0.4,\"#fde0ef\"],[0.5,\"#f7f7f7\"],[0.6,\"#e6f5d0\"],[0.7,\"#b8e186\"],[0.8,\"#7fbc41\"],[0.9,\"#4d9221\"],[1,\"#276419\"]]},\"xaxis\":{\"gridcolor\":\"white\",\"linecolor\":\"white\",\"ticks\":\"\",\"title\":{\"standoff\":15},\"zerolinecolor\":\"white\",\"automargin\":true,\"zerolinewidth\":2},\"yaxis\":{\"gridcolor\":\"white\",\"linecolor\":\"white\",\"ticks\":\"\",\"title\":{\"standoff\":15},\"zerolinecolor\":\"white\",\"automargin\":true,\"zerolinewidth\":2},\"scene\":{\"xaxis\":{\"backgroundcolor\":\"#E5ECF6\",\"gridcolor\":\"white\",\"linecolor\":\"white\",\"showbackground\":true,\"ticks\":\"\",\"zerolinecolor\":\"white\",\"gridwidth\":2},\"yaxis\":{\"backgroundcolor\":\"#E5ECF6\",\"gridcolor\":\"white\",\"linecolor\":\"white\",\"showbackground\":true,\"ticks\":\"\",\"zerolinecolor\":\"white\",\"gridwidth\":2},\"zaxis\":{\"backgroundcolor\":\"#E5ECF6\",\"gridcolor\":\"white\",\"linecolor\":\"white\",\"showbackground\":true,\"ticks\":\"\",\"zerolinecolor\":\"white\",\"gridwidth\":2}},\"shapedefaults\":{\"line\":{\"color\":\"#2a3f5f\"}},\"annotationdefaults\":{\"arrowcolor\":\"#2a3f5f\",\"arrowhead\":0,\"arrowwidth\":1},\"geo\":{\"bgcolor\":\"white\",\"landcolor\":\"#E5ECF6\",\"subunitcolor\":\"white\",\"showland\":true,\"showlakes\":true,\"lakecolor\":\"white\"},\"title\":{\"x\":0.05},\"mapbox\":{\"style\":\"light\"}}},\"title\":{\"text\":\"Modelo 3: Residuos versus valores ajustados\"},\"yaxis\":{\"title\":{\"text\":\"Residuos\"}},\"xaxis\":{\"title\":{\"text\":\"Valores ajustados\"}},\"legend\":{\"title\":{\"text\":\"Legenda\"}}},                        {\"responsive\": true}                    ).then(function(){\n",
              "                            \n",
              "var gd = document.getElementById('9ee18698-aa19-4c2e-a023-e1da7d819d6c');\n",
              "var x = new MutationObserver(function (mutations, observer) {{\n",
              "        var display = window.getComputedStyle(gd).display;\n",
              "        if (!display || display === 'none') {{\n",
              "            console.log([gd, 'removed!']);\n",
              "            Plotly.purge(gd);\n",
              "            observer.disconnect();\n",
              "        }}\n",
              "}});\n",
              "\n",
              "// Listen for the removal of the full notebook cells\n",
              "var notebookContainer = gd.closest('#notebook-container');\n",
              "if (notebookContainer) {{\n",
              "    x.observe(notebookContainer, {childList: true});\n",
              "}}\n",
              "\n",
              "// Listen for the clearing of the current output cell\n",
              "var outputEl = gd.closest('.output');\n",
              "if (outputEl) {{\n",
              "    x.observe(outputEl, {childList: true});\n",
              "}}\n",
              "\n",
              "                        })                };                            </script>        </div>\n",
              "</body>\n",
              "</html>"
            ]
          },
          "metadata": {}
        }
      ]
    },
    {
      "cell_type": "markdown",
      "source": [
        "⚠ Melhorar este gráfico ⚠"
      ],
      "metadata": {
        "id": "uqvqSyWvXV0f"
      }
    },
    {
      "cell_type": "code",
      "source": [
        "fig = go.Figure()\n",
        "fig.update_layout({\n",
        "    'title':'Histograma de Resíduos'\n",
        "})\n",
        "fig.add_trace(\n",
        "    go.Histogram(\n",
        "        x=residuals,\n",
        "        )\n",
        ")"
      ],
      "metadata": {
        "colab": {
          "base_uri": "https://localhost:8080/",
          "height": 542
        },
        "id": "_B5kfbz0KPKS",
        "outputId": "1edc1143-886f-43e0-da6b-dcffd52266d8"
      },
      "execution_count": 35,
      "outputs": [
        {
          "output_type": "display_data",
          "data": {
            "text/html": [
              "<html>\n",
              "<head><meta charset=\"utf-8\" /></head>\n",
              "<body>\n",
              "    <div>            <script src=\"https://cdnjs.cloudflare.com/ajax/libs/mathjax/2.7.5/MathJax.js?config=TeX-AMS-MML_SVG\"></script><script type=\"text/javascript\">if (window.MathJax && window.MathJax.Hub && window.MathJax.Hub.Config) {window.MathJax.Hub.Config({SVG: {font: \"STIX-Web\"}});}</script>                <script type=\"text/javascript\">window.PlotlyConfig = {MathJaxConfig: 'local'};</script>\n",
              "        <script charset=\"utf-8\" src=\"https://cdn.plot.ly/plotly-2.24.1.min.js\"></script>                <div id=\"d852c2a5-babc-463e-8e60-1bdb73febfd8\" class=\"plotly-graph-div\" style=\"height:525px; width:100%;\"></div>            <script type=\"text/javascript\">                                    window.PLOTLYENV=window.PLOTLYENV || {};                                    if (document.getElementById(\"d852c2a5-babc-463e-8e60-1bdb73febfd8\")) {                    Plotly.newPlot(                        \"d852c2a5-babc-463e-8e60-1bdb73febfd8\",                        [{\"x\":[-11.25133513742309,0.11816845455049929,-7.0896628505881765,9.220084620617719,3.9659422000482394,-3.888581563681207,5.4011816853736505,-2.3779507137120603,3.0056409261139905,7.296180941061152,-9.971848180574405,2.226758806446668,-0.5091353391507596,6.166362770267831,-0.20960531118502246,2.0353223465666517,-4.753240172240616,0.9557751892262374,7.693267177961452,-0.8885932008756257,13.046120202605358,-16.924074403972263,-5.0757236144905775,-5.441377312609028,-11.36833898179784,-7.592148463660159,2.9226399016653986,6.061044631325963,-12.852572185674056,5.406926440244938,-2.8735128929132188,3.8379584801836515,-2.6728823959309764,6.64421762018992,-6.056351120539318,-9.384511334845229,-13.488616132157198,-3.114304796626975,-3.1135862365983016,1.5461632813578277,1.2093078736314808,-1.359479149536945,2.267696354475653,-1.8162941901731244,0.9267287030555238,-1.267351420778482,-9.858389520004827,8.541896352037362,-4.691635931073925,1.1424654268900198,8.737048753356675,3.351124247060632,2.4382590218181406,1.9765354838574183,-3.3177072993679175,3.1623722587794134,-13.13988720088441,-9.392523833082812,-13.071759919256458,-1.0240660359661362,-2.555435349835726,-1.8862430221622546,-9.325529785031108,6.3117985413735695,0.15317608744567934,-2.515430161798214,9.8630392514223,-3.7786671258094415,6.343090979936967,3.958565486561355,-4.240549094931872,4.224891677177858,4.233196898940612,6.6294902074514255,3.593790828966007,-3.7958866788009047,10.444410503188749,1.205005292251066,-3.661844061157403,1.1320173606680655,0.3554980153195402,2.304092662077359,9.997787696162355,-8.511268741837789,5.278246424841875,-8.1542411692377,9.691837247643385,10.401040329256794,-10.352508657842577,-5.295022135581284,-1.3304369881771052,-3.348407610294977,2.469640506183346,6.366909474257973,9.354181738503257,14.094399033718936,-0.4754067815726941,1.0674010015241677,-7.105639929112165,-1.222673158639786,20.74438980939979,17.296218159507852,-5.211447430489521,-4.276676354250803,6.323847185258593,5.505897921427881,-3.133686473685806,-1.9296269394659191,0.6887076261008716,-0.8341818267982362,3.233881566793947,12.673671049789029,-5.449844599753703,-1.5804240152911007,-1.2807418488158717,-12.976575751337492,3.7271473175068834,-1.1289911726813315,4.8202785789921165,-3.506050435632595,4.775327983667495,-2.6904734708218996,9.668592210846732,1.8332148010758615,7.184560223253023,0.14557462228030005,-11.408650432725999,-5.066206051361583,0.22146478283124083,-1.7979637903937018,11.708630325055346,9.316840883787513,6.947018677452057,1.3687997729515828,-15.931932323494095,-10.465399787125214,-4.6139667371434925,-6.25645992873239,-1.5863789032911129,-7.253407786417256,-13.70209305420434,-0.8702984291568541,-6.6703047025973135,0.2936003273814194,12.394327678003641,-5.790101847183983,-17.619743411056128,-2.8374988418331313,-3.261560971898824,6.675309675876925,-12.562716412074309,6.524861145837143,1.8746347701217658,-6.602075263182591,17.87915421059546,-15.40298788769055,2.6052328771130036,4.425798688544951,14.39635368927663,0.8587622630333485,-4.5039703910007844,-0.29170537994226464,-0.18605843813801215,-2.46076972338944,4.199509039998084,-0.7346799628502296,0.6533776894367023,15.630534955005821,4.696008656296321,4.62065956836836,-16.869862850649262,-1.2549749835213717,-7.925614862317936,-8.944483461647756,-1.9267995273806875,-1.7680752474935488,-17.77235588739692,20.500992972273373,4.611201036508618,7.927121125490238,4.619595666874069,6.531859054037177,4.0751712293990465,6.8708519422726795,-3.2581183244702245,2.0547869162413193,-3.042121327530424,1.958978757199766,5.24306133131622,2.2566700494972096,14.762269414445534,-23.147852288464,8.522097100348617,-5.1729730742061975,-4.323652904256313,-3.681084392069401,3.649234277989649,6.785844713032731,-8.392958572739929,2.5300751951969573,-7.750669035029482,-13.290223602939314,-7.318878149319595,5.291235834272044,11.987752960202975,6.782648405039403,6.127021208493012,3.102406472361942,6.434069433916413,-11.157140776352826,-0.588331731254705,1.2747275995594691,7.022478677101894,4.072273890978813,3.9243029154992044,4.9008312087877,0.6058939018116334,-2.485155252145425,-2.4611784858227495,-5.085682868263376,1.3467798169215897,2.121122967166663,-0.5557119495402318,-10.552545516905518,-12.070859864050611,7.54795792673125,-0.8295484740865504,1.5749020298572631,2.1724253639549715,7.107463359089344,-10.815482140998235,-9.157103701441166,0.11280033061630235,-1.9604161778782938,8.856166916571219,-5.014842517809512,4.4614074529474195,13.063076264366707,5.827495733481165,-8.914464563609407,-2.450036761870166,2.04481027750424,10.070110873574464,-10.875322226517746,13.739856393899181,1.6997692853336162,10.038893891614471,7.814465543769899,2.099064425737936,-4.300335420653909,15.96397175005017,-3.887503355698179,1.4510697389270888,7.740330889505465,4.043928557636541,17.459104967161274,2.9472092258519638,-5.261597066012648,2.5284318248484183,-4.516554245512843,-5.356330994995297,-5.048614813106269,2.8672631763151983,-0.39519494055634397,-8.240249177190123,13.86693297254164,-3.4094075538000297,-0.39908461637252657,-2.3229322086377735,-3.58928308511684,9.34492940901174,-4.230287694991112,-4.004297167459583,-0.08477941087500085,-15.867974642189573,-2.980709139470285,-2.38817629718735,5.888282226133832,5.408590778998068,2.1498897938229504,5.543071516665663,-2.0314601745804666,3.696083344827578,1.3082154744097139,6.647773351153496,-4.932550383377524,-22.818468996408107,0.19003265788172286,6.829237345628634,4.165931509319428,11.725205148582582,-6.627961339487989,-0.1525204500831876,-7.31916747378812,2.8771486718490067,-9.12937889775106,1.114057815376782,3.1111664771343825,-0.8451529946868206,1.0106460857731392,-8.026551931774641,3.1457642477919094,-2.9176917587109514,-11.11922207460892,-3.237390927802032,-9.786656099255879,-1.906170519118639,-5.655769895348605,1.4196686391235076,6.85858245480663,8.306383344647749,-3.422992764470699,3.5465755511269563,-9.752522092986482,9.576787081467188,-5.01347481679511,-0.5043806543395348,-10.271127750081625,-5.039012376118841,2.131836266114469,5.028184077638194,-10.895904263707557,-10.450116944074104,0.3976415353525127,-7.001512012568867,9.224045052816535,-1.2407952078387083,1.413183388501416,-3.8967029412784413,13.141887291197442,1.3080199429996995,-1.1592031944475352,4.137876788489997,3.9358691413117626,1.0219162802467068,-2.592076069301875,-0.5859740475858359,-5.0634349161081715,-20.230378309330085,-8.38411712634585,18.474960146380575,8.812397094123504,-1.9512445972792918,-1.0327247641811468,1.958668458409484,-0.3385784607423048,-1.807265003525167,-6.016671326933981,3.723895579855231,5.520101126244818,3.703578308695974,0.052478736996363295,11.223272373734979,-5.051520369046337,-1.005998790000028,-5.463807223966562,-4.558228631615428,12.713032889855448,-10.433559995764284,-8.480172426313466,-3.0743430781980052,8.010048582699135,1.295582323918758,3.9635516089356955,-3.4390119056251933,7.011772093335189,-11.395827097888684,-5.432032981900193,2.6307225716753706,-0.5847221245607628,-7.05734684185196,3.5917629670571856,17.715132839340235,0.9869808493317649,3.6024943956256976,4.884276585539759,-0.6838883710064394,2.2067889276570085,6.164259014329076,1.6843455562223326,-3.1142595798571833,1.06942174142673,3.3233889206929135,8.661749153069621,15.04785466432299,-1.5993941979416562,-1.2164458769766853,-6.615829900923309,-1.7873664243507577,4.748476706686205,9.192003543506758,-2.5406742850184614,2.841093626236507,-2.143932855280383,-0.4503099643976398,16.107971032374536,-9.288378421937786,2.4439510124737254,10.646495565486504,-2.45846063752478,-6.129412633572507,-3.2374912411565333,2.9041577133631975,9.392271444908715,-9.31746070104439,7.953366535887142,-4.086621932903846,-6.5967411087002645,-5.819127566181891,-10.473819246164233,-6.778945878070623,0.07396950580206862,8.523459709640719,-7.068638931259365,4.059001223373237,3.4731550104651987,-0.5750807009148886,8.818607807214285,-3.610359193676736,2.3819285902881404,12.413553731172442,-2.940760363503699,2.34460341400915,-12.60932072797717,2.4448796567772106,5.166797028761501,11.125703247492346,-0.468021593123666,-7.519897530871866,-0.2946123487117447,-12.889641139422558,6.679829962701383,0.14285297939116504,-9.35267093375375,-5.693685503010691,-2.9056471666042114,7.716645916590458,0.19020338719465713,15.663663382127481,-2.264121087121346,4.064374830694199,-7.002942591764139,-1.1532851123178105,-3.106475787360999,-5.985416253366424,11.972632443633643,11.886735201045695,-8.225272062493502,-13.815634517723787,7.553132288055501,-4.27951443117788,11.39520094713749,-7.5639203579517655,2.551305904319264,1.886870534590436,5.54362614268431,-3.9360249106711436,-1.8469077686870108,-1.0827526982434748,-0.09565465184767419,-0.2576168541133441,-5.8445811073441405,18.25138991801996,-14.65118201619827,11.367955811769008,-3.640906123364438,-7.29038751353162,-8.677987144392851,-1.7391816237704845,9.767056098396864,-4.420126000368619,10.780894133485077,-11.37765520132519,-3.747933334836574,-8.884637733533502,0.9398289513696909,11.334262062138016,-0.804587534790052,-23.828594865524707,-4.391314058143244,3.7109853437975246,2.5193910914287088,11.203796820447543,-11.931500232325298,2.373688857872345,2.5464553220986943,-0.23102836473966448,2.624813065453985,-5.965140681744458,-1.5902516861546019,3.4800449252427157,-0.4312496165482216,-8.578498002302574,-3.1348421813672402,-3.1157520557451974,-11.791330247732951,2.3654598237797515,-5.368724567153713,3.73062138307904,1.2011291473014296],\"type\":\"histogram\"}],                        {\"template\":{\"data\":{\"histogram2dcontour\":[{\"type\":\"histogram2dcontour\",\"colorbar\":{\"outlinewidth\":0,\"ticks\":\"\"},\"colorscale\":[[0.0,\"#0d0887\"],[0.1111111111111111,\"#46039f\"],[0.2222222222222222,\"#7201a8\"],[0.3333333333333333,\"#9c179e\"],[0.4444444444444444,\"#bd3786\"],[0.5555555555555556,\"#d8576b\"],[0.6666666666666666,\"#ed7953\"],[0.7777777777777778,\"#fb9f3a\"],[0.8888888888888888,\"#fdca26\"],[1.0,\"#f0f921\"]]}],\"choropleth\":[{\"type\":\"choropleth\",\"colorbar\":{\"outlinewidth\":0,\"ticks\":\"\"}}],\"histogram2d\":[{\"type\":\"histogram2d\",\"colorbar\":{\"outlinewidth\":0,\"ticks\":\"\"},\"colorscale\":[[0.0,\"#0d0887\"],[0.1111111111111111,\"#46039f\"],[0.2222222222222222,\"#7201a8\"],[0.3333333333333333,\"#9c179e\"],[0.4444444444444444,\"#bd3786\"],[0.5555555555555556,\"#d8576b\"],[0.6666666666666666,\"#ed7953\"],[0.7777777777777778,\"#fb9f3a\"],[0.8888888888888888,\"#fdca26\"],[1.0,\"#f0f921\"]]}],\"heatmap\":[{\"type\":\"heatmap\",\"colorbar\":{\"outlinewidth\":0,\"ticks\":\"\"},\"colorscale\":[[0.0,\"#0d0887\"],[0.1111111111111111,\"#46039f\"],[0.2222222222222222,\"#7201a8\"],[0.3333333333333333,\"#9c179e\"],[0.4444444444444444,\"#bd3786\"],[0.5555555555555556,\"#d8576b\"],[0.6666666666666666,\"#ed7953\"],[0.7777777777777778,\"#fb9f3a\"],[0.8888888888888888,\"#fdca26\"],[1.0,\"#f0f921\"]]}],\"heatmapgl\":[{\"type\":\"heatmapgl\",\"colorbar\":{\"outlinewidth\":0,\"ticks\":\"\"},\"colorscale\":[[0.0,\"#0d0887\"],[0.1111111111111111,\"#46039f\"],[0.2222222222222222,\"#7201a8\"],[0.3333333333333333,\"#9c179e\"],[0.4444444444444444,\"#bd3786\"],[0.5555555555555556,\"#d8576b\"],[0.6666666666666666,\"#ed7953\"],[0.7777777777777778,\"#fb9f3a\"],[0.8888888888888888,\"#fdca26\"],[1.0,\"#f0f921\"]]}],\"contourcarpet\":[{\"type\":\"contourcarpet\",\"colorbar\":{\"outlinewidth\":0,\"ticks\":\"\"}}],\"contour\":[{\"type\":\"contour\",\"colorbar\":{\"outlinewidth\":0,\"ticks\":\"\"},\"colorscale\":[[0.0,\"#0d0887\"],[0.1111111111111111,\"#46039f\"],[0.2222222222222222,\"#7201a8\"],[0.3333333333333333,\"#9c179e\"],[0.4444444444444444,\"#bd3786\"],[0.5555555555555556,\"#d8576b\"],[0.6666666666666666,\"#ed7953\"],[0.7777777777777778,\"#fb9f3a\"],[0.8888888888888888,\"#fdca26\"],[1.0,\"#f0f921\"]]}],\"surface\":[{\"type\":\"surface\",\"colorbar\":{\"outlinewidth\":0,\"ticks\":\"\"},\"colorscale\":[[0.0,\"#0d0887\"],[0.1111111111111111,\"#46039f\"],[0.2222222222222222,\"#7201a8\"],[0.3333333333333333,\"#9c179e\"],[0.4444444444444444,\"#bd3786\"],[0.5555555555555556,\"#d8576b\"],[0.6666666666666666,\"#ed7953\"],[0.7777777777777778,\"#fb9f3a\"],[0.8888888888888888,\"#fdca26\"],[1.0,\"#f0f921\"]]}],\"mesh3d\":[{\"type\":\"mesh3d\",\"colorbar\":{\"outlinewidth\":0,\"ticks\":\"\"}}],\"scatter\":[{\"fillpattern\":{\"fillmode\":\"overlay\",\"size\":10,\"solidity\":0.2},\"type\":\"scatter\"}],\"parcoords\":[{\"type\":\"parcoords\",\"line\":{\"colorbar\":{\"outlinewidth\":0,\"ticks\":\"\"}}}],\"scatterpolargl\":[{\"type\":\"scatterpolargl\",\"marker\":{\"colorbar\":{\"outlinewidth\":0,\"ticks\":\"\"}}}],\"bar\":[{\"error_x\":{\"color\":\"#2a3f5f\"},\"error_y\":{\"color\":\"#2a3f5f\"},\"marker\":{\"line\":{\"color\":\"#E5ECF6\",\"width\":0.5},\"pattern\":{\"fillmode\":\"overlay\",\"size\":10,\"solidity\":0.2}},\"type\":\"bar\"}],\"scattergeo\":[{\"type\":\"scattergeo\",\"marker\":{\"colorbar\":{\"outlinewidth\":0,\"ticks\":\"\"}}}],\"scatterpolar\":[{\"type\":\"scatterpolar\",\"marker\":{\"colorbar\":{\"outlinewidth\":0,\"ticks\":\"\"}}}],\"histogram\":[{\"marker\":{\"pattern\":{\"fillmode\":\"overlay\",\"size\":10,\"solidity\":0.2}},\"type\":\"histogram\"}],\"scattergl\":[{\"type\":\"scattergl\",\"marker\":{\"colorbar\":{\"outlinewidth\":0,\"ticks\":\"\"}}}],\"scatter3d\":[{\"type\":\"scatter3d\",\"line\":{\"colorbar\":{\"outlinewidth\":0,\"ticks\":\"\"}},\"marker\":{\"colorbar\":{\"outlinewidth\":0,\"ticks\":\"\"}}}],\"scattermapbox\":[{\"type\":\"scattermapbox\",\"marker\":{\"colorbar\":{\"outlinewidth\":0,\"ticks\":\"\"}}}],\"scatterternary\":[{\"type\":\"scatterternary\",\"marker\":{\"colorbar\":{\"outlinewidth\":0,\"ticks\":\"\"}}}],\"scattercarpet\":[{\"type\":\"scattercarpet\",\"marker\":{\"colorbar\":{\"outlinewidth\":0,\"ticks\":\"\"}}}],\"carpet\":[{\"aaxis\":{\"endlinecolor\":\"#2a3f5f\",\"gridcolor\":\"white\",\"linecolor\":\"white\",\"minorgridcolor\":\"white\",\"startlinecolor\":\"#2a3f5f\"},\"baxis\":{\"endlinecolor\":\"#2a3f5f\",\"gridcolor\":\"white\",\"linecolor\":\"white\",\"minorgridcolor\":\"white\",\"startlinecolor\":\"#2a3f5f\"},\"type\":\"carpet\"}],\"table\":[{\"cells\":{\"fill\":{\"color\":\"#EBF0F8\"},\"line\":{\"color\":\"white\"}},\"header\":{\"fill\":{\"color\":\"#C8D4E3\"},\"line\":{\"color\":\"white\"}},\"type\":\"table\"}],\"barpolar\":[{\"marker\":{\"line\":{\"color\":\"#E5ECF6\",\"width\":0.5},\"pattern\":{\"fillmode\":\"overlay\",\"size\":10,\"solidity\":0.2}},\"type\":\"barpolar\"}],\"pie\":[{\"automargin\":true,\"type\":\"pie\"}]},\"layout\":{\"autotypenumbers\":\"strict\",\"colorway\":[\"#636efa\",\"#EF553B\",\"#00cc96\",\"#ab63fa\",\"#FFA15A\",\"#19d3f3\",\"#FF6692\",\"#B6E880\",\"#FF97FF\",\"#FECB52\"],\"font\":{\"color\":\"#2a3f5f\"},\"hovermode\":\"closest\",\"hoverlabel\":{\"align\":\"left\"},\"paper_bgcolor\":\"white\",\"plot_bgcolor\":\"#E5ECF6\",\"polar\":{\"bgcolor\":\"#E5ECF6\",\"angularaxis\":{\"gridcolor\":\"white\",\"linecolor\":\"white\",\"ticks\":\"\"},\"radialaxis\":{\"gridcolor\":\"white\",\"linecolor\":\"white\",\"ticks\":\"\"}},\"ternary\":{\"bgcolor\":\"#E5ECF6\",\"aaxis\":{\"gridcolor\":\"white\",\"linecolor\":\"white\",\"ticks\":\"\"},\"baxis\":{\"gridcolor\":\"white\",\"linecolor\":\"white\",\"ticks\":\"\"},\"caxis\":{\"gridcolor\":\"white\",\"linecolor\":\"white\",\"ticks\":\"\"}},\"coloraxis\":{\"colorbar\":{\"outlinewidth\":0,\"ticks\":\"\"}},\"colorscale\":{\"sequential\":[[0.0,\"#0d0887\"],[0.1111111111111111,\"#46039f\"],[0.2222222222222222,\"#7201a8\"],[0.3333333333333333,\"#9c179e\"],[0.4444444444444444,\"#bd3786\"],[0.5555555555555556,\"#d8576b\"],[0.6666666666666666,\"#ed7953\"],[0.7777777777777778,\"#fb9f3a\"],[0.8888888888888888,\"#fdca26\"],[1.0,\"#f0f921\"]],\"sequentialminus\":[[0.0,\"#0d0887\"],[0.1111111111111111,\"#46039f\"],[0.2222222222222222,\"#7201a8\"],[0.3333333333333333,\"#9c179e\"],[0.4444444444444444,\"#bd3786\"],[0.5555555555555556,\"#d8576b\"],[0.6666666666666666,\"#ed7953\"],[0.7777777777777778,\"#fb9f3a\"],[0.8888888888888888,\"#fdca26\"],[1.0,\"#f0f921\"]],\"diverging\":[[0,\"#8e0152\"],[0.1,\"#c51b7d\"],[0.2,\"#de77ae\"],[0.3,\"#f1b6da\"],[0.4,\"#fde0ef\"],[0.5,\"#f7f7f7\"],[0.6,\"#e6f5d0\"],[0.7,\"#b8e186\"],[0.8,\"#7fbc41\"],[0.9,\"#4d9221\"],[1,\"#276419\"]]},\"xaxis\":{\"gridcolor\":\"white\",\"linecolor\":\"white\",\"ticks\":\"\",\"title\":{\"standoff\":15},\"zerolinecolor\":\"white\",\"automargin\":true,\"zerolinewidth\":2},\"yaxis\":{\"gridcolor\":\"white\",\"linecolor\":\"white\",\"ticks\":\"\",\"title\":{\"standoff\":15},\"zerolinecolor\":\"white\",\"automargin\":true,\"zerolinewidth\":2},\"scene\":{\"xaxis\":{\"backgroundcolor\":\"#E5ECF6\",\"gridcolor\":\"white\",\"linecolor\":\"white\",\"showbackground\":true,\"ticks\":\"\",\"zerolinecolor\":\"white\",\"gridwidth\":2},\"yaxis\":{\"backgroundcolor\":\"#E5ECF6\",\"gridcolor\":\"white\",\"linecolor\":\"white\",\"showbackground\":true,\"ticks\":\"\",\"zerolinecolor\":\"white\",\"gridwidth\":2},\"zaxis\":{\"backgroundcolor\":\"#E5ECF6\",\"gridcolor\":\"white\",\"linecolor\":\"white\",\"showbackground\":true,\"ticks\":\"\",\"zerolinecolor\":\"white\",\"gridwidth\":2}},\"shapedefaults\":{\"line\":{\"color\":\"#2a3f5f\"}},\"annotationdefaults\":{\"arrowcolor\":\"#2a3f5f\",\"arrowhead\":0,\"arrowwidth\":1},\"geo\":{\"bgcolor\":\"white\",\"landcolor\":\"#E5ECF6\",\"subunitcolor\":\"white\",\"showland\":true,\"showlakes\":true,\"lakecolor\":\"white\"},\"title\":{\"x\":0.05},\"mapbox\":{\"style\":\"light\"}}},\"title\":{\"text\":\"Histograma de Res\\u00edduos\"}},                        {\"responsive\": true}                    ).then(function(){\n",
              "                            \n",
              "var gd = document.getElementById('d852c2a5-babc-463e-8e60-1bdb73febfd8');\n",
              "var x = new MutationObserver(function (mutations, observer) {{\n",
              "        var display = window.getComputedStyle(gd).display;\n",
              "        if (!display || display === 'none') {{\n",
              "            console.log([gd, 'removed!']);\n",
              "            Plotly.purge(gd);\n",
              "            observer.disconnect();\n",
              "        }}\n",
              "}});\n",
              "\n",
              "// Listen for the removal of the full notebook cells\n",
              "var notebookContainer = gd.closest('#notebook-container');\n",
              "if (notebookContainer) {{\n",
              "    x.observe(notebookContainer, {childList: true});\n",
              "}}\n",
              "\n",
              "// Listen for the clearing of the current output cell\n",
              "var outputEl = gd.closest('.output');\n",
              "if (outputEl) {{\n",
              "    x.observe(outputEl, {childList: true});\n",
              "}}\n",
              "\n",
              "                        })                };                            </script>        </div>\n",
              "</body>\n",
              "</html>"
            ]
          },
          "metadata": {}
        }
      ]
    },
    {
      "cell_type": "markdown",
      "source": [
        "**Salvando o modelo em disco**"
      ],
      "metadata": {
        "id": "-9mutZQJZQG1"
      }
    },
    {
      "cell_type": "code",
      "source": [
        "# with open(file='model3.pkl', mode='wb') as file:\n",
        "#  pickle.dump(obj=model3, file=file)"
      ],
      "metadata": {
        "id": "fuDPj4qDXwT3"
      },
      "execution_count": 36,
      "outputs": []
    },
    {
      "cell_type": "markdown",
      "source": [
        "Carregando o modelo"
      ],
      "metadata": {
        "id": "KoVqswcGa2MD"
      }
    },
    {
      "cell_type": "code",
      "source": [
        "# with open(file='model3.pkl', mode='rb') as file:\n",
        "#  model_to_deploy = pickle.load(file)"
      ],
      "metadata": {
        "id": "v4NIFzkGa1Sg"
      },
      "execution_count": 37,
      "outputs": []
    },
    {
      "cell_type": "markdown",
      "source": [
        "## Deploy\n",
        "\n",
        "Implementação/uso do modelo"
      ],
      "metadata": {
        "id": "wjRPGdI8bS6H"
      }
    },
    {
      "cell_type": "markdown",
      "source": [
        "Colhendo valores"
      ],
      "metadata": {
        "id": "J5iyFtosbbhK"
      }
    },
    {
      "cell_type": "code",
      "source": [
        "valor_gasto_campanha = 3000\n",
        "numero_visualizacoes = 5000\n",
        "numero_cliques = 300"
      ],
      "metadata": {
        "id": "00FiE9xYbaAx"
      },
      "execution_count": 38,
      "outputs": []
    },
    {
      "cell_type": "markdown",
      "source": [
        "Criando um dataframe do pandas para os novos dados de entrada"
      ],
      "metadata": {
        "id": "DknpJPA1bvN0"
      }
    },
    {
      "cell_type": "code",
      "source": [
        "new_data = pd.DataFrame(data={\n",
        "    'valor_gasto_campanha': [valor_gasto_campanha],\n",
        "    'numero_visualizacoes': [numero_visualizacoes],\n",
        "    'numero_cliques': [numero_cliques]\n",
        "})\n",
        "new_data.head()"
      ],
      "metadata": {
        "colab": {
          "base_uri": "https://localhost:8080/",
          "height": 80
        },
        "id": "aBocpNTXbq4p",
        "outputId": "f0bdfd37-ac23-4885-938a-a93a864c67be"
      },
      "execution_count": 39,
      "outputs": [
        {
          "output_type": "execute_result",
          "data": {
            "text/plain": [
              "   valor_gasto_campanha  numero_visualizacoes  numero_cliques\n",
              "0                  3000                  5000             300"
            ],
            "text/html": [
              "\n",
              "  <div id=\"df-e7a9bac8-300c-49c7-9b8d-69a83005b2df\" class=\"colab-df-container\">\n",
              "    <div>\n",
              "<style scoped>\n",
              "    .dataframe tbody tr th:only-of-type {\n",
              "        vertical-align: middle;\n",
              "    }\n",
              "\n",
              "    .dataframe tbody tr th {\n",
              "        vertical-align: top;\n",
              "    }\n",
              "\n",
              "    .dataframe thead th {\n",
              "        text-align: right;\n",
              "    }\n",
              "</style>\n",
              "<table border=\"1\" class=\"dataframe\">\n",
              "  <thead>\n",
              "    <tr style=\"text-align: right;\">\n",
              "      <th></th>\n",
              "      <th>valor_gasto_campanha</th>\n",
              "      <th>numero_visualizacoes</th>\n",
              "      <th>numero_cliques</th>\n",
              "    </tr>\n",
              "  </thead>\n",
              "  <tbody>\n",
              "    <tr>\n",
              "      <th>0</th>\n",
              "      <td>3000</td>\n",
              "      <td>5000</td>\n",
              "      <td>300</td>\n",
              "    </tr>\n",
              "  </tbody>\n",
              "</table>\n",
              "</div>\n",
              "    <div class=\"colab-df-buttons\">\n",
              "\n",
              "  <div class=\"colab-df-container\">\n",
              "    <button class=\"colab-df-convert\" onclick=\"convertToInteractive('df-e7a9bac8-300c-49c7-9b8d-69a83005b2df')\"\n",
              "            title=\"Convert this dataframe to an interactive table.\"\n",
              "            style=\"display:none;\">\n",
              "\n",
              "  <svg xmlns=\"http://www.w3.org/2000/svg\" height=\"24px\" viewBox=\"0 -960 960 960\">\n",
              "    <path d=\"M120-120v-720h720v720H120Zm60-500h600v-160H180v160Zm220 220h160v-160H400v160Zm0 220h160v-160H400v160ZM180-400h160v-160H180v160Zm440 0h160v-160H620v160ZM180-180h160v-160H180v160Zm440 0h160v-160H620v160Z\"/>\n",
              "  </svg>\n",
              "    </button>\n",
              "\n",
              "  <style>\n",
              "    .colab-df-container {\n",
              "      display:flex;\n",
              "      gap: 12px;\n",
              "    }\n",
              "\n",
              "    .colab-df-convert {\n",
              "      background-color: #E8F0FE;\n",
              "      border: none;\n",
              "      border-radius: 50%;\n",
              "      cursor: pointer;\n",
              "      display: none;\n",
              "      fill: #1967D2;\n",
              "      height: 32px;\n",
              "      padding: 0 0 0 0;\n",
              "      width: 32px;\n",
              "    }\n",
              "\n",
              "    .colab-df-convert:hover {\n",
              "      background-color: #E2EBFA;\n",
              "      box-shadow: 0px 1px 2px rgba(60, 64, 67, 0.3), 0px 1px 3px 1px rgba(60, 64, 67, 0.15);\n",
              "      fill: #174EA6;\n",
              "    }\n",
              "\n",
              "    .colab-df-buttons div {\n",
              "      margin-bottom: 4px;\n",
              "    }\n",
              "\n",
              "    [theme=dark] .colab-df-convert {\n",
              "      background-color: #3B4455;\n",
              "      fill: #D2E3FC;\n",
              "    }\n",
              "\n",
              "    [theme=dark] .colab-df-convert:hover {\n",
              "      background-color: #434B5C;\n",
              "      box-shadow: 0px 1px 3px 1px rgba(0, 0, 0, 0.15);\n",
              "      filter: drop-shadow(0px 1px 2px rgba(0, 0, 0, 0.3));\n",
              "      fill: #FFFFFF;\n",
              "    }\n",
              "  </style>\n",
              "\n",
              "    <script>\n",
              "      const buttonEl =\n",
              "        document.querySelector('#df-e7a9bac8-300c-49c7-9b8d-69a83005b2df button.colab-df-convert');\n",
              "      buttonEl.style.display =\n",
              "        google.colab.kernel.accessAllowed ? 'block' : 'none';\n",
              "\n",
              "      async function convertToInteractive(key) {\n",
              "        const element = document.querySelector('#df-e7a9bac8-300c-49c7-9b8d-69a83005b2df');\n",
              "        const dataTable =\n",
              "          await google.colab.kernel.invokeFunction('convertToInteractive',\n",
              "                                                    [key], {});\n",
              "        if (!dataTable) return;\n",
              "\n",
              "        const docLinkHtml = 'Like what you see? Visit the ' +\n",
              "          '<a target=\"_blank\" href=https://colab.research.google.com/notebooks/data_table.ipynb>data table notebook</a>'\n",
              "          + ' to learn more about interactive tables.';\n",
              "        element.innerHTML = '';\n",
              "        dataTable['output_type'] = 'display_data';\n",
              "        await google.colab.output.renderOutput(dataTable, element);\n",
              "        const docLink = document.createElement('div');\n",
              "        docLink.innerHTML = docLinkHtml;\n",
              "        element.appendChild(docLink);\n",
              "      }\n",
              "    </script>\n",
              "  </div>\n",
              "\n",
              "\n",
              "    </div>\n",
              "  </div>\n"
            ],
            "application/vnd.google.colaboratory.intrinsic+json": {
              "type": "dataframe",
              "variable_name": "new_data",
              "summary": "{\n  \"name\": \"new_data\",\n  \"rows\": 1,\n  \"fields\": [\n    {\n      \"column\": \"valor_gasto_campanha\",\n      \"properties\": {\n        \"dtype\": \"number\",\n        \"std\": null,\n        \"min\": 3000,\n        \"max\": 3000,\n        \"num_unique_values\": 1,\n        \"samples\": [\n          3000\n        ],\n        \"semantic_type\": \"\",\n        \"description\": \"\"\n      }\n    },\n    {\n      \"column\": \"numero_visualizacoes\",\n      \"properties\": {\n        \"dtype\": \"number\",\n        \"std\": null,\n        \"min\": 5000,\n        \"max\": 5000,\n        \"num_unique_values\": 1,\n        \"samples\": [\n          5000\n        ],\n        \"semantic_type\": \"\",\n        \"description\": \"\"\n      }\n    },\n    {\n      \"column\": \"numero_cliques\",\n      \"properties\": {\n        \"dtype\": \"number\",\n        \"std\": null,\n        \"min\": 300,\n        \"max\": 300,\n        \"num_unique_values\": 1,\n        \"samples\": [\n          300\n        ],\n        \"semantic_type\": \"\",\n        \"description\": \"\"\n      }\n    }\n  ]\n}"
            }
          },
          "metadata": {},
          "execution_count": 39
        }
      ]
    },
    {
      "cell_type": "markdown",
      "source": [
        "Realizando o processo de Engenharia de atributos para termos as mesmas entradas que o modelo teve em seu treinamento.\n",
        "\n",
        "**Toda e qualquer transformação aplicadas nos dados de treinos deve ser aplicado nos dados de teste e novos dados.**"
      ],
      "metadata": {
        "id": "fxQHcCQ-de8e"
      }
    },
    {
      "cell_type": "code",
      "source": [
        "new_data['taxa_clique'] = new_data['numero_cliques'] / new_data['numero_visualizacoes']\n",
        "new_data.head()"
      ],
      "metadata": {
        "colab": {
          "base_uri": "https://localhost:8080/",
          "height": 80
        },
        "id": "LaSxTSqIcRSp",
        "outputId": "2b63c3ba-af2a-49c9-de07-eab5abd14e79"
      },
      "execution_count": 40,
      "outputs": [
        {
          "output_type": "execute_result",
          "data": {
            "text/plain": [
              "   valor_gasto_campanha  numero_visualizacoes  numero_cliques  taxa_clique\n",
              "0                  3000                  5000             300         0.06"
            ],
            "text/html": [
              "\n",
              "  <div id=\"df-8d4bbb9b-b803-4cfc-9863-9c56eedb7eb8\" class=\"colab-df-container\">\n",
              "    <div>\n",
              "<style scoped>\n",
              "    .dataframe tbody tr th:only-of-type {\n",
              "        vertical-align: middle;\n",
              "    }\n",
              "\n",
              "    .dataframe tbody tr th {\n",
              "        vertical-align: top;\n",
              "    }\n",
              "\n",
              "    .dataframe thead th {\n",
              "        text-align: right;\n",
              "    }\n",
              "</style>\n",
              "<table border=\"1\" class=\"dataframe\">\n",
              "  <thead>\n",
              "    <tr style=\"text-align: right;\">\n",
              "      <th></th>\n",
              "      <th>valor_gasto_campanha</th>\n",
              "      <th>numero_visualizacoes</th>\n",
              "      <th>numero_cliques</th>\n",
              "      <th>taxa_clique</th>\n",
              "    </tr>\n",
              "  </thead>\n",
              "  <tbody>\n",
              "    <tr>\n",
              "      <th>0</th>\n",
              "      <td>3000</td>\n",
              "      <td>5000</td>\n",
              "      <td>300</td>\n",
              "      <td>0.06</td>\n",
              "    </tr>\n",
              "  </tbody>\n",
              "</table>\n",
              "</div>\n",
              "    <div class=\"colab-df-buttons\">\n",
              "\n",
              "  <div class=\"colab-df-container\">\n",
              "    <button class=\"colab-df-convert\" onclick=\"convertToInteractive('df-8d4bbb9b-b803-4cfc-9863-9c56eedb7eb8')\"\n",
              "            title=\"Convert this dataframe to an interactive table.\"\n",
              "            style=\"display:none;\">\n",
              "\n",
              "  <svg xmlns=\"http://www.w3.org/2000/svg\" height=\"24px\" viewBox=\"0 -960 960 960\">\n",
              "    <path d=\"M120-120v-720h720v720H120Zm60-500h600v-160H180v160Zm220 220h160v-160H400v160Zm0 220h160v-160H400v160ZM180-400h160v-160H180v160Zm440 0h160v-160H620v160ZM180-180h160v-160H180v160Zm440 0h160v-160H620v160Z\"/>\n",
              "  </svg>\n",
              "    </button>\n",
              "\n",
              "  <style>\n",
              "    .colab-df-container {\n",
              "      display:flex;\n",
              "      gap: 12px;\n",
              "    }\n",
              "\n",
              "    .colab-df-convert {\n",
              "      background-color: #E8F0FE;\n",
              "      border: none;\n",
              "      border-radius: 50%;\n",
              "      cursor: pointer;\n",
              "      display: none;\n",
              "      fill: #1967D2;\n",
              "      height: 32px;\n",
              "      padding: 0 0 0 0;\n",
              "      width: 32px;\n",
              "    }\n",
              "\n",
              "    .colab-df-convert:hover {\n",
              "      background-color: #E2EBFA;\n",
              "      box-shadow: 0px 1px 2px rgba(60, 64, 67, 0.3), 0px 1px 3px 1px rgba(60, 64, 67, 0.15);\n",
              "      fill: #174EA6;\n",
              "    }\n",
              "\n",
              "    .colab-df-buttons div {\n",
              "      margin-bottom: 4px;\n",
              "    }\n",
              "\n",
              "    [theme=dark] .colab-df-convert {\n",
              "      background-color: #3B4455;\n",
              "      fill: #D2E3FC;\n",
              "    }\n",
              "\n",
              "    [theme=dark] .colab-df-convert:hover {\n",
              "      background-color: #434B5C;\n",
              "      box-shadow: 0px 1px 3px 1px rgba(0, 0, 0, 0.15);\n",
              "      filter: drop-shadow(0px 1px 2px rgba(0, 0, 0, 0.3));\n",
              "      fill: #FFFFFF;\n",
              "    }\n",
              "  </style>\n",
              "\n",
              "    <script>\n",
              "      const buttonEl =\n",
              "        document.querySelector('#df-8d4bbb9b-b803-4cfc-9863-9c56eedb7eb8 button.colab-df-convert');\n",
              "      buttonEl.style.display =\n",
              "        google.colab.kernel.accessAllowed ? 'block' : 'none';\n",
              "\n",
              "      async function convertToInteractive(key) {\n",
              "        const element = document.querySelector('#df-8d4bbb9b-b803-4cfc-9863-9c56eedb7eb8');\n",
              "        const dataTable =\n",
              "          await google.colab.kernel.invokeFunction('convertToInteractive',\n",
              "                                                    [key], {});\n",
              "        if (!dataTable) return;\n",
              "\n",
              "        const docLinkHtml = 'Like what you see? Visit the ' +\n",
              "          '<a target=\"_blank\" href=https://colab.research.google.com/notebooks/data_table.ipynb>data table notebook</a>'\n",
              "          + ' to learn more about interactive tables.';\n",
              "        element.innerHTML = '';\n",
              "        dataTable['output_type'] = 'display_data';\n",
              "        await google.colab.output.renderOutput(dataTable, element);\n",
              "        const docLink = document.createElement('div');\n",
              "        docLink.innerHTML = docLinkHtml;\n",
              "        element.appendChild(docLink);\n",
              "      }\n",
              "    </script>\n",
              "  </div>\n",
              "\n",
              "\n",
              "    </div>\n",
              "  </div>\n"
            ],
            "application/vnd.google.colaboratory.intrinsic+json": {
              "type": "dataframe",
              "variable_name": "new_data",
              "summary": "{\n  \"name\": \"new_data\",\n  \"rows\": 1,\n  \"fields\": [\n    {\n      \"column\": \"valor_gasto_campanha\",\n      \"properties\": {\n        \"dtype\": \"number\",\n        \"std\": null,\n        \"min\": 3000,\n        \"max\": 3000,\n        \"num_unique_values\": 1,\n        \"samples\": [\n          3000\n        ],\n        \"semantic_type\": \"\",\n        \"description\": \"\"\n      }\n    },\n    {\n      \"column\": \"numero_visualizacoes\",\n      \"properties\": {\n        \"dtype\": \"number\",\n        \"std\": null,\n        \"min\": 5000,\n        \"max\": 5000,\n        \"num_unique_values\": 1,\n        \"samples\": [\n          5000\n        ],\n        \"semantic_type\": \"\",\n        \"description\": \"\"\n      }\n    },\n    {\n      \"column\": \"numero_cliques\",\n      \"properties\": {\n        \"dtype\": \"number\",\n        \"std\": null,\n        \"min\": 300,\n        \"max\": 300,\n        \"num_unique_values\": 1,\n        \"samples\": [\n          300\n        ],\n        \"semantic_type\": \"\",\n        \"description\": \"\"\n      }\n    },\n    {\n      \"column\": \"taxa_clique\",\n      \"properties\": {\n        \"dtype\": \"number\",\n        \"std\": null,\n        \"min\": 0.06,\n        \"max\": 0.06,\n        \"num_unique_values\": 1,\n        \"samples\": [\n          0.06\n        ],\n        \"semantic_type\": \"\",\n        \"description\": \"\"\n      }\n    }\n  ]\n}"
            }
          },
          "metadata": {},
          "execution_count": 40
        }
      ]
    },
    {
      "cell_type": "code",
      "source": [
        "new_data = new_data.drop(columns=['numero_cliques', 'numero_visualizacoes'])\n",
        "new_data.head()"
      ],
      "metadata": {
        "colab": {
          "base_uri": "https://localhost:8080/",
          "height": 80
        },
        "id": "4_ilgytjd3iG",
        "outputId": "0315ab3c-4337-4ade-a523-7a700ef6ec51"
      },
      "execution_count": 41,
      "outputs": [
        {
          "output_type": "execute_result",
          "data": {
            "text/plain": [
              "   valor_gasto_campanha  taxa_clique\n",
              "0                  3000         0.06"
            ],
            "text/html": [
              "\n",
              "  <div id=\"df-c81f8fea-ad03-4a44-99b9-154cb451f31f\" class=\"colab-df-container\">\n",
              "    <div>\n",
              "<style scoped>\n",
              "    .dataframe tbody tr th:only-of-type {\n",
              "        vertical-align: middle;\n",
              "    }\n",
              "\n",
              "    .dataframe tbody tr th {\n",
              "        vertical-align: top;\n",
              "    }\n",
              "\n",
              "    .dataframe thead th {\n",
              "        text-align: right;\n",
              "    }\n",
              "</style>\n",
              "<table border=\"1\" class=\"dataframe\">\n",
              "  <thead>\n",
              "    <tr style=\"text-align: right;\">\n",
              "      <th></th>\n",
              "      <th>valor_gasto_campanha</th>\n",
              "      <th>taxa_clique</th>\n",
              "    </tr>\n",
              "  </thead>\n",
              "  <tbody>\n",
              "    <tr>\n",
              "      <th>0</th>\n",
              "      <td>3000</td>\n",
              "      <td>0.06</td>\n",
              "    </tr>\n",
              "  </tbody>\n",
              "</table>\n",
              "</div>\n",
              "    <div class=\"colab-df-buttons\">\n",
              "\n",
              "  <div class=\"colab-df-container\">\n",
              "    <button class=\"colab-df-convert\" onclick=\"convertToInteractive('df-c81f8fea-ad03-4a44-99b9-154cb451f31f')\"\n",
              "            title=\"Convert this dataframe to an interactive table.\"\n",
              "            style=\"display:none;\">\n",
              "\n",
              "  <svg xmlns=\"http://www.w3.org/2000/svg\" height=\"24px\" viewBox=\"0 -960 960 960\">\n",
              "    <path d=\"M120-120v-720h720v720H120Zm60-500h600v-160H180v160Zm220 220h160v-160H400v160Zm0 220h160v-160H400v160ZM180-400h160v-160H180v160Zm440 0h160v-160H620v160ZM180-180h160v-160H180v160Zm440 0h160v-160H620v160Z\"/>\n",
              "  </svg>\n",
              "    </button>\n",
              "\n",
              "  <style>\n",
              "    .colab-df-container {\n",
              "      display:flex;\n",
              "      gap: 12px;\n",
              "    }\n",
              "\n",
              "    .colab-df-convert {\n",
              "      background-color: #E8F0FE;\n",
              "      border: none;\n",
              "      border-radius: 50%;\n",
              "      cursor: pointer;\n",
              "      display: none;\n",
              "      fill: #1967D2;\n",
              "      height: 32px;\n",
              "      padding: 0 0 0 0;\n",
              "      width: 32px;\n",
              "    }\n",
              "\n",
              "    .colab-df-convert:hover {\n",
              "      background-color: #E2EBFA;\n",
              "      box-shadow: 0px 1px 2px rgba(60, 64, 67, 0.3), 0px 1px 3px 1px rgba(60, 64, 67, 0.15);\n",
              "      fill: #174EA6;\n",
              "    }\n",
              "\n",
              "    .colab-df-buttons div {\n",
              "      margin-bottom: 4px;\n",
              "    }\n",
              "\n",
              "    [theme=dark] .colab-df-convert {\n",
              "      background-color: #3B4455;\n",
              "      fill: #D2E3FC;\n",
              "    }\n",
              "\n",
              "    [theme=dark] .colab-df-convert:hover {\n",
              "      background-color: #434B5C;\n",
              "      box-shadow: 0px 1px 3px 1px rgba(0, 0, 0, 0.15);\n",
              "      filter: drop-shadow(0px 1px 2px rgba(0, 0, 0, 0.3));\n",
              "      fill: #FFFFFF;\n",
              "    }\n",
              "  </style>\n",
              "\n",
              "    <script>\n",
              "      const buttonEl =\n",
              "        document.querySelector('#df-c81f8fea-ad03-4a44-99b9-154cb451f31f button.colab-df-convert');\n",
              "      buttonEl.style.display =\n",
              "        google.colab.kernel.accessAllowed ? 'block' : 'none';\n",
              "\n",
              "      async function convertToInteractive(key) {\n",
              "        const element = document.querySelector('#df-c81f8fea-ad03-4a44-99b9-154cb451f31f');\n",
              "        const dataTable =\n",
              "          await google.colab.kernel.invokeFunction('convertToInteractive',\n",
              "                                                    [key], {});\n",
              "        if (!dataTable) return;\n",
              "\n",
              "        const docLinkHtml = 'Like what you see? Visit the ' +\n",
              "          '<a target=\"_blank\" href=https://colab.research.google.com/notebooks/data_table.ipynb>data table notebook</a>'\n",
              "          + ' to learn more about interactive tables.';\n",
              "        element.innerHTML = '';\n",
              "        dataTable['output_type'] = 'display_data';\n",
              "        await google.colab.output.renderOutput(dataTable, element);\n",
              "        const docLink = document.createElement('div');\n",
              "        docLink.innerHTML = docLinkHtml;\n",
              "        element.appendChild(docLink);\n",
              "      }\n",
              "    </script>\n",
              "  </div>\n",
              "\n",
              "\n",
              "    </div>\n",
              "  </div>\n"
            ],
            "application/vnd.google.colaboratory.intrinsic+json": {
              "type": "dataframe",
              "variable_name": "new_data",
              "summary": "{\n  \"name\": \"new_data\",\n  \"rows\": 1,\n  \"fields\": [\n    {\n      \"column\": \"valor_gasto_campanha\",\n      \"properties\": {\n        \"dtype\": \"number\",\n        \"std\": null,\n        \"min\": 3000,\n        \"max\": 3000,\n        \"num_unique_values\": 1,\n        \"samples\": [\n          3000\n        ],\n        \"semantic_type\": \"\",\n        \"description\": \"\"\n      }\n    },\n    {\n      \"column\": \"taxa_clique\",\n      \"properties\": {\n        \"dtype\": \"number\",\n        \"std\": null,\n        \"min\": 0.06,\n        \"max\": 0.06,\n        \"num_unique_values\": 1,\n        \"samples\": [\n          0.06\n        ],\n        \"semantic_type\": \"\",\n        \"description\": \"\"\n      }\n    }\n  ]\n}"
            }
          },
          "metadata": {},
          "execution_count": 41
        }
      ]
    },
    {
      "cell_type": "markdown",
      "source": [
        "Realizando a predição"
      ],
      "metadata": {
        "id": "qM_9fWqNflrh"
      }
    },
    {
      "cell_type": "code",
      "source": [
        "predict = model3.predict(X=new_data)\n",
        "predict"
      ],
      "metadata": {
        "colab": {
          "base_uri": "https://localhost:8080/"
        },
        "id": "pbXBBULofnYC",
        "outputId": "d54621a1-e962-4e8b-f2ee-c35c31cca162"
      },
      "execution_count": 42,
      "outputs": [
        {
          "output_type": "execute_result",
          "data": {
            "text/plain": [
              "array([322.04410935])"
            ]
          },
          "metadata": {},
          "execution_count": 42
        }
      ]
    },
    {
      "cell_type": "markdown",
      "source": [
        "Ou seja, se a empresa investir R$ 3000,00 em campanha, tiver 5000 visualizações e tiver 300 cliques no anúncia, ou local específico, terá **322 usuários convertidos**."
      ],
      "metadata": {
        "id": "M02qujp_gjkS"
      }
    }
  ],
  "metadata": {
    "colab": {
      "provenance": [],
      "collapsed_sections": [
        "oCMq0Kcr_4zi",
        "wXt-2JLC_qln",
        "nCZOfUw-E9aL",
        "4aHpUY-SF8IY",
        "Z4PRGr9Jj0Ni",
        "1aNMkK3skL81",
        "uOrYMktcBUvT",
        "Osw-3yznFGKv"
      ],
      "authorship_tag": "ABX9TyNazlbYfwxQ3ziVY0nj8oCn",
      "include_colab_link": true
    },
    "kernelspec": {
      "display_name": "Python 3",
      "name": "python3"
    },
    "language_info": {
      "name": "python"
    }
  },
  "nbformat": 4,
  "nbformat_minor": 0
}